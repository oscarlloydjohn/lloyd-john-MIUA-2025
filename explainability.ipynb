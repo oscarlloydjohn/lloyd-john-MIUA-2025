{
 "cells": [
  {
   "cell_type": "code",
   "execution_count": 61,
   "metadata": {},
   "outputs": [],
   "source": [
    "# Torch\n",
    "import torch\n",
    "import torch.optim as optim\n",
    "from torcheval.metrics import *\n",
    "\n",
    "# Benny pointnet\n",
    "from pointnet2_benny import pointnet2_cls_msg\n",
    "import cnn3d_xmuyzz.ResNetV2\n",
    "\n",
    "import dill as pickle\n",
    "from captum.attr import *\n",
    "import pyvista as pv\n",
    "from matplotlib.colors import Normalize\n",
    "from random import sample\n",
    "\n",
    "# Custom modules\n",
    "from preprocessing_post_fastsurfer.subject import *\n",
    "from preprocessing_post_fastsurfer.vis import *\n",
    "from ozzy_torch_utils.split_dataset import *\n",
    "from ozzy_torch_utils.subject_dataset import *\n",
    "from ozzy_torch_utils.plot import *\n",
    "from ozzy_torch_utils.train_nn import *\n",
    "from ozzy_torch_utils.model_parameters import *\n",
    "from ozzy_torch_utils.init_dataloaders import *"
   ]
  },
  {
   "cell_type": "code",
   "execution_count": 62,
   "metadata": {},
   "outputs": [],
   "source": [
    "# Load model\n",
    "pickle_pathname = \"/uolstore/home/student_lnxhome01/sc22olj/Compsci/year3/individual-project-COMP3931/individual-project-sc22olj/runs/run_18-03-2025_15-35-05/run_18-03-2025_15-35-05_params.pkl\"\n",
    "\n",
    "with open(pickle_pathname, 'rb') as file:\n",
    "    \n",
    "    model_parameters = pickle.load(file)\n",
    "    \n",
    "model = model_parameters.model"
   ]
  },
  {
   "cell_type": "code",
   "execution_count": 63,
   "metadata": {},
   "outputs": [],
   "source": [
    "# Load dataset\n",
    "data_path = \"/uolstore/home/users/sc22olj/Compsci/year3/individual-project-COMP3931/individual-project-sc22olj/scratch-disk/full-datasets/hcampus-1.5T-cohort\"\n",
    "\n",
    "subject_list = find_subjects_parallel(data_path)"
   ]
  },
  {
   "cell_type": "code",
   "execution_count": 84,
   "metadata": {},
   "outputs": [],
   "source": [
    "model.eval()\n",
    "\n",
    "with torch.no_grad():\n",
    "\n",
    "    # Wrap model as pointnet_cls outputs a tuple for some reason\n",
    "    wrapped_model = lambda x: model(x)[0]\n",
    "\n",
    "    ig = IntegratedGradients(wrapped_model)\n",
    "    \n",
    "    # Want to average over the entire dataset, but how can we do this with a point cloud where points are unordered\n",
    "    #for subject in subject_list:\n",
    "        \n",
    "    subject = sample(subject_list, 1)[0]\n",
    "        \n",
    "    # Example data\n",
    "    cloud = np.load(os.path.join(subject.path, \"Left-Hippocampus_aligned_cropped_mesh_downsampledcloud.npy\"))\n",
    "\n",
    "    input = torch.from_numpy(cloud)\n",
    "\n",
    "    # NN expects float32 on cuda\n",
    "    input = input.type(torch.float32).to('cuda')\n",
    "\n",
    "    # Unsqueeze to add empty batch dimension then transpose  to 3 x n as expected by pointnet\n",
    "    input = input.unsqueeze(0).transpose(2, 1)\n",
    "    \n",
    "    output = wrapped_model(input)\n",
    "    \n",
    "    prediction = torch.argmax(torch.nn.functional.softmax(output, dim=1)).cpu().numpy()\n",
    "    \n",
    "    mapping = {\n",
    "        0: 'CN',\n",
    "        1: 'MCI',\n",
    "    }\n",
    "        \n",
    "    # Get the value of the mapping, -1 if not found\n",
    "    pred_research_group = mapping.get(int(prediction), -1)\n",
    "\n",
    "    # Baseline is zeros, however could also be some kind of noise cloud\n",
    "    baseline = torch.zeros_like(input)\n",
    "\n",
    "    attributions = ig.attribute(input, baseline, target=1, internal_batch_size=1)\n",
    "    \n",
    "    # Transpose back to n x 3 and remove batch dim\n",
    "    attributions = attributions.transpose(1, 2).squeeze(0)\n",
    "    \n",
    "    # Move to CPU for processing\n",
    "    attributions = attributions.cpu().numpy()\n",
    "    "
   ]
  },
  {
   "cell_type": "code",
   "execution_count": 87,
   "metadata": {},
   "outputs": [
    {
     "data": {
      "application/vnd.jupyter.widget-view+json": {
       "model_id": "277d1088e88245fcb7cac566581da0fe",
       "version_major": 2,
       "version_minor": 0
      },
      "text/plain": [
       "Widget(value='<iframe src=\"http://localhost:44215/index.html?ui=P_0x7fe7a8b49010_29&reconnect=auto\" class=\"pyv…"
      ]
     },
     "metadata": {},
     "output_type": "display_data"
    }
   ],
   "source": [
    "# Sum x, y and z values for an overall attribution for that point\n",
    "xyz_sum = np.sum(attributions, axis=1)\n",
    "\n",
    "xyz_sum = np.sign(xyz_sum) * np.power(np.abs(xyz_sum), 0.1)\n",
    "\n",
    "# Normalise into range -1, 1 such that positive and negative attributions are preserved\n",
    "norm = Normalize(vmin = -np.max(np.abs(xyz_sum)), vmax = np.max(np.abs(xyz_sum)))\n",
    "\n",
    "norm_attributions = norm(xyz_sum)\n",
    "\n",
    "# Cmap for pyvista\n",
    "cmap = plt.get_cmap('seismic')\n",
    "colours = cmap(norm_attributions)\n",
    "colours_rgb = (colours[:, :3] * 255).astype(np.uint8)\n",
    "\n",
    "pv_cloud = pv.PolyData(cloud)\n",
    "\n",
    "pv_cloud['colors'] = colours_rgb\n",
    "    \n",
    "plotter = pv.Plotter()\n",
    "\n",
    "plotter.add_points(pv_cloud, scalars='colors', rgb=True)\n",
    "\n",
    "plotter.set_background(\"black\")\n",
    "\n",
    "# THIS IS NOT FOR USE, IT IS RUNNING PREDICTIONS ON TRAINING DATA!!\n",
    "plotter.add_text(\"This is just a test running on training data!\", color='white')\n",
    "plotter.add_text(f\"True class: {str(subject.subject_metadata['Group'].iloc[0])} \\n Predicted class: {pred_research_group} \", color='white', position='upper_right')\n",
    "\n",
    "plotter.show()"
   ]
  },
  {
   "cell_type": "code",
   "execution_count": null,
   "metadata": {},
   "outputs": [],
   "source": []
  }
 ],
 "metadata": {
  "kernelspec": {
   "display_name": ".venv",
   "language": "python",
   "name": "python3"
  },
  "language_info": {
   "codemirror_mode": {
    "name": "ipython",
    "version": 3
   },
   "file_extension": ".py",
   "mimetype": "text/x-python",
   "name": "python",
   "nbconvert_exporter": "python",
   "pygments_lexer": "ipython3",
   "version": "3.12.3"
  }
 },
 "nbformat": 4,
 "nbformat_minor": 2
}

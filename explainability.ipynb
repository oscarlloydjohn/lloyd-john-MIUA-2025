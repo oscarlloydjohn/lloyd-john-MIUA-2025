{
 "cells": [
  {
   "cell_type": "code",
   "execution_count": 2,
   "metadata": {},
   "outputs": [],
   "source": [
    "# Torch\n",
    "import torch\n",
    "import torch.optim as optim\n",
    "from torcheval.metrics import *\n",
    "\n",
    "import dill as pickle\n",
    "from captum.attr import *\n",
    "import random\n",
    "import numpy as np\n",
    "\n",
    "# Custom modules\n",
    "from preprocessing_post_fastsurfer.subject import *\n",
    "from preprocessing_post_fastsurfer.vis import *\n",
    "from ozzy_torch_utils.split_dataset import *\n",
    "from ozzy_torch_utils.subject_dataset import *\n",
    "from ozzy_torch_utils.plot import *\n",
    "from ozzy_torch_utils.train_nn import *\n",
    "from ozzy_torch_utils.model_parameters import *\n",
    "from ozzy_torch_utils.init_dataloaders import *\n",
    "from explain_pointnet import *"
   ]
  },
  {
   "cell_type": "code",
   "execution_count": 3,
   "metadata": {},
   "outputs": [],
   "source": [
    "# Load model\n",
    "pickle_pathname = \"/uolstore/home/student_lnxhome01/sc22olj/Compsci/year3/individual-project-COMP3931/individual-project-sc22olj/runs/run_18-03-2025_15-35-05/run_18-03-2025_15-35-05_params.pkl\"\n",
    "\n",
    "with open(pickle_pathname, 'rb') as file:\n",
    "    \n",
    "    model_parameters = pickle.load(file)\n",
    "    \n",
    "model = model_parameters.model"
   ]
  },
  {
   "cell_type": "code",
   "execution_count": 4,
   "metadata": {},
   "outputs": [],
   "source": [
    "# Load dataset\n",
    "data_path = \"/uolstore/home/users/sc22olj/Compsci/year3/individual-project-COMP3931/individual-project-sc22olj/scratch-disk/full-datasets/hcampus-1.5T-cohort\"\n",
    "\n",
    "subject_list = find_subjects_parallel(data_path)"
   ]
  },
  {
   "cell_type": "markdown",
   "metadata": {},
   "source": [
    "Interesting experiment comparing attributions from two permutations of the same cloud"
   ]
  },
  {
   "cell_type": "code",
   "execution_count": 5,
   "metadata": {},
   "outputs": [],
   "source": [
    "subject = sample(subject_list, 1)[0]\n",
    "\n",
    "cloud = np.load(os.path.join(subject.path, \"Left-Hippocampus_aligned_cropped_mesh_downsampledcloud.npy\"))\n",
    "    "
   ]
  },
  {
   "cell_type": "code",
   "execution_count": 6,
   "metadata": {},
   "outputs": [
    {
     "name": "stdout",
     "output_type": "stream",
     "text": [
      "[[4.52784230e-07 1.04532260e-07 6.22016916e-08]\n",
      " [9.18408782e-07 4.80062276e-07 9.31519020e-07]\n",
      " [1.10254554e-10 1.03085823e-10 4.67121312e-10]\n",
      " ...\n",
      " [5.84079235e-04 9.14718875e-04 5.08224535e-04]\n",
      " [1.89030954e-02 1.29853705e-02 9.51814267e-03]\n",
      " [2.26426982e-04 5.28159300e-05 5.64208816e-05]]\n"
     ]
    }
   ],
   "source": [
    "device = torch.accelerator.current_accelerator().type if torch.accelerator.is_available() else \"cpu\"\n",
    "\n",
    "attributions_orig, pred_research_group_orig = pointnet_ig(model, cloud, device)\n",
    "\n",
    "indices_shuffled = np.random.permutation(cloud.shape[0])\n",
    "\n",
    "cloud_shuffled = cloud[indices_shuffled, :]\n",
    "\n",
    "attributions_shuffle, pred_research_group_shuffle = pointnet_ig(model, cloud_shuffled, device)\n",
    "\n",
    "attributions_unshuffle = np.zeros_like(attributions_shuffle)\n",
    "\n",
    "attributions_unshuffle[np.argsort(indices_shuffled), :] = attributions_shuffle\n",
    "\n",
    "attributions_diff = np.abs(attributions_orig - attributions_unshuffle)\n",
    "\n",
    "print(attributions_diff)\n",
    "\n",
    "if pred_research_group_orig != pred_research_group_shuffle:\n",
    "    \n",
    "    print(\"Research groups are different after shuffle\")\n",
    "    "
   ]
  },
  {
   "cell_type": "code",
   "execution_count": 7,
   "metadata": {},
   "outputs": [
    {
     "data": {
      "application/vnd.jupyter.widget-view+json": {
       "model_id": "900378c83ef443ba8a2a3e759b21786e",
       "version_major": 2,
       "version_minor": 0
      },
      "text/plain": [
       "Widget(value='<iframe src=\"http://localhost:45247/index.html?ui=P_0x7f19eae70ec0_0&reconnect=auto\" class=\"pyvi…"
      ]
     },
     "metadata": {},
     "output_type": "display_data"
    },
    {
     "data": {
      "application/vnd.jupyter.widget-view+json": {
       "model_id": "a44d3c07a0604143a0e9b42088df8061",
       "version_major": 2,
       "version_minor": 0
      },
      "text/plain": [
       "Widget(value='<iframe src=\"http://localhost:45247/index.html?ui=P_0x7f18f42b48f0_1&reconnect=auto\" class=\"pyvi…"
      ]
     },
     "metadata": {},
     "output_type": "display_data"
    },
    {
     "data": {
      "application/vnd.jupyter.widget-view+json": {
       "model_id": "dd6b1b94535d431c82a912956267baf3",
       "version_major": 2,
       "version_minor": 0
      },
      "text/plain": [
       "Widget(value='<iframe src=\"http://localhost:45247/index.html?ui=P_0x7f18f4697b00_2&reconnect=auto\" class=\"pyvi…"
      ]
     },
     "metadata": {},
     "output_type": "display_data"
    }
   ],
   "source": [
    "vis_attributions(attributions_orig, subject, cloud, pred_research_group_orig)\n",
    "\n",
    "vis_attributions(attributions_unshuffle, subject, cloud, pred_research_group_shuffle)\n",
    "\n",
    "vis_attributions(attributions_diff, subject, cloud, pred_research_group_orig)"
   ]
  },
  {
   "cell_type": "code",
   "execution_count": null,
   "metadata": {},
   "outputs": [],
   "source": []
  }
 ],
 "metadata": {
  "kernelspec": {
   "display_name": ".venv",
   "language": "python",
   "name": "python3"
  },
  "language_info": {
   "codemirror_mode": {
    "name": "ipython",
    "version": 3
   },
   "file_extension": ".py",
   "mimetype": "text/x-python",
   "name": "python",
   "nbconvert_exporter": "python",
   "pygments_lexer": "ipython3",
   "version": "3.12.3"
  }
 },
 "nbformat": 4,
 "nbformat_minor": 2
}

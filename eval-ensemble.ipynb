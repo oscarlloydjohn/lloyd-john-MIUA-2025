{
 "cells": [
  {
   "cell_type": "code",
   "execution_count": 1,
   "metadata": {},
   "outputs": [],
   "source": [
    "\n",
    "# Torch\n",
    "import torch\n",
    "import torch.optim as optim\n",
    "from torcheval.metrics import *\n",
    "import torch.nn.functional as F\n",
    "from torch.utils.data import DataLoader\n",
    "\n",
    "\n",
    "# Benny pointnet\n",
    "from pointnet2_benny import pointnet2_cls_ssg\n",
    "import shutil\n",
    "from sklearn.metrics import *\n",
    "\n",
    "# Custom modules\n",
    "from preprocessing_pre_fastsufer.preprocess import *\n",
    "from preprocessing_post_fastsurfer.subject import *\n",
    "from preprocessing_post_fastsurfer.vis import *\n",
    "from ozzy_torch_utils.split_dataset import *\n",
    "from ozzy_torch_utils.subject_dataset import *\n",
    "from ozzy_torch_utils.plot import *\n",
    "from ozzy_torch_utils.train_nn import *\n",
    "from ozzy_torch_utils.model_parameters import *\n",
    "from ozzy_torch_utils.init_dataloaders import *\n",
    "from ensemble.combined_models import *\n",
    "\n",
    "from explain_pointnet import get_prediction\n"
   ]
  },
  {
   "cell_type": "code",
   "execution_count": 2,
   "metadata": {},
   "outputs": [],
   "source": [
    "data_path = \"/uolstore/home/student_lnxhome01/sc22olj/Compsci/year3/individual-project-COMP3931/individual-project-sc22olj/scratch-disk/full-datasets/hcampus-1.5T-cohort-holdout\""
   ]
  },
  {
   "cell_type": "code",
   "execution_count": 3,
   "metadata": {},
   "outputs": [
    {
     "name": "stdout",
     "output_type": "stream",
     "text": [
      "Csv files: ['/uolstore/home/student_lnxhome01/sc22olj/Compsci/year3/individual-project-COMP3931/individual-project-sc22olj/scratch-disk/full-datasets/hcampus-1.5T-cohort-holdout/idaSearch_3_19_2025.csv']\n"
     ]
    }
   ],
   "source": [
    "subject_list = find_subjects_parallel(data_path)\n",
    "    "
   ]
  },
  {
   "cell_type": "code",
   "execution_count": 4,
   "metadata": {},
   "outputs": [],
   "source": [
    "for subject in subject_list:\n",
    "\n",
    "    subject.data = {}\n",
    "\n",
    "    # Group\n",
    "    mapping = {\n",
    "        'CN': 0,\n",
    "        'MCI': 1,\n",
    "    }\n",
    "\n",
    "    # Get the value of the mapping, -1 if not found\n",
    "    subject.data['research_group'] = mapping.get(subject.subject_metadata['Research Group'].iloc[0], -1)\n",
    "\n",
    "    # Cloud\n",
    "    subject.data['lhcampus_pointcloud_aligned'] = np.load(os.path.join(subject.path, 'Left-Hippocampus_aligned_cropped_mesh_downsampledcloud.npy'))\n",
    "\n",
    "    # Volumes\n",
    "    volume_col = subject.aseg_stats['Volume_mm3']\n",
    "    volume_col_normalised = volume_col / volume_col.sum() * 1000\n",
    "    struct_name_col = subject.aseg_stats['StructName']\n",
    "    \n",
    "    subject.data['volumes'] = np.array(volume_col_normalised)\n",
    "    \n",
    "    subject.data['struct_names'] = np.array(struct_name_col)\n",
    "\n",
    "    # Scores\n",
    "    mmse = subject.subject_metadata['MMSE Total Score'].iloc[0]\n",
    "    gdscale = subject.subject_metadata['GDSCALE Total Score'].iloc[0]\n",
    "    faq = subject.subject_metadata['FAQ Total Score'].iloc[0]\n",
    "    npiq = subject.subject_metadata['NPI-Q Total Score'].iloc[0]\n",
    "\n",
    "    subject.data['scores'] = [mmse, gdscale, faq, npiq]\n",
    "\n",
    "    subject.data['score_names'] = ['MMSE Total Score', 'GDSCALE Total Score', 'FAQ Total Score', 'NPI-Q Total Score']"
   ]
  },
  {
   "cell_type": "markdown",
   "metadata": {},
   "source": [
    "Evaluate pointnet"
   ]
  },
  {
   "cell_type": "code",
   "execution_count": 6,
   "metadata": {},
   "outputs": [
    {
     "name": "stdout",
     "output_type": "stream",
     "text": [
      "-inf\n",
      "0.6557971014492754\n",
      "0.6557971014492754\n",
      "0.6847826086956522\n",
      "0.6847826086956522\n",
      "0.6847826086956522\n",
      "0.6847826086956522\n",
      "0.6847826086956522\n",
      "0.6847826086956522\n",
      "0.6847826086956522\n",
      "0.6847826086956522\n",
      "0.6847826086956522\n",
      "0.6847826086956522\n",
      "0.6847826086956522\n",
      "0.6847826086956522\n",
      "0.6847826086956522\n",
      "0.6847826086956522\n",
      "0.6847826086956522\n",
      "0.6847826086956522\n",
      "0.6847826086956522\n",
      "0.6847826086956522\n",
      "0.6884057971014492\n",
      "0.7028985507246376\n",
      "0.7028985507246376\n",
      "0.7028985507246376\n",
      "0.7028985507246376\n",
      "0.7028985507246376\n",
      "0.7028985507246376\n",
      "0.7028985507246376\n",
      "0.7028985507246376\n",
      "0.7028985507246376\n",
      "0.7028985507246376\n",
      "0.7028985507246376\n",
      "0.7028985507246376\n",
      "0.7028985507246376\n",
      "0.7028985507246376\n",
      "0.7028985507246376\n",
      "0.7028985507246376\n",
      "0.7028985507246376\n",
      "0.7028985507246376\n",
      "0.7028985507246376\n",
      "0.7028985507246376\n",
      "0.7028985507246376\n",
      "0.7028985507246376\n",
      "0.7028985507246376\n",
      "0.7028985507246376\n",
      "0.7028985507246376\n",
      "0.7028985507246376\n",
      "0.7028985507246376\n",
      "0.7028985507246376\n",
      "0.7028985507246376\n",
      "0.7028985507246376\n",
      "0.7028985507246376\n",
      "0.7028985507246376\n",
      "0.7028985507246376\n",
      "0.7028985507246376\n",
      "0.7028985507246376\n",
      "0.7028985507246376\n",
      "0.7028985507246376\n",
      "0.7028985507246376\n",
      "0.7028985507246376\n",
      "0.7028985507246376\n",
      "0.7028985507246376\n",
      "0.7028985507246376\n",
      "0.7028985507246376\n",
      "0.7028985507246377\n",
      "0.7028985507246377\n",
      "0.7028985507246377\n",
      "0.7028985507246377\n",
      "0.7028985507246377\n",
      "0.7028985507246377\n",
      "0.7028985507246377\n",
      "0.7028985507246377\n",
      "0.7028985507246377\n",
      "0.7028985507246377\n",
      "0.7028985507246377\n",
      "0.7028985507246377\n",
      "0.7028985507246377\n",
      "0.7028985507246377\n",
      "0.7028985507246377\n",
      "0.7028985507246377\n",
      "0.7028985507246377\n",
      "0.7028985507246377\n",
      "0.7028985507246377\n",
      "0.7028985507246377\n",
      "0.7028985507246377\n",
      "0.7028985507246377\n",
      "0.7028985507246377\n",
      "0.7028985507246377\n",
      "0.7028985507246377\n",
      "0.7028985507246377\n",
      "0.7028985507246377\n",
      "0.7028985507246377\n",
      "0.7028985507246377\n",
      "0.7028985507246377\n",
      "0.7028985507246377\n",
      "0.7028985507246377\n",
      "0.7028985507246377\n",
      "0.7028985507246377\n",
      "0.7028985507246377\n"
     ]
    }
   ],
   "source": [
    "# WHY ARE THESE METRICS CHANGING ??\n",
    "roc_auc = -np.inf\n",
    "\n",
    "for seed in range(100):\n",
    "\n",
    "    true = []\n",
    "    pred_probs = []\n",
    "    pred_classes = []\n",
    "\n",
    "    for subject in subject_list:\n",
    "\n",
    "        pred_research_group, pred_class, output = get_pointnet_prediction(subject.data['lhcampus_pointcloud_aligned'], 'cpu', seed=seed, mode = 'pth')\n",
    "\n",
    "        true.append(subject.data['research_group'])\n",
    "        \n",
    "        pred_probs.append(output)\n",
    "\n",
    "        pred_classes.append(pred_class)\n",
    "\n",
    "    current_roc_auc = roc_auc_score(true, pred_probs) \n",
    "\n",
    "    print(roc_auc)\n",
    "\n",
    "    if current_roc_auc > roc_auc:\n",
    "\n",
    "        roc_auc = current_roc_auc\n",
    "\n",
    "        best_seed = seed\n"
   ]
  },
  {
   "cell_type": "code",
   "execution_count": 7,
   "metadata": {},
   "outputs": [
    {
     "name": "stdout",
     "output_type": "stream",
     "text": [
      "0.6594202898550725\n",
      "0.6808510638297872\n"
     ]
    },
    {
     "data": {
      "image/png": "[encoded data removed]",
      "text/plain": [
       "<Figure size 640x480 with 1 Axes>"
      ]
     },
     "metadata": {},
     "output_type": "display_data"
    }
   ],
   "source": [
    "roc_auc = roc_auc_score(true, pred_probs)\n",
    "print(roc_auc)\n",
    "\n",
    "f1 = f1_score(true, pred_classes)\n",
    "print(f1)\n",
    "\n",
    "fpr, tpr, thresholds = roc_curve(true, pred_probs)\n",
    "\n",
    "plt.plot(fpr, tpr)\n",
    "\n",
    "plt.show()"
   ]
  },
  {
   "cell_type": "markdown",
   "metadata": {},
   "source": [
    "Evaluate volumes gbdt"
   ]
  },
  {
   "cell_type": "code",
   "execution_count": 8,
   "metadata": {},
   "outputs": [],
   "source": [
    "true = []\n",
    "pred_probs = []\n",
    "pred_classes = []\n",
    "\n",
    "for subject in subject_list:\n",
    "\n",
    "    pred_research_group, pred_class, output = get_volumes_prediction(subject.data['volumes'])\n",
    "\n",
    "    true.append(subject.data['research_group'])\n",
    "    \n",
    "    pred_probs.append(output)\n",
    "\n",
    "    pred_classes.append(pred_class)"
   ]
  },
  {
   "cell_type": "code",
   "execution_count": 9,
   "metadata": {},
   "outputs": [
    {
     "name": "stdout",
     "output_type": "stream",
     "text": [
      "0.8242753623188406\n",
      "0.7931034482758621\n"
     ]
    },
    {
     "data": {
      "image/png": "[encoded data removed]",
      "text/plain": [
       "<Figure size 640x480 with 1 Axes>"
      ]
     },
     "metadata": {},
     "output_type": "display_data"
    }
   ],
   "source": [
    "roc_auc = roc_auc_score(true, pred_probs)\n",
    "print(roc_auc)\n",
    "\n",
    "f1 = f1_score(true, pred_classes)\n",
    "print(f1)\n",
    "\n",
    "fpr, tpr, thresholds = roc_curve(true, pred_probs)\n",
    "\n",
    "plt.plot(fpr, tpr)\n",
    "\n",
    "plt.show()"
   ]
  },
  {
   "cell_type": "markdown",
   "metadata": {},
   "source": [
    "Evaluate scores gbdt"
   ]
  },
  {
   "cell_type": "code",
   "execution_count": 10,
   "metadata": {},
   "outputs": [],
   "source": [
    "true = []\n",
    "pred_probs = []\n",
    "pred_classes = []\n",
    "\n",
    "for subject in subject_list:\n",
    "\n",
    "    pred_research_group, pred_class, output = get_scores_prediction(subject.data['scores'])\n",
    "\n",
    "    true.append(subject.data['research_group'])\n",
    "    \n",
    "    pred_probs.append(output)\n",
    "\n",
    "    pred_classes.append(pred_class)"
   ]
  },
  {
   "cell_type": "code",
   "execution_count": 11,
   "metadata": {},
   "outputs": [
    {
     "name": "stdout",
     "output_type": "stream",
     "text": [
      "0.8007246376811594\n",
      "0.7916666666666666\n"
     ]
    },
    {
     "data": {
      "image/png": "[encoded data removed]",
      "text/plain": [
       "<Figure size 640x480 with 1 Axes>"
      ]
     },
     "metadata": {},
     "output_type": "display_data"
    }
   ],
   "source": [
    "roc_auc = roc_auc_score(true, pred_probs)\n",
    "print(roc_auc)\n",
    "\n",
    "f1 = f1_score(true, pred_classes)\n",
    "print(f1)\n",
    "\n",
    "fpr, tpr, thresholds = roc_curve(true, pred_probs)\n",
    "\n",
    "plt.plot(fpr, tpr)\n",
    "\n",
    "plt.show()"
   ]
  },
  {
   "cell_type": "markdown",
   "metadata": {},
   "source": [
    "Evaluate ensemble"
   ]
  },
  {
   "cell_type": "code",
   "execution_count": 12,
   "metadata": {},
   "outputs": [],
   "source": [
    "true = []\n",
    "pred_probs = []\n",
    "pred_classes = []\n",
    "\n",
    "for subject in subject_list:\n",
    "\n",
    "    pred_research_group, pred_class, output = get_ensemble_prediction_avg(subject.data)\n",
    "\n",
    "    true.append(subject.data['research_group'])\n",
    "    \n",
    "    pred_probs.append(output)\n",
    "\n",
    "    pred_classes.append(pred_class)"
   ]
  },
  {
   "cell_type": "code",
   "execution_count": 13,
   "metadata": {},
   "outputs": [
    {
     "name": "stdout",
     "output_type": "stream",
     "text": [
      "0.7934782608695652\n",
      "0.75\n"
     ]
    },
    {
     "data": {
      "image/png": "[encoded data removed]",
      "text/plain": [
       "<Figure size 640x480 with 1 Axes>"
      ]
     },
     "metadata": {},
     "output_type": "display_data"
    }
   ],
   "source": [
    "roc_auc = roc_auc_score(true, pred_probs)\n",
    "print(roc_auc)\n",
    "\n",
    "f1 = f1_score(true, pred_classes)\n",
    "print(f1)\n",
    "\n",
    "fpr, tpr, thresholds = roc_curve(true, pred_probs)\n",
    "\n",
    "plt.plot(fpr, tpr)\n",
    "\n",
    "plt.show()"
   ]
  },
  {
   "cell_type": "code",
   "execution_count": 14,
   "metadata": {},
   "outputs": [],
   "source": [
    "true = []\n",
    "pred_probs = []\n",
    "pred_classes = []\n",
    "\n",
    "models_used = []\n",
    "\n",
    "for subject in subject_list:\n",
    "\n",
    "    pred_research_group, pred_class, output, model = get_ensemble_prediction_maxprob(subject.data)\n",
    "\n",
    "    true.append(subject.data['research_group'])\n",
    "    \n",
    "    pred_probs.append(output)\n",
    "\n",
    "    pred_classes.append(pred_class)\n",
    "\n",
    "    models_used.append(model)"
   ]
  },
  {
   "cell_type": "code",
   "execution_count": 15,
   "metadata": {},
   "outputs": [
    {
     "name": "stdout",
     "output_type": "stream",
     "text": [
      "(array([0, 1, 2]), array([17,  1, 17]))\n",
      "0.7916666666666666\n",
      "0.7659574468085106\n"
     ]
    },
    {
     "data": {
      "image/png": "[encoded data removed]",
      "text/plain": [
       "<Figure size 640x480 with 1 Axes>"
      ]
     },
     "metadata": {},
     "output_type": "display_data"
    }
   ],
   "source": [
    "print(np.unique(models_used, return_counts=True))\n",
    "\n",
    "roc_auc = roc_auc_score(true, pred_probs)\n",
    "print(roc_auc)\n",
    "\n",
    "f1 = f1_score(true, pred_classes)\n",
    "print(f1)\n",
    "\n",
    "fpr, tpr, thresholds = roc_curve(true, pred_probs)\n",
    "\n",
    "plt.plot(fpr, tpr)\n",
    "\n",
    "plt.show()"
   ]
  },
  {
   "cell_type": "code",
   "execution_count": null,
   "metadata": {},
   "outputs": [],
   "source": []
  }
 ],
 "metadata": {
  "kernelspec": {
   "display_name": ".venv",
   "language": "python",
   "name": "python3"
  },
  "language_info": {
   "codemirror_mode": {
    "name": "ipython",
    "version": 3
   },
   "file_extension": ".py",
   "mimetype": "text/x-python",
   "name": "python",
   "nbconvert_exporter": "python",
   "pygments_lexer": "ipython3",
   "version": "3.12.3"
  }
 },
 "nbformat": 4,
 "nbformat_minor": 2
}

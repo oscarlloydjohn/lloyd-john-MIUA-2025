{
 "cells": [
  {
   "cell_type": "code",
   "execution_count": null,
   "metadata": {},
   "outputs": [
    {
     "name": "stdout",
     "output_type": "stream",
     "text": [
      "Jupyter environment detected. Enabling Open3D WebVisualizer.\n",
      "[Open3D INFO] WebRTC GUI backend enabled.\n",
      "[Open3D INFO] WebRTCWindowSystem: HTTP handshake server disabled.\n"
     ]
    }
   ],
   "source": [
    "# Modules for debugging\n",
    "\n",
    "import numpy as np\n",
    "import pyvista as pv\n",
    "from random import sample\n",
    "\n",
    "# Custom modules\n",
    "from preprocessing_post_fastsurfer.extraction import *\n",
    "from preprocessing_post_fastsurfer.subject import *\n",
    "\n",
    "np.set_printoptions(precision=2, suppress=True)"
   ]
  },
  {
   "cell_type": "code",
   "execution_count": 2,
   "metadata": {},
   "outputs": [
    {
     "name": "stdout",
     "output_type": "stream",
     "text": [
      "Csv files: ['/uolstore/home/users/sc22olj/Compsci/year3/individual-project-COMP3931/individual-project-sc22olj/scratch-disk/full-datasets/hcampus-1.5T-cohort/idaSearch_3_19_2025.csv']\n",
      "543\n"
     ]
    }
   ],
   "source": [
    "# Initialise a list of subject objects from the given directory\n",
    "data_path = \"/uolstore/home/users/sc22olj/Compsci/year3/individual-project-COMP3931/individual-project-sc22olj/scratch-disk/full-datasets/hcampus-1.5T-cohort\"\n",
    "\n",
    "subject_list = find_subjects_parallel(data_path)\n",
    "\n",
    "print(len(subject_list))\n"
   ]
  },
  {
   "cell_type": "code",
   "execution_count": 3,
   "metadata": {},
   "outputs": [],
   "source": [
    "def plot_volumes(subject, volumes_list):\n",
    "\n",
    "    brain = subject.brain_aligned\n",
    "\n",
    "    aparc = subject.aparc_aligned\n",
    "\n",
    "    # NB check types here!\n",
    "    image_array = nibabel.load(brain).dataobj\n",
    "\n",
    "    aparc_array = nibabel.load(aparc).dataobj\n",
    "\n",
    "    pl = pv.Plotter()\n",
    "\n",
    "    pl.add_volume(np.asarray(image_array), cmap=\"bone\", opacity=\"sigmoid_6\", show_scalar_bar=False)\n",
    "\n",
    "    for volume in volumes_list:\n",
    "\n",
    "        # Create a mask from regions in list\n",
    "        filtered_array = np.where((np.isin(aparc_array, [volume])), 1, 0)\n",
    "\n",
    "        # Extract region using mask\n",
    "        extracted_region = np.asarray(image_array * filtered_array)\n",
    "\n",
    "        pl.add_volume(extracted_region, opacity=\"foreground\", show_scalar_bar=False, shade=True)\n",
    "\n",
    "    return pl"
   ]
  },
  {
   "cell_type": "code",
   "execution_count": 4,
   "metadata": {},
   "outputs": [
    {
     "name": "stderr",
     "output_type": "stream",
     "text": [
      "/uolstore/home/student_lnxhome01/sc22olj/Compsci/year3/individual-project-COMP3931/individual-project-sc22olj/.venv/lib/python3.12/site-packages/pyvista/plotting/plotter.py:4401: RuntimeWarning: invalid value encountered in divide\n",
      "  np.true_divide((scalars - min_), (max_ - min_) / 255, out=scalars, casting='unsafe')\n"
     ]
    },
    {
     "data": {
      "application/vnd.jupyter.widget-view+json": {
       "model_id": "1a57342f2a2846d091986067df12f51b",
       "version_major": 2,
       "version_minor": 0
      },
      "text/plain": [
       "Widget(value='<iframe src=\"http://localhost:42359/index.html?ui=P_0x7fbfc489f4d0_0&reconnect=auto\" class=\"pyvi…"
      ]
     },
     "metadata": {},
     "output_type": "display_data"
    },
    {
     "name": "stdout",
     "output_type": "stream",
     "text": [
      " JS Error => error: Uncaught TypeError: Cannot mix BigInt and other types, use explicit conversions\n"
     ]
    }
   ],
   "source": [
    "subject = sample(subject_list, 1)[0]\n",
    "\n",
    "pl = plot_volumes(subject, [12, 50, 72, 15])\n",
    "\n",
    "pl.show()"
   ]
  },
  {
   "cell_type": "code",
   "execution_count": null,
   "metadata": {},
   "outputs": [],
   "source": []
  }
 ],
 "metadata": {
  "kernelspec": {
   "display_name": ".venv",
   "language": "python",
   "name": "python3"
  },
  "language_info": {
   "codemirror_mode": {
    "name": "ipython",
    "version": 3
   },
   "file_extension": ".py",
   "mimetype": "text/x-python",
   "name": "python",
   "nbconvert_exporter": "python",
   "pygments_lexer": "ipython3",
   "version": "3.12.7"
  }
 },
 "nbformat": 4,
 "nbformat_minor": 2
}

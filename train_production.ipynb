{
 "cells": [
  {
   "cell_type": "code",
   "execution_count": 2,
   "metadata": {},
   "outputs": [],
   "source": [
    "'''\n",
    "IMPORTS\n",
    "'''\n",
    "\n",
    "# Torch\n",
    "import torch\n",
    "import torch.optim as optim\n",
    "from torcheval.metrics import *\n",
    "import torch.nn.functional as F\n",
    "\n",
    "# Benny pointnet\n",
    "from pointnet2_benny import pointnet2_cls_ssg\n",
    "from pointnet2_benny import provider\n",
    "import cnn3d_xmuyzz.ResNetV2\n",
    "\n",
    "# Custom modules\n",
    "from preprocessing_post_fastsurfer.subject import *\n",
    "from preprocessing_post_fastsurfer.vis import *\n",
    "from ozzy_torch_utils.split_dataset import *\n",
    "from ozzy_torch_utils.subject_dataset import *\n",
    "from ozzy_torch_utils.plot import *\n",
    "from ozzy_torch_utils.train_nn import *\n",
    "from ozzy_torch_utils.model_parameters import *\n",
    "from ozzy_torch_utils.init_dataloaders import *\n",
    "\n",
    "import torch\n",
    "from torcheval.metrics import *\n",
    "from torch.utils.data import DataLoader\n",
    "from tqdm import tqdm\n",
    "from datetime import datetime\n",
    "from sklearn.metrics import roc_curve, roc_auc_score\n",
    "from ozzy_torch_utils.model_parameters import *\n"
   ]
  },
  {
   "cell_type": "code",
   "execution_count": null,
   "metadata": {},
   "outputs": [
    {
     "name": "stdout",
     "output_type": "stream",
     "text": [
      "Csv files: ['/uolstore/home/student_lnxhome01/sc22olj/Compsci/year3/individual-project-COMP3931/individual-project-sc22olj/scratch-disk/full-datasets/hcampus-1.5T-cohort/idaSearch_3_19_2025.csv']\n",
      "Loading dataset into memory\n",
      "\n"
     ]
    },
    {
     "name": "stderr",
     "output_type": "stream",
     "text": [
      "100%|██████████| 543/543 [00:03<00:00, 142.17it/s]\n"
     ]
    }
   ],
   "source": [
    "model_parameters = ModelParameters()\n",
    "\n",
    "model_parameters.data_path = \"/uolstore/home/student_lnxhome01/sc22olj/Compsci/year3/individual-project-COMP3931/individual-project-sc22olj/scratch-disk/full-datasets/hcampus-1.5T-cohort\"\n",
    "\n",
    "# Disease labels from study\n",
    "model_parameters.selected_labels = ['CN', 'MCI']\n",
    "\n",
    "# Dictionary key representing the data of interest\n",
    "model_parameters.data_string = 'lhcampus_pointcloud_aligned'\n",
    "\n",
    "# Dictionary key representing the disease labels\n",
    "model_parameters.labels_string = 'research_group'\n",
    "\n",
    "# Lower batch size seemed to give better results\n",
    "model_parameters.batch_size = 10\n",
    "\n",
    "# Can drop last batch of the dataset as it will be smaller than the rest\n",
    "model_parameters.drop_last = False\n",
    "\n",
    "model_parameters.test_size = 0.2\n",
    "\n",
    "model_parameters.num_epochs = 250\n",
    "\n",
    "model_parameters.learning_rate = 0.005\n",
    "\n",
    "model_parameters.model = pointnet2_cls_ssg.get_model(len(model_parameters.selected_labels), normal_channel=False)\n",
    "\n",
    "model_parameters.optimiser = optim.Adam(\n",
    "                                model_parameters.model.parameters(),\n",
    "                                lr=model_parameters.learning_rate,\n",
    "                                betas=(0.9, 0.999),\n",
    "                                eps=1e-08,\n",
    "                                weight_decay=1e-4,\n",
    "                                amsgrad=True\n",
    "                            )\n",
    "\n",
    "model_parameters.scheduler = torch.optim.lr_scheduler.LinearLR(model_parameters.optimiser, start_factor=1.0, end_factor=0.01, total_iters=50)\n",
    "\n",
    "def run_prediction(inputs, labels):\n",
    "    \n",
    "    inputs = inputs.cpu().data.numpy()\n",
    "    inputs = provider.random_point_dropout(inputs)\n",
    "    inputs[:, :, 0:3] = provider.shift_point_cloud(inputs[:, :, 0:3])\n",
    "    inputs = torch.Tensor(inputs).cuda()\n",
    "    inputs = inputs.transpose(2, 1)\n",
    "    \n",
    "    logit_output, *_ = model_parameters.model(inputs)\n",
    "    \n",
    "    loss = model_parameters.criterion(logit_output, labels)\n",
    "    \n",
    "    # Apply exponent as the output of the model is log softmax\n",
    "    pred_probability = F.softmax(logit_output, dim=1)\n",
    "        \n",
    "    pred_labels = torch.argmax(pred_probability, dim=1)\n",
    "    \n",
    "    return loss, pred_probability, pred_labels\n",
    "\n",
    "model_parameters.run_prediction = run_prediction\n",
    "\n",
    "dataset = SubjectDataset(model_parameters.data_path, model_parameters.selected_labels, load_in_memory = True, data_string=model_parameters.data_string, labels_string=model_parameters.labels_string)\n",
    "\n",
    "dataloader = DataLoader(dataset, batch_size=model_parameters.batch_size, shuffle=True, num_workers = 4, drop_last=model_parameters.drop_last)\n",
    "\n",
    "device = torch.accelerator.current_accelerator().type if torch.accelerator.is_available() else \"cpu\"\n",
    "\n",
    "# Set the criterion after getting the weights\n",
    "model_parameters.criterion = torch.nn.CrossEntropyLoss(weight=(get_weights(dataloader)).to(device))\n"
   ]
  },
  {
   "cell_type": "code",
   "execution_count": null,
   "metadata": {},
   "outputs": [],
   "source": [
    "\n",
    "training_losses, model = train_nn(model_parameters, dataloader, None, device, train_only=True, scheduler_start=50)\n"
   ]
  },
  {
   "cell_type": "code",
   "execution_count": null,
   "metadata": {},
   "outputs": [],
   "source": [
    "plt.plot(training_losses)\n",
    "plt.show()"
   ]
  },
  {
   "cell_type": "code",
   "execution_count": null,
   "metadata": {},
   "outputs": [],
   "source": [
    "model.eval()\n",
    "\n",
    "model.to('cpu')\n",
    "\n",
    "torch.save(model, 'pointnet.pth')"
   ]
  }
 ],
 "metadata": {
  "kernelspec": {
   "display_name": ".venv",
   "language": "python",
   "name": "python3"
  },
  "language_info": {
   "codemirror_mode": {
    "name": "ipython",
    "version": 3
   },
   "file_extension": ".py",
   "mimetype": "text/x-python",
   "name": "python",
   "nbconvert_exporter": "python",
   "pygments_lexer": "ipython3",
   "version": "3.12.3"
  }
 },
 "nbformat": 4,
 "nbformat_minor": 2
}

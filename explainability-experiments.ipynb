{
 "cells": [
  {
   "cell_type": "code",
   "execution_count": 1,
   "metadata": {},
   "outputs": [],
   "source": [
    "# Torch\n",
    "import torch\n",
    "import torch.optim as optim\n",
    "from torcheval.metrics import *\n",
    "\n",
    "import pickle\n",
    "from captum.attr import *\n",
    "import random\n",
    "import numpy as np\n",
    "from matplotlib.colors import LinearSegmentedColormap\n",
    "\n",
    "np.set_printoptions(threshold=np.inf)\n",
    "\n",
    "# Custom modules\n",
    "from preprocessing_post_fastsurfer.subject import *\n",
    "from preprocessing_post_fastsurfer.vis import *\n",
    "from ozzy_torch_utils.split_dataset import *\n",
    "from ozzy_torch_utils.subject_dataset import *\n",
    "from ozzy_torch_utils.plot import *\n",
    "from ozzy_torch_utils.train_nn import *\n",
    "from ozzy_torch_utils.model_parameters import *\n",
    "from ozzy_torch_utils.init_dataloaders import *\n",
    "from explain_pointnet import *"
   ]
  },
  {
   "cell_type": "code",
   "execution_count": 2,
   "metadata": {},
   "outputs": [
    {
     "name": "stdout",
     "output_type": "stream",
     "text": [
      "Csv files: ['/uolstore/home/users/sc22olj/Compsci/year3/individual-project-COMP3931/individual-project-sc22olj/scratch-disk/full-datasets/hcampus-1.5T-cohort/idaSearch_3_19_2025.csv']\n"
     ]
    }
   ],
   "source": [
    "# Load dataset\n",
    "data_path = \"/uolstore/home/users/sc22olj/Compsci/year3/individual-project-COMP3931/individual-project-sc22olj/scratch-disk/full-datasets/hcampus-1.5T-cohort\"\n",
    "\n",
    "subject_list = find_subjects_parallel(data_path)"
   ]
  },
  {
   "cell_type": "code",
   "execution_count": 3,
   "metadata": {},
   "outputs": [],
   "source": [
    "device = torch.accelerator.current_accelerator().type if torch.accelerator.is_available() else \"cpu\""
   ]
  },
  {
   "cell_type": "markdown",
   "metadata": {},
   "source": [
    "Checking the significance of left and right hippocampi on models run with both"
   ]
  },
  {
   "cell_type": "code",
   "execution_count": 4,
   "metadata": {},
   "outputs": [],
   "source": [
    "subject = sample(subject_list, 1)[0]"
   ]
  },
  {
   "cell_type": "code",
   "execution_count": 5,
   "metadata": {},
   "outputs": [],
   "source": [
    "# Load model\n",
    "pickle_pathname = \"/uolstore/home/student_lnxhome01/sc22olj/Compsci/year3/individual-project-COMP3931/individual-project-sc22olj/runs/run_18-03-2025_18-04-04/run_18-03-2025_18-04-04_params.pkl\"\n",
    "\n",
    "with open(pickle_pathname, 'rb') as file:\n",
    "    \n",
    "    model_parameters = pickle.load(file)\n",
    "    \n",
    "model = model_parameters.model"
   ]
  },
  {
   "cell_type": "code",
   "execution_count": 6,
   "metadata": {},
   "outputs": [
    {
     "data": {
      "application/vnd.jupyter.widget-view+json": {
       "model_id": "71e63692a7884aa2b1a23bcd5b622148",
       "version_major": 2,
       "version_minor": 0
      },
      "text/plain": [
       "Widget(value='<iframe src=\"http://localhost:37721/index.html?ui=P_0x7f279dbbf1a0_0&reconnect=auto\" class=\"pyvi…"
      ]
     },
     "metadata": {},
     "output_type": "display_data"
    }
   ],
   "source": [
    "lr_cloud = np.load(os.path.join(subject.path, \"Left-Hippocampus_Right-Hippocampus_aligned_cropped_mesh_downsampledcloud.npy\"))\n",
    "\n",
    "lr_attributions = pointnet_ig(model, lr_cloud, device)\n",
    "\n",
    "lr_pred_research_group, lr_pred_class, _ = get_prediction(model, lr_cloud, device)\n",
    "\n",
    "vis_attributions(lr_attributions, subject, lr_cloud, lr_pred_research_group)"
   ]
  },
  {
   "cell_type": "code",
   "execution_count": 7,
   "metadata": {},
   "outputs": [],
   "source": [
    "# Load model\n",
    "pickle_pathname = \"/uolstore/home/student_lnxhome01/sc22olj/Compsci/year3/individual-project-COMP3931/individual-project-sc22olj/runs/run_19-03-2025_16-12-19/run_19-03-2025_16-12-19_params.pkl\"\n",
    "\n",
    "with open(pickle_pathname, 'rb') as file:\n",
    "    \n",
    "    model_parameters = pickle.load(file)\n",
    "    \n",
    "model = model_parameters.model"
   ]
  },
  {
   "cell_type": "code",
   "execution_count": 8,
   "metadata": {},
   "outputs": [
    {
     "data": {
      "application/vnd.jupyter.widget-view+json": {
       "model_id": "640cbc2571724eeba33a91e532053b10",
       "version_major": 2,
       "version_minor": 0
      },
      "text/plain": [
       "Widget(value='<iframe src=\"http://localhost:37721/index.html?ui=P_0x7f26a61c5d00_1&reconnect=auto\" class=\"pyvi…"
      ]
     },
     "metadata": {},
     "output_type": "display_data"
    }
   ],
   "source": [
    "l_cloud = np.load(os.path.join(subject.path, \"Left-Hippocampus_aligned_cropped_mesh_downsampledcloud.npy\"))\n",
    "\n",
    "l_pred_research_group, l_pred_class, _ = get_prediction(model, l_cloud, device)\n",
    "\n",
    "l_attributions = pointnet_ig(model, l_cloud, device)\n",
    "\n",
    "vis_attributions(l_attributions, subject, l_cloud, l_pred_research_group)"
   ]
  },
  {
   "cell_type": "markdown",
   "metadata": {},
   "source": [
    "Interesting experiment comparing attributions from two permutations of the same cloud"
   ]
  },
  {
   "cell_type": "code",
   "execution_count": 9,
   "metadata": {},
   "outputs": [],
   "source": [
    "# Load model\n",
    "pickle_pathname = \"/uolstore/home/student_lnxhome01/sc22olj/Compsci/year3/individual-project-COMP3931/individual-project-sc22olj/runs/run_18-03-2025_15-35-05/run_18-03-2025_15-35-05_params.pkl\"\n",
    "\n",
    "with open(pickle_pathname, 'rb') as file:\n",
    "    \n",
    "    model_parameters = pickle.load(file)\n",
    "    \n",
    "model = model_parameters.model"
   ]
  },
  {
   "cell_type": "code",
   "execution_count": 10,
   "metadata": {},
   "outputs": [],
   "source": [
    "cloud = np.load(os.path.join(subject.path, \"Left-Hippocampus_aligned_cropped_mesh_downsampledcloud.npy\"))\n",
    "    "
   ]
  },
  {
   "cell_type": "code",
   "execution_count": 11,
   "metadata": {},
   "outputs": [
    {
     "name": "stdout",
     "output_type": "stream",
     "text": [
      "0.05976154424048312\n",
      "0.11921980889266279\n"
     ]
    }
   ],
   "source": [
    "attributions_orig = pointnet_ig(model, cloud, device)\n",
    "\n",
    "pred_research_group_orig, _, _ = get_prediction(model, cloud, device)\n",
    "\n",
    "shuffler = np.random.permutation(cloud.shape[0])\n",
    "\n",
    "unshuffler = np.argsort(shuffler)\n",
    "\n",
    "cloud_shuffled = np.array([cloud[i] for i in shuffler])\n",
    "\n",
    "attributions_shuffled = pointnet_ig(model, cloud_shuffled, device)\n",
    "\n",
    "pred_research_group_shuffled, _, _ = get_prediction(model, cloud, device)\n",
    "\n",
    "cloud_unshuffled = np.array([cloud_shuffled[i] for i in unshuffler])\n",
    "\n",
    "attributions_unshuffled = np.array([attributions_shuffled[i] for i in unshuffler])\n",
    "\n",
    "attributions_diff = attributions_orig - attributions_unshuffled\n",
    "\n",
    "# NB can't really visualise attributions as they will be normalsied and look large\n",
    "print(np.max(np.abs(attributions_diff)))\n",
    "\n",
    "print(np.max(np.abs(attributions_orig)))\n",
    "\n",
    "if pred_research_group_orig != pred_research_group_shuffled:\n",
    "    \n",
    "    print(\"Research groups are different after shuffle\")\n",
    "    "
   ]
  },
  {
   "cell_type": "code",
   "execution_count": 12,
   "metadata": {},
   "outputs": [
    {
     "data": {
      "application/vnd.jupyter.widget-view+json": {
       "model_id": "4ad00aeb1d8946deb3a2cc5c1bc57f33",
       "version_major": 2,
       "version_minor": 0
      },
      "text/plain": [
       "Widget(value='<iframe src=\"http://localhost:37721/index.html?ui=P_0x7f26a623f050_2&reconnect=auto\" class=\"pyvi…"
      ]
     },
     "metadata": {},
     "output_type": "display_data"
    },
    {
     "data": {
      "application/vnd.jupyter.widget-view+json": {
       "model_id": "0cf2c38d80a94b18970e3bfbe6029310",
       "version_major": 2,
       "version_minor": 0
      },
      "text/plain": [
       "Widget(value='<iframe src=\"http://localhost:37721/index.html?ui=P_0x7f26a620be60_3&reconnect=auto\" class=\"pyvi…"
      ]
     },
     "metadata": {},
     "output_type": "display_data"
    },
    {
     "data": {
      "application/vnd.jupyter.widget-view+json": {
       "model_id": "9b4ab054cb4a461ab225b78a2b84cfe3",
       "version_major": 2,
       "version_minor": 0
      },
      "text/plain": [
       "Widget(value='<iframe src=\"http://localhost:37721/index.html?ui=P_0x7f26a4ed0860_4&reconnect=auto\" class=\"pyvi…"
      ]
     },
     "metadata": {},
     "output_type": "display_data"
    }
   ],
   "source": [
    "vis_attributions(attributions_orig, subject, cloud, pred_research_group_orig)\n",
    "\n",
    "# These two should look identical if the method was correct\n",
    "vis_attributions(attributions_shuffled, subject, cloud_shuffled, pred_research_group_shuffled)\n",
    "\n",
    "vis_attributions(attributions_unshuffled, subject, cloud_unshuffled, pred_research_group_shuffled)"
   ]
  },
  {
   "cell_type": "markdown",
   "metadata": {},
   "source": [
    "Comparison between transposing the point cloud before or after passing to integrated gradients and saliency. Treating the points as features rather than the dimensions yields better results:"
   ]
  },
  {
   "cell_type": "code",
   "execution_count": 13,
   "metadata": {},
   "outputs": [],
   "source": [
    "# Load model\n",
    "pickle_pathname = \"/uolstore/home/student_lnxhome01/sc22olj/Compsci/year3/individual-project-COMP3931/individual-project-sc22olj/runs/run_18-03-2025_18-04-04/run_18-03-2025_18-04-04_params.pkl\"\n",
    "\n",
    "with open(pickle_pathname, 'rb') as file:\n",
    "    \n",
    "    model_parameters = pickle.load(file)\n",
    "    \n",
    "model = model_parameters.model"
   ]
  },
  {
   "cell_type": "code",
   "execution_count": 14,
   "metadata": {},
   "outputs": [
    {
     "data": {
      "application/vnd.jupyter.widget-view+json": {
       "model_id": "4a7afb4bd3fd47df9dfc070234c11453",
       "version_major": 2,
       "version_minor": 0
      },
      "text/plain": [
       "Widget(value='<iframe src=\"http://localhost:37721/index.html?ui=P_0x7f26a62290a0_5&reconnect=auto\" class=\"pyvi…"
      ]
     },
     "metadata": {},
     "output_type": "display_data"
    }
   ],
   "source": [
    "pred_research_group, _, _ = get_prediction(model, cloud, device)\n",
    "\n",
    "attributions = pointnet_ig(model, cloud, device)\n",
    "\n",
    "vis_attributions(attributions, subject, cloud, pred_research_group)"
   ]
  },
  {
   "cell_type": "code",
   "execution_count": 15,
   "metadata": {},
   "outputs": [
    {
     "data": {
      "application/vnd.jupyter.widget-view+json": {
       "model_id": "bd80d3f65575450391b3781f2e7ee884",
       "version_major": 2,
       "version_minor": 0
      },
      "text/plain": [
       "Widget(value='<iframe src=\"http://localhost:37721/index.html?ui=P_0x7f26a4ed3710_6&reconnect=auto\" class=\"pyvi…"
      ]
     },
     "metadata": {},
     "output_type": "display_data"
    }
   ],
   "source": [
    "\n",
    "pred_research_group, _, _ = get_prediction(model, cloud, device)\n",
    "\n",
    "attributions = pointnet_ig_deprecated(model, cloud, device)\n",
    "\n",
    "vis_attributions(attributions, subject, cloud, pred_research_group)"
   ]
  },
  {
   "cell_type": "code",
   "execution_count": 16,
   "metadata": {},
   "outputs": [
    {
     "name": "stderr",
     "output_type": "stream",
     "text": [
      "/uolstore/home/student_lnxhome01/sc22olj/Compsci/year3/individual-project-COMP3931/individual-project-sc22olj/.venv/lib/python3.12/site-packages/captum/_utils/gradient.py:57: UserWarning: Input Tensor 0 did not already require gradients, required_grads has been set automatically.\n",
      "  warnings.warn(\n"
     ]
    },
    {
     "data": {
      "application/vnd.jupyter.widget-view+json": {
       "model_id": "21799f23945c4cf5ad04b58940420da4",
       "version_major": 2,
       "version_minor": 0
      },
      "text/plain": [
       "Widget(value='<iframe src=\"http://localhost:37721/index.html?ui=P_0x7f26a4ed2360_7&reconnect=auto\" class=\"pyvi…"
      ]
     },
     "metadata": {},
     "output_type": "display_data"
    }
   ],
   "source": [
    "pred_research_group, _, _ = get_prediction(model, cloud, device)\n",
    "\n",
    "attributions = pointnet_saliency(model, cloud, device)\n",
    "\n",
    "vis_attributions(attributions, subject, cloud, pred_research_group)"
   ]
  },
  {
   "cell_type": "code",
   "execution_count": 17,
   "metadata": {},
   "outputs": [
    {
     "name": "stderr",
     "output_type": "stream",
     "text": [
      "/uolstore/home/student_lnxhome01/sc22olj/Compsci/year3/individual-project-COMP3931/individual-project-sc22olj/.venv/lib/python3.12/site-packages/captum/_utils/gradient.py:57: UserWarning: Input Tensor 0 did not already require gradients, required_grads has been set automatically.\n",
      "  warnings.warn(\n"
     ]
    },
    {
     "data": {
      "application/vnd.jupyter.widget-view+json": {
       "model_id": "d9cdf6af146c41008f2f7ecff8862c6b",
       "version_major": 2,
       "version_minor": 0
      },
      "text/plain": [
       "Widget(value='<iframe src=\"http://localhost:37721/index.html?ui=P_0x7f26a4f73bc0_8&reconnect=auto\" class=\"pyvi…"
      ]
     },
     "metadata": {},
     "output_type": "display_data"
    }
   ],
   "source": [
    "pred_research_group, _, _ = get_prediction(model, cloud, device)\n",
    "\n",
    "attributions = pointnet_saliency_deprecated(model, cloud, device)\n",
    "\n",
    "vis_attributions(attributions, subject, cloud, pred_research_group)"
   ]
  }
 ],
 "metadata": {
  "kernelspec": {
   "display_name": ".venv",
   "language": "python",
   "name": "python3"
  },
  "language_info": {
   "codemirror_mode": {
    "name": "ipython",
    "version": 3
   },
   "file_extension": ".py",
   "mimetype": "text/x-python",
   "name": "python",
   "nbconvert_exporter": "python",
   "pygments_lexer": "ipython3",
   "version": "3.12.3"
  }
 },
 "nbformat": 4,
 "nbformat_minor": 2
}

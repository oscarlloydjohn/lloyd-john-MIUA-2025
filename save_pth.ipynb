{
 "cells": [
  {
   "cell_type": "code",
   "execution_count": 1,
   "metadata": {},
   "outputs": [],
   "source": [
    "import torch\n",
    "\n",
    "from pointnet2_benny import pointnet2_cls_ssg\n",
    "from pointnet2_benny import provider\n",
    "\n",
    "import pickle\n"
   ]
  },
  {
   "cell_type": "code",
   "execution_count": 2,
   "metadata": {},
   "outputs": [],
   "source": [
    "pickle_pathname = \"/uolstore/home/student_lnxhome01/sc22olj/Compsci/year3/individual-project-COMP3931/individual-project-sc22olj/runs/run_26-03-2025_15-40-01/run_26-03-2025_15-40-01_params.pkl\"\n",
    "\n",
    "with open(pickle_pathname, 'rb') as file:\n",
    "    \n",
    "    parameters = pickle.load(file)\n",
    "\n",
    "model = parameters.model\n",
    "\n",
    "model.to('cpu')\n",
    "\n",
    "torch.save(model.state_dict(), 'current_model.pth')\n"
   ]
  }
 ],
 "metadata": {
  "kernelspec": {
   "display_name": ".venv",
   "language": "python",
   "name": "python3"
  },
  "language_info": {
   "codemirror_mode": {
    "name": "ipython",
    "version": 3
   },
   "file_extension": ".py",
   "mimetype": "text/x-python",
   "name": "python",
   "nbconvert_exporter": "python",
   "pygments_lexer": "ipython3",
   "version": "3.12.3"
  }
 },
 "nbformat": 4,
 "nbformat_minor": 2
}

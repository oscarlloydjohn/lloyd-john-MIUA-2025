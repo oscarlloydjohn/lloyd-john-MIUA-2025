{
 "cells": [
  {
   "cell_type": "code",
   "execution_count": null,
   "metadata": {},
   "outputs": [],
   "source": [
    "# Modules for debugging\n",
    "\n",
    "import numpy as np\n",
    "import pandas as pd\n",
    "import matplotlib.pyplot as plt\n",
    "import pandas as pd\n",
    "from sklearn.ensemble import GradientBoostingClassifier\n",
    "from sklearn.ensemble import HistGradientBoostingClassifier\n",
    "from sklearn.model_selection import train_test_split\n",
    "from sklearn.metrics import accuracy_score\n",
    "from sklearn.model_selection import train_test_split, cross_val_score, StratifiedKFold, KFold\n",
    "from sklearn.preprocessing import StandardScaler\n",
    "from joblib import parallel_backend\n",
    "import shap\n",
    "\n",
    "\n",
    "# Custom modules\n",
    "from preprocessing_post_fastsurfer.alignment import *\n",
    "from preprocessing_post_fastsurfer.cropping import *\n",
    "from preprocessing_post_fastsurfer.extraction import *\n",
    "from preprocessing_post_fastsurfer.file_handling import *\n",
    "from preprocessing_post_fastsurfer.mesh_creation import *\n",
    "from preprocessing_post_fastsurfer.subject import *\n",
    "from preprocessing_post_fastsurfer.vis import *\n",
    "\n",
    "# Custom modules\n",
    "from ozzy_torch_utils.split_dataset import *\n",
    "from ozzy_torch_utils.subject_dataset import *\n",
    "\n",
    "np.set_printoptions(precision=2, suppress=True)"
   ]
  },
  {
   "cell_type": "code",
   "execution_count": 3,
   "metadata": {},
   "outputs": [],
   "source": [
    "data_path = \"/uolstore/home/student_lnxhome01/sc22olj/Compsci/year3/individual-project-COMP3931/individual-project-sc22olj/scratch-disk/full-datasets/hcampus-1.5T-cohort\"\n",
    "\n",
    "selected_labels = ['CN', 'MCI']\n",
    "\n",
    "# Dictionary key representing the disease labels\n",
    "labels_string = 'research_group'"
   ]
  },
  {
   "cell_type": "code",
   "execution_count": null,
   "metadata": {},
   "outputs": [],
   "source": [
    "dataset = SubjectDataset(data_path, selected_labels, data_string='volumes')"
   ]
  },
  {
   "cell_type": "code",
   "execution_count": null,
   "metadata": {},
   "outputs": [],
   "source": [
    "labels = np.array([dataset[index]['research_group'] for index in range(len(dataset.subject_list))])\n",
    "\n",
    "volumes = np.array([dataset[index]['volumes'] for index in range(len(dataset.subject_list))])\n",
    "\n",
    "print(f\"Unique labels: {np.unique(labels, return_counts=True)}\\n\")"
   ]
  },
  {
   "cell_type": "code",
   "execution_count": null,
   "metadata": {},
   "outputs": [],
   "source": [
    "scoring = 'roc_auc'\n",
    "\n",
    "with parallel_backend('threading', n_jobs=8):\n",
    "\n",
    "    model = GradientBoostingClassifier(n_estimators=4, learning_rate=0.1, max_depth=3)\n",
    "\n",
    "    cv = StratifiedKFold(n_splits=10, shuffle=True)\n",
    "\n",
    "    cv_scores = cross_val_score(model, volumes, labels, cv=cv, scoring=scoring)\n",
    "\n",
    "    print(f'Cross-validation {scoring} scores: {cv_scores}')\n",
    "    print(f'Mean cross-validation {scoring}: {np.mean(cv_scores)}')\n",
    "    print(f'Standard deviation of cross-validation {scoring}: {np.std(cv_scores)}')"
   ]
  },
  {
   "cell_type": "code",
   "execution_count": null,
   "metadata": {},
   "outputs": [],
   "source": [
    "plt.figure(figsize=(8, 6))\n",
    "plt.plot(range(1, len(cv_scores) + 1), cv_scores, marker='o', color='b', linestyle='-', label='Accuracy per fold')\n",
    "plt.axhline(y=np.mean(cv_scores), color='r', linestyle='--', label=f'Mean Accuracy ({np.mean(cv_scores):.2f})')\n",
    "plt.title('Cross-Validation Accuracy Scores for Each Fold')\n",
    "plt.xlabel('Fold Number')\n",
    "plt.ylabel('Accuracy')\n",
    "plt.ylim(0.5,1)\n",
    "plt.legend(loc='upper left')\n",
    "plt.grid(True)\n",
    "plt.show()"
   ]
  },
  {
   "cell_type": "code",
   "execution_count": null,
   "metadata": {},
   "outputs": [],
   "source": [
    "\n",
    "model.fit(volumes, labels)\n",
    "feature_importance = pd.Series(model.feature_importances_)\n",
    "print(max(feature_importance))\n",
    "feature_importance.sort_values()[-10:].plot(kind=\"barh\", figsize = (10, 20))"
   ]
  },
  {
   "cell_type": "code",
   "execution_count": null,
   "metadata": {},
   "outputs": [],
   "source": [
    "model = GradientBoostingClassifier(n_estimators=4, learning_rate=0.1, max_depth=3)\n",
    "\n",
    "model.fit(volumes, labels)\n",
    "\n",
    "explainer = shap.Explainer(model)\n",
    "\n",
    "shap_values = explainer(volumes)\n",
    "\n",
    "print(len(shap_values))\n",
    "\n",
    "shap.plots.bar(shap_values[0], max_display=10)\n",
    "\n",
    "shap.summary_plot(shap_values, volumes, feature_names=dataset[0]['struct_names'])\n"
   ]
  },
  {
   "cell_type": "code",
   "execution_count": null,
   "metadata": {},
   "outputs": [],
   "source": [
    "\n",
    "with parallel_backend('threading', n_jobs=8):\n",
    "\n",
    "    model = HistGradientBoostingClassifier(learning_rate=0.1, max_leaf_nodes=10, max_depth=2, class_weight='balanced')\n",
    "\n",
    "    # Need to implement k fold with non-leakage datasets, there could be leakage here if single_img_per_subject is not selected\n",
    "    cv = StratifiedKFold(n_splits=10, shuffle=True)\n",
    "\n",
    "    cv_scores = cross_val_score(model, volumes, labels, cv=cv, scoring='accuracy')\n",
    "\n",
    "    print(f'Cross-validation accuracy scores: {cv_scores}')\n",
    "    print(f'Mean cross-validation accuracy: {np.mean(cv_scores)}')\n",
    "    print(f'Standard deviation of cross-validation accuracy: {np.std(cv_scores)}')"
   ]
  },
  {
   "cell_type": "code",
   "execution_count": null,
   "metadata": {},
   "outputs": [],
   "source": [
    "plt.figure(figsize=(8, 6))\n",
    "plt.plot(range(1, len(cv_scores) + 1), cv_scores, marker='o', color='b', linestyle='-', label='Accuracy per fold')\n",
    "plt.axhline(y=np.mean(cv_scores), color='r', linestyle='--', label=f'Mean Accuracy ({np.mean(cv_scores):.2f})')\n",
    "plt.title('Cross-Validation Accuracy Scores for Each Fold')\n",
    "plt.xlabel('Fold Number')\n",
    "plt.ylabel('Accuracy')\n",
    "plt.ylim(0.5,1)\n",
    "plt.legend(loc='upper left')\n",
    "plt.grid(True)\n",
    "plt.show()"
   ]
  },
  {
   "cell_type": "code",
   "execution_count": null,
   "metadata": {},
   "outputs": [],
   "source": [
    "model = HistGradientBoostingClassifier(learning_rate=0.0001, max_iter=4, max_leaf_nodes=25, l2_regularization=4.0, min_samples_leaf=150, max_depth=2, class_weight='balanced', scoring='roc_auc')\n",
    "\n",
    "model.fit(volumes, labels)"
   ]
  },
  {
   "cell_type": "code",
   "execution_count": null,
   "metadata": {},
   "outputs": [],
   "source": [
    "explainer = shap.Explainer(model)\n",
    "\n",
    "sample = volumes # np.random.choice(scores.shape[0], 1, replace=False)\n",
    "\n",
    "shap_values = explainer(sample)\n",
    "\n",
    "print(len(shap_values))\n",
    "\n",
    "shap.plots.bar(shap_values, max_display=10)\n",
    "\n",
    "shap.summary_plot(shap_values, volumes)"
   ]
  },
  {
   "cell_type": "code",
   "execution_count": null,
   "metadata": {},
   "outputs": [],
   "source": []
  }
 ],
 "metadata": {
  "kernelspec": {
   "display_name": ".venv",
   "language": "python",
   "name": "python3"
  },
  "language_info": {
   "codemirror_mode": {
    "name": "ipython",
    "version": 3
   },
   "file_extension": ".py",
   "mimetype": "text/x-python",
   "name": "python",
   "nbconvert_exporter": "python",
   "pygments_lexer": "ipython3",
   "version": "3.12.3"
  }
 },
 "nbformat": 4,
 "nbformat_minor": 2
}

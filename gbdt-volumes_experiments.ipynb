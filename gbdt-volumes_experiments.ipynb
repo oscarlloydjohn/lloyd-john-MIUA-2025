{
 "cells": [
  {
   "cell_type": "code",
   "execution_count": null,
   "metadata": {},
   "outputs": [],
   "source": [
    "import numpy as np\n",
    "import pandas as pd\n",
    "import matplotlib.pyplot as plt\n",
    "import pandas as pd\n",
    "from sklearn.ensemble import *\n",
    "from sklearn.model_selection import cross_val_score, StratifiedKFold\n",
    "from joblib import parallel_backend\n",
    "import shap\n",
    "import pickle\n",
    "\n",
    "# Custom modules\n",
    "from ozzy_torch_utils.subject_dataset import *\n",
    "\n",
    "np.set_printoptions(precision=2, suppress=True)"
   ]
  },
  {
   "cell_type": "code",
   "execution_count": null,
   "metadata": {},
   "outputs": [],
   "source": [
    "data_path = \"/uolstore/home/student_lnxhome01/sc22olj/Compsci/year3/individual-project-COMP3931/individual-project-sc22olj/scratch-disk/full-datasets/hcampus-1.5T-cohort\"\n",
    "\n",
    "selected_labels = ['CN', 'MCI']\n",
    "\n",
    "# Dictionary key representing the disease labels\n",
    "labels_string = 'research_group'"
   ]
  },
  {
   "cell_type": "code",
   "execution_count": null,
   "metadata": {},
   "outputs": [],
   "source": [
    "dataset = SubjectDataset(data_path, selected_labels, data_string='volumes')"
   ]
  },
  {
   "cell_type": "code",
   "execution_count": null,
   "metadata": {},
   "outputs": [],
   "source": [
    "labels = np.array([dataset[index]['research_group'] for index in range(len(dataset.subject_list))])\n",
    "\n",
    "volumes = np.array([dataset[index]['volumes'] for index in range(len(dataset.subject_list))])\n",
    "\n",
    "print(f\"Unique labels: {np.unique(labels, return_counts=True)}\\n\")"
   ]
  },
  {
   "cell_type": "code",
   "execution_count": null,
   "metadata": {},
   "outputs": [],
   "source": [
    "args = {\n",
    "    'learning_rate':0.5,\n",
    "    'l2_regularization': 0,\n",
    "    'max_leaf_nodes': 30,\n",
    "    'max_features': 0.5,\n",
    "}\n",
    "\n",
    "with parallel_backend('threading', n_jobs=8):\n",
    "\n",
    "    # model = GradientBoostingClassifier(n_estimators=n_estimators, learning_rate=learning_rate, max_depth=max_depth)\n",
    "\n",
    "    model = HistGradientBoostingClassifier(**args, class_weight='balanced')\n",
    "\n",
    "    cv = StratifiedKFold(n_splits=10, shuffle=True)\n",
    "\n",
    "    auc_scores = cross_val_score(model, volumes, labels, cv=cv, scoring='roc_auc')\n",
    "    f1_scores = cross_val_score(model, volumes, labels, cv=cv, scoring='f1')\n",
    "\n",
    "    print(f'Cross-validation AUC scores: {auc_scores}')\n",
    "    print(f'Mean cross-validation AUC score: {np.mean(auc_scores)}')\n",
    "    print(f'Standard deviation of cross-validation AUC: {np.std(auc_scores)}')\n",
    "    print(f'Cross-validation f1 scores: {f1_scores}')\n",
    "    print(f'Mean cross-validation f1 score: {np.mean(f1_scores)}')\n",
    "    print(f'Standard deviation of cross-validation f1: {np.std(f1_scores)}')"
   ]
  },
  {
   "cell_type": "code",
   "execution_count": null,
   "metadata": {},
   "outputs": [],
   "source": [
    "\n",
    "plt.figure(figsize=(8, 6))\n",
    "plt.plot(range(1, len(auc_scores) + 1), auc_scores, marker='o', color='b', linestyle='-', label=f'ROC AUC per fold')\n",
    "plt.axhline(y=np.mean(auc_scores), color='b', linestyle='--', label=f'Mean AUC ({np.mean(auc_scores):.2f}, σ={np.std(auc_scores):.2f})')\n",
    "plt.plot(range(1, len(f1_scores) + 1), f1_scores, marker='o', color='r', linestyle='-', label=f'f1 per fold')\n",
    "plt.axhline(y=np.mean(f1_scores), color='r', linestyle='--', label=f'Mean f1 ({np.mean(f1_scores):.2f}, σ={np.std(f1_scores):.2f})')\n",
    "plt.xlabel('Fold Number')\n",
    "plt.ylabel(f'Score')\n",
    "plt.ylim(0,1)\n",
    "plt.legend(loc='lower left')\n",
    "plt.grid(True)\n",
    "plt.show()\n",
    "\n",
    "\n",
    "np.savez('/uolstore/home/student_lnxhome01/sc22olj/Compsci/year3/individual-project-COMP3931/individual-project-sc22olj/volumes_cv.npz', auc_scores=auc_scores, f1_scores=f1_scores)"
   ]
  },
  {
   "cell_type": "code",
   "execution_count": null,
   "metadata": {},
   "outputs": [],
   "source": [
    "model.fit(volumes, labels)\n",
    "\n",
    "explainer = shap.Explainer(model, feature_names=dataset[0]['struct_names'])\n",
    "\n",
    "shap_values = explainer(volumes)\n",
    "\n",
    "print(len(shap_values))\n",
    "\n",
    "shap.plots.bar(shap_values[0], max_display=10)\n",
    "\n",
    "shap.summary_plot(shap_values, volumes)\n"
   ]
  },
  {
   "cell_type": "code",
   "execution_count": null,
   "metadata": {},
   "outputs": [],
   "source": [
    "with open(f'volumes_gbdt.pkl', 'wb') as file:\n",
    "    \n",
    "    pickle.dump(model, file)  \n"
   ]
  },
  {
   "cell_type": "code",
   "execution_count": null,
   "metadata": {},
   "outputs": [],
   "source": []
  }
 ],
 "metadata": {
  "kernelspec": {
   "display_name": ".venv",
   "language": "python",
   "name": "python3"
  },
  "language_info": {
   "codemirror_mode": {
    "name": "ipython",
    "version": 3
   },
   "file_extension": ".py",
   "mimetype": "text/x-python",
   "name": "python",
   "nbconvert_exporter": "python",
   "pygments_lexer": "ipython3",
   "version": "3.12.7"
  }
 },
 "nbformat": 4,
 "nbformat_minor": 2
}

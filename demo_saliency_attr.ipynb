{
 "cells": [
  {
   "cell_type": "code",
   "execution_count": 11,
   "id": "1ce58a5d",
   "metadata": {},
   "outputs": [],
   "source": [
    "# Torch\n",
    "import torch\n",
    "import torch.optim as optim\n",
    "from torcheval.metrics import *\n",
    "\n",
    "# Benny pointnet\n",
    "from pointnet2_benny import pointnet2_cls_msg\n",
    "\n",
    "import dill as pickle\n",
    "import shap\n",
    "from captum.attr import *\n",
    "import pyvista as pv\n",
    "from matplotlib.colors import Normalize\n",
    "from random import sample\n",
    "from matplotlib.colors import LinearSegmentedColormap\n",
    "\n",
    "# Custom modules\n",
    "from final_models_explainability.explain_pointnet import *"
   ]
  },
  {
   "cell_type": "code",
   "execution_count": 12,
   "id": "75491e9f",
   "metadata": {},
   "outputs": [],
   "source": [
    "def pointnet_saliency(model, cloud, device):\n",
    "\n",
    "    model.to(device)\n",
    "    \n",
    "    model.eval()\n",
    "\n",
    "    # Wrap model as pointnet_cls outputs a tuple for some reason\n",
    "    wrapped_model = lambda x: model(x)[0]\n",
    "\n",
    "    saliency = Saliency(wrapped_model)\n",
    "\n",
    "    input = torch.from_numpy(cloud)\n",
    "\n",
    "    # NN expects float32 on cuda\n",
    "    input = input.type(torch.float32).to(device)\n",
    "\n",
    "    # Unsqueeze to add empty batch dimension then transpose  to 3 x n as expected by pointnet\n",
    "    input = input.unsqueeze(0).transpose(2, 1)\n",
    "\n",
    "    attributions = saliency.attribute(input, target=1, abs=False)\n",
    "    \n",
    "    # Transpose back to n x 3 and remove batch dim\n",
    "    attributions = attributions.transpose(1, 2).squeeze(0)\n",
    "    \n",
    "    # Move to CPU for processing\n",
    "    attributions = attributions.cpu().numpy()\n",
    "    \n",
    "    return attributions"
   ]
  },
  {
   "cell_type": "code",
   "execution_count": 13,
   "id": "89a70554",
   "metadata": {},
   "outputs": [
    {
     "name": "stdout",
     "output_type": "stream",
     "text": [
      "70\n"
     ]
    }
   ],
   "source": [
    "results = np.load(\"pointnet_eval.npz\")\n",
    "\n",
    "correct_indices = []\n",
    "\n",
    "for i in range(len(results['true'])):\n",
    "\n",
    "    if results['true'][i] == 1 and results['pred_classes'][i] == 1:\n",
    "\n",
    "        correct_indices.append(i)\n",
    "\n",
    "filtered_results = {\n",
    "                    'true': [results['true'][i] for i in correct_indices],\n",
    "                    'pred_probs': [results['pred_probs'][i] for i in correct_indices],\n",
    "                    'data': [results['data'][i] for i in correct_indices], \n",
    "                    'attributions_zero_list': [results['attributions_zero_list'][i] for i in correct_indices],\n",
    "                    'attributions_mean_list': [results['attributions_mean_list'][i] for i in correct_indices]\n",
    "}\n",
    "\n",
    "print(len(filtered_results['data']))"
   ]
  },
  {
   "cell_type": "code",
   "execution_count": 14,
   "id": "fe7d8633",
   "metadata": {},
   "outputs": [
    {
     "data": {
      "application/vnd.jupyter.widget-view+json": {
       "model_id": "d8a0563a0ea54677b14e34f66ad47ce4",
       "version_major": 2,
       "version_minor": 0
      },
      "text/plain": [
       "Widget(value='<iframe src=\"http://localhost:53245/index.html?ui=P_0x31a946360_6&reconnect=auto\" class=\"pyvista…"
      ]
     },
     "metadata": {},
     "output_type": "display_data"
    }
   ],
   "source": [
    "plotter = pv.Plotter()\n",
    "\n",
    "colours = [(0, 'white'), (1, 'red')]\n",
    "    \n",
    "custom_cmap = LinearSegmentedColormap.from_list('custom_cmap', colours)\n",
    "\n",
    "norm_xyz_sum = normalise_attributions(filtered_results['attributions_zero_list'][0], power = 0.3)\n",
    "\n",
    "pv_cloud = pv.PolyData(filtered_results['data'][0])\n",
    "\n",
    "plotter.add_points(pv_cloud, scalars=norm_xyz_sum, cmap=custom_cmap, clim=[0,1])\n",
    "\n",
    "plotter.set_background(\"black\")\n",
    "\n",
    "plotter.show()"
   ]
  },
  {
   "cell_type": "code",
   "execution_count": 15,
   "id": "a40dcc10",
   "metadata": {},
   "outputs": [
    {
     "name": "stderr",
     "output_type": "stream",
     "text": [
      "/Users/ozzy/Compsci/year3/individual-project-COMP3931/individual-project-sc22olj/.venv/lib/python3.12/site-packages/captum/_utils/gradient.py:57: UserWarning: Input Tensor 0 did not already require gradients, required_grads has been set automatically.\n",
      "  warnings.warn(\n"
     ]
    },
    {
     "data": {
      "application/vnd.jupyter.widget-view+json": {
       "model_id": "6629eb7ea12f45a5835231a83cb961c2",
       "version_major": 2,
       "version_minor": 0
      },
      "text/plain": [
       "Widget(value='<iframe src=\"http://localhost:53245/index.html?ui=P_0x16ddb45c0_7&reconnect=auto\" class=\"pyvista…"
      ]
     },
     "metadata": {},
     "output_type": "display_data"
    }
   ],
   "source": [
    "plotter = pv.Plotter()\n",
    "\n",
    "colours = [(0, 'white'), (1, 'red')]\n",
    "    \n",
    "custom_cmap = LinearSegmentedColormap.from_list('custom_cmap', colours)\n",
    "\n",
    "model = pointnet2_cls_msg.get_model(2, normal_channel=False)\n",
    "\n",
    "model.load_state_dict(torch.load(\"final_models_explainability/pointnet.pth\", weights_only=True))\n",
    "\n",
    "norm_xyz_sum = normalise_attributions(pointnet_saliency(model, filtered_results['data'][0], 'cpu'), power = 0.3)\n",
    "\n",
    "pv_cloud = pv.PolyData(filtered_results['data'][0])\n",
    "\n",
    "plotter.add_points(pv_cloud, scalars=norm_xyz_sum, cmap=custom_cmap, clim=[0,1])\n",
    "\n",
    "plotter.set_background(\"black\")\n",
    "\n",
    "plotter.show()"
   ]
  },
  {
   "cell_type": "code",
   "execution_count": null,
   "id": "33dab1d9",
   "metadata": {},
   "outputs": [],
   "source": []
  }
 ],
 "metadata": {
  "kernelspec": {
   "display_name": ".venv",
   "language": "python",
   "name": "python3"
  },
  "language_info": {
   "codemirror_mode": {
    "name": "ipython",
    "version": 3
   },
   "file_extension": ".py",
   "mimetype": "text/x-python",
   "name": "python",
   "nbconvert_exporter": "python",
   "pygments_lexer": "ipython3",
   "version": "3.12.7"
  }
 },
 "nbformat": 4,
 "nbformat_minor": 5
}

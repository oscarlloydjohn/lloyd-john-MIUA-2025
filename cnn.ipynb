{
 "cells": [
  {
   "cell_type": "code",
   "execution_count": 1,
   "metadata": {},
   "outputs": [],
   "source": [
    "import nibabel\n",
    "import os\n",
    "import numpy as np\n",
    "import torch\n",
    "from torch import nn\n",
    "from torch.utils.data import Dataset, DataLoader, random_split\n",
    "\n",
    "# Custom modules\n",
    "from preprocessing_post_fastsurfer.subject import *\n",
    "from preprocessing_post_fastsurfer.vis import *"
   ]
  },
  {
   "cell_type": "code",
   "execution_count": 2,
   "metadata": {},
   "outputs": [],
   "source": [
    "\n",
    "class SubjectDataset(Dataset):\n",
    "    def __init__(self, data_path):\n",
    "        \n",
    "        self.subjects_list = find_subjects(data_path)\n",
    "\n",
    "    def __len__(self):\n",
    "        \n",
    "        return len(self.subjects_list)\n",
    "\n",
    "    def __getitem__(self, index):\n",
    "        \n",
    "        subject = self.subjects_list[index]\n",
    "        \n",
    "        \n",
    "        \"\"\"IMAGES\"\"\"\n",
    "        \n",
    "        # Aligned cropped brain\n",
    "        brain = self.load_mri_to_tensor(subject.brain_aligned_cropped)\n",
    "        \n",
    "        # NB these are all cropped\n",
    "        hcampus_vox = self.load_mri_to_tensor(os.path.join(subject.path, 'Left-Hippocampus_Right-Hippocampus_cropped.nii'))\n",
    "        \n",
    "        hcampus_vox_aligned = self.load_mri_to_tensor(os.path.join(subject.path, 'Left-Hippocampus_Right-Hippocampus_aligned_cropped.nii'))\n",
    "    \n",
    "        hcampus_pointcloud = torch.tensor(np.load(os.path.join(subject.path, 'Left-Hippocampus_Right-Hippocampus_cropped_mesh_downsampled.npy')), dtype=torch.float32)\n",
    "                                          \n",
    "        hcampus_pointcloud_aligned = torch.tensor(np.load(os.path.join(subject.path, 'Left-Hippocampus_Right-Hippocampus_aligned_cropped_mesh_downsampled.npy')), dtype=torch.float32)\n",
    "        \n",
    "        \n",
    "        \"\"\"REGION VOLUME STATS\"\"\"\n",
    "        \n",
    "        aseg_stats = subject.aseg_stats\n",
    "        \n",
    "        \n",
    "        \"\"\"SUBJECT INFO - NB NOT COMPLETE WITH SCORES, NEED TO PARSE XML\"\"\"\n",
    "    \n",
    "        # Info from subject XML\n",
    "        subject_dict = subject.xml_df\n",
    "    \n",
    "        research_group = subject_dict['idaxs']['project']['subject']['researchGroup']\n",
    "        \n",
    "        visit_identifier = subject_dict['idaxs']['project']['subject']['visit']['visitIdentifier']\n",
    "        \n",
    "        sex = subject_dict['idaxs']['project']['subject']['subjectSex']\n",
    "        \n",
    "        age = subject_dict['idaxs']['project']['subject']['study']['subjectAge']\n",
    "        \n",
    "        weight = subject_dict['idaxs']['project']['subject']['study']['weightKg']\n",
    "        \n",
    "        apoe_a1 = subject_dict['idaxs']['project']['subject']['subjectInfo'][0]['#text']\n",
    "        \n",
    "        apoe_a2 = subject_dict['idaxs']['project']['subject']['subjectInfo'][1]['#text']\n",
    "            \n",
    "        \n",
    "        # Scores\n",
    "        \n",
    "\n",
    "        # Return a dictionary with your data\n",
    "        return {\n",
    "            'brain': brain,\n",
    "            'hcampus_vox': hcampus_vox,\n",
    "            'hcampus_vox_aligned': hcampus_vox_aligned,\n",
    "            'hcampus_pointcloud': hcampus_pointcloud,\n",
    "            'hcampus_pointcloud_aligned': hcampus_pointcloud_aligned,\n",
    "            'aseg_stats': aseg_stats,\n",
    "            'research_group': research_group,\n",
    "            'visit_identifier': visit_identifier,\n",
    "            'sex': sex,\n",
    "            'age': age,\n",
    "            'weight': weight,\n",
    "            'apoe_a1': apoe_a1,\n",
    "            'apoe_a2': apoe_a2,\n",
    "        }\n",
    "        \n",
    "    def load_mri_to_tensor(self, path):\n",
    "        \n",
    "        if path is None or not os.path.isfile(path):\n",
    "            return torch.empty(0)  # Return empty tensor if the file doesn't exist\n",
    "        \n",
    "        # Example of using nibabel to load .mgz files (you can modify as needed)\n",
    "        image = nibabel.load(path)\n",
    "\n",
    "        image_data = image.get_fdata()\n",
    "        \n",
    "        # Convert to PyTorch tensor\n",
    "        tensor_data = torch.tensor(image_data, dtype=torch.float32)\n",
    "        \n",
    "        return tensor_data\n",
    "\n",
    "    "
   ]
  },
  {
   "cell_type": "code",
   "execution_count": 3,
   "metadata": {},
   "outputs": [],
   "source": [
    "data_path = \"/uolstore/home/student_lnxhome01/sc22olj/Compsci/year3/individual-project-COMP3931/individual-project-sc22olj/scratch disk/full-datasets/adni1-complete-3T-processed\""
   ]
  },
  {
   "cell_type": "code",
   "execution_count": 4,
   "metadata": {},
   "outputs": [],
   "source": [
    "# Create a pytorch dataset using the subject list\n",
    "dataset = SubjectDataset(data_path)"
   ]
  },
  {
   "cell_type": "code",
   "execution_count": 5,
   "metadata": {},
   "outputs": [
    {
     "data": {
      "text/plain": [
       "\"\\nfor subject in dataset.subjects_list:\\n    \\n    research_group = subject.xml_df['idaxs']['project']['subject']['researchGroup']\\n    \\n    print(research_group)\\n    \\n    display_mesh(np.load(os.path.join(subject.path, 'Left-Hippocampus_Right-Hippocampus_cropped_mesh.npy')), downsample_factor=1)\""
      ]
     },
     "execution_count": 5,
     "metadata": {},
     "output_type": "execute_result"
    }
   ],
   "source": [
    "'''\n",
    "for subject in dataset.subjects_list:\n",
    "    \n",
    "    research_group = subject.xml_df['idaxs']['project']['subject']['researchGroup']\n",
    "    \n",
    "    print(research_group)\n",
    "    \n",
    "    display_mesh(np.load(os.path.join(subject.path, 'Left-Hippocampus_Right-Hippocampus_cropped_mesh.npy')), downsample_factor=1)'''"
   ]
  },
  {
   "cell_type": "code",
   "execution_count": 6,
   "metadata": {},
   "outputs": [
    {
     "name": "stdout",
     "output_type": "stream",
     "text": [
      "475\n"
     ]
    }
   ],
   "source": [
    "print(len(dataset.subjects_list))"
   ]
  },
  {
   "cell_type": "code",
   "execution_count": 7,
   "metadata": {},
   "outputs": [],
   "source": [
    "def split_dataset(dataset, test_size=0.2):\n",
    "    \n",
    "    dataset_size = len(dataset)\n",
    "    \n",
    "    test_size = int(test_size * dataset_size)\n",
    "    \n",
    "    train_size = dataset_size - test_size\n",
    "    \n",
    "    train_dataset, test_dataset = random_split(dataset, [train_size, test_size])\n",
    "    \n",
    "    return train_dataset, test_dataset"
   ]
  },
  {
   "cell_type": "code",
   "execution_count": 8,
   "metadata": {},
   "outputs": [],
   "source": [
    "train_data, test_data = split_dataset(dataset)\n",
    "\n",
    "train_dataloader = DataLoader(train_data)\n",
    "\n",
    "test_dataloader = DataLoader(test_data)\n",
    "\n"
   ]
  },
  {
   "cell_type": "code",
   "execution_count": 9,
   "metadata": {},
   "outputs": [
    {
     "name": "stdout",
     "output_type": "stream",
     "text": [
      "Using cuda device\n"
     ]
    }
   ],
   "source": [
    "device = torch.accelerator.current_accelerator().type if torch.accelerator.is_available() else \"cpu\"\n",
    "\n",
    "print(f\"Using {device} device\")"
   ]
  },
  {
   "cell_type": "code",
   "execution_count": 15,
   "metadata": {},
   "outputs": [
    {
     "name": "stdout",
     "output_type": "stream",
     "text": [
      "torch.Size([4930, 3])\n"
     ]
    }
   ],
   "source": [
    "print(dataset[0]['hcampus_pointcloud'].shape)"
   ]
  },
  {
   "cell_type": "code",
   "execution_count": 11,
   "metadata": {},
   "outputs": [],
   "source": [
    "class NeuralNetwork(nn.Module):\n",
    "    def __init__(self):\n",
    "        super().__init__()\n",
    "        self.flatten = nn.Flatten()\n",
    "        self.linear_relu_stack = nn.Sequential(\n",
    "            nn.Linear(28*28, 512),\n",
    "            nn.ReLU(),\n",
    "            nn.Linear(512, 512),\n",
    "            nn.ReLU(),\n",
    "            nn.Linear(512, 10),\n",
    "        )\n",
    "\n",
    "    def forward(self, x):\n",
    "        x = self.flatten(x)\n",
    "        logits = self.linear_relu_stack(x)\n",
    "        return logits"
   ]
  }
 ],
 "metadata": {
  "kernelspec": {
   "display_name": ".venv",
   "language": "python",
   "name": "python3"
  },
  "language_info": {
   "codemirror_mode": {
    "name": "ipython",
    "version": 3
   },
   "file_extension": ".py",
   "mimetype": "text/x-python",
   "name": "python",
   "nbconvert_exporter": "python",
   "pygments_lexer": "ipython3",
   "version": "3.12.3"
  }
 },
 "nbformat": 4,
 "nbformat_minor": 2
}

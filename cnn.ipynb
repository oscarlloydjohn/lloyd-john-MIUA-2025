{
 "cells": [
  {
   "cell_type": "code",
   "execution_count": 7,
   "metadata": {},
   "outputs": [
    {
     "name": "stdout",
     "output_type": "stream",
     "text": [
      "hello\n"
     ]
    }
   ],
   "source": [
    "import nibabel\n",
    "from PIL import Image\n",
    "import torch\n",
    "import os\n",
    "import numpy as np\n",
    "from torch import nn\n",
    "from torch.utils.data import Dataset, DataLoader\n",
    "from torchvision import datasets\n",
    "from torchvision.transforms import ToTensor\n",
    "\n",
    "np.set_printoptions(precision=2, suppress=True)\n",
    "\n",
    "print(\"hello\")"
   ]
  },
  {
   "cell_type": "code",
   "execution_count": 16,
   "metadata": {},
   "outputs": [
    {
     "name": "stdout",
     "output_type": "stream",
     "text": [
      "<class 'nibabel.nifti1.Nifti1Header'> object, endian='<'\n",
      "sizeof_hdr      : 348\n",
      "data_type       : np.bytes_(b'')\n",
      "db_name         : np.bytes_(b'')\n",
      "extents         : 0\n",
      "session_error   : 0\n",
      "regular         : np.bytes_(b'')\n",
      "dim_info        : 0\n",
      "dim             : [  3 256 256 256   1   1   1   1]\n",
      "intent_p1       : 0.0\n",
      "intent_p2       : 0.0\n",
      "intent_p3       : 0.0\n",
      "intent_code     : none\n",
      "datatype        : uint8\n",
      "bitpix          : 8\n",
      "slice_start     : 0\n",
      "pixdim          : [-1.  1.  1.  1.  0.  1.  1.  1.]\n",
      "vox_offset      : 0.0\n",
      "scl_slope       : nan\n",
      "scl_inter       : nan\n",
      "slice_end       : 0\n",
      "slice_code      : unknown\n",
      "xyzt_units      : 10\n",
      "cal_max         : 0.0\n",
      "cal_min         : 0.0\n",
      "slice_duration  : 0.0\n",
      "toffset         : 0.0\n",
      "glmax           : 0\n",
      "glmin           : 0\n",
      "descrip         : np.bytes_(b'FreeSurfer Jun 13 2023')\n",
      "aux_file        : np.bytes_(b'')\n",
      "qform_code      : scanner\n",
      "sform_code      : scanner\n",
      "quatern_b       : -0.0\n",
      "quatern_c       : 0.70710677\n",
      "quatern_d       : -0.70710677\n",
      "qoffset_x       : 126.91078\n",
      "qoffset_y       : -84.09689\n",
      "qoffset_z       : 136.30408\n",
      "srow_x          : [ -1.    -0.     0.   126.91]\n",
      "srow_y          : [ -0.   -0.    1.  -84.1]\n",
      "srow_z          : [ -0.   -1.    0.  136.3]\n",
      "intent_name     : np.bytes_(b'')\n",
      "magic           : np.bytes_(b'n+1')\n",
      "<class 'numpy.ndarray'>\n"
     ]
    }
   ],
   "source": [
    "nii_image = nibabel.load(\"/uolstore/home/student_lnxhome01/sc22olj/Compsci/year3/individual-project-COMP3931/individual-project-sc22olj/scratch disk/preprocessed-sample/mri/orig.nii\")\n",
    "\n",
    "print(nii_image.header)\n",
    "\n",
    "image_data = nii_image.get_fdata()\n",
    "\n",
    "image_data_uncached = np.asarray(nii_image.dataobj)\n",
    "\n",
    "print(type(image_data_uncached))\n",
    "\n",
    "slice = image_data_uncached[image_data_uncached.shape[0] // 2, :, :]\n",
    "\n",
    "image = Image.fromarray(slice)\n",
    "\n",
    "image.show()\n",
    "    "
   ]
  },
  {
   "cell_type": "code",
   "execution_count": null,
   "metadata": {},
   "outputs": [],
   "source": []
  }
 ],
 "metadata": {
  "kernelspec": {
   "display_name": ".venv",
   "language": "python",
   "name": "python3"
  },
  "language_info": {
   "codemirror_mode": {
    "name": "ipython",
    "version": 3
   },
   "file_extension": ".py",
   "mimetype": "text/x-python",
   "name": "python",
   "nbconvert_exporter": "python",
   "pygments_lexer": "ipython3",
   "version": "3.12.3"
  }
 },
 "nbformat": 4,
 "nbformat_minor": 2
}

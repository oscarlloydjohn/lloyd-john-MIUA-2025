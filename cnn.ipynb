{
 "cells": [
  {
   "cell_type": "code",
   "execution_count": 1,
   "metadata": {},
   "outputs": [],
   "source": [
    "import torch\n",
    "from torch import nn\n",
    "from torch.utils.data import Dataset, DataLoader, random_split\n",
    "import torch\n",
    "import torch.optim as optim\n",
    "\n",
    "# Benny pointnet\n",
    "from pointnet2_benny import pointnet2_cls_msg\n",
    "from pointnet2_benny import provider\n",
    "\n",
    "# Other\n",
    "from tqdm import tqdm\n",
    "import nibabel\n",
    "import os\n",
    "import numpy as np\n",
    "import matplotlib.pyplot as plt\n",
    "\n",
    "# Custom modules\n",
    "from preprocessing_post_fastsurfer.subject import *\n",
    "from preprocessing_post_fastsurfer.vis import *"
   ]
  },
  {
   "cell_type": "code",
   "execution_count": 2,
   "metadata": {},
   "outputs": [],
   "source": [
    "\n",
    "class SubjectDataset(Dataset):\n",
    "    def __init__(self, data_path, labels_of_interest):\n",
    "        \n",
    "        if len(labels_of_interest) < 2 or len(labels_of_interest) > 3:\n",
    "            \n",
    "            print(\"Error, must have 2 or 3 classes \\n\")\n",
    "            \n",
    "            return\n",
    "        \n",
    "        self.labels_of_interest = labels_of_interest\n",
    "        \n",
    "        subject_list = []\n",
    "        \n",
    "        # Include only the subjects that have a label of interest\n",
    "        for subject in find_subjects(data_path):\n",
    "            \n",
    "            if subject.xml_df['idaxs']['project']['subject']['researchGroup'] in labels_of_interest:\n",
    "            \n",
    "                subject_list.append(subject)\n",
    "                \n",
    "            else:\n",
    "                \n",
    "                continue\n",
    "        \n",
    "        self.subject_list = subject_list\n",
    "\n",
    "    def __len__(self):\n",
    "        \n",
    "        return len(self.subject_list)\n",
    "\n",
    "    def __getitem__(self, index):\n",
    "        \n",
    "        subject = self.subject_list[index]\n",
    "        \n",
    "        \n",
    "        \"\"\"IMAGES\"\"\"\n",
    "        \n",
    "        # Aligned cropped brain\n",
    "        brain = self.load_mri_to_tensor(subject.brain_aligned_cropped)\n",
    "        \n",
    "        # NB these are all cropped\n",
    "        hcampus_vox = self.load_mri_to_tensor(os.path.join(subject.path, 'Left-Hippocampus_Right-Hippocampus_cropped.nii'))\n",
    "        \n",
    "        hcampus_vox_aligned = self.load_mri_to_tensor(os.path.join(subject.path, 'Left-Hippocampus_Right-Hippocampus_aligned_cropped.nii'))\n",
    "    \n",
    "        hcampus_pointcloud = torch.tensor(np.load(os.path.join(subject.path, 'Left-Hippocampus_Right-Hippocampus_cropped_mesh_downsampled.npy')), dtype=torch.float32)\n",
    "                                          \n",
    "        hcampus_pointcloud_aligned = torch.tensor(np.load(os.path.join(subject.path, 'Left-Hippocampus_Right-Hippocampus_aligned_cropped_mesh_downsampled.npy')), dtype=torch.float32)\n",
    "        \n",
    "        \n",
    "        \"\"\"REGION VOLUME STATS\"\"\"\n",
    "        \n",
    "        aseg_stats = subject.aseg_stats\n",
    "        \n",
    "        \n",
    "        \"\"\"SUBJECT INFO - NB NOT COMPLETE WITH SCORES, NEED TO PARSE XML\"\"\"\n",
    "    \n",
    "        # Info from subject XML\n",
    "        subject_dict = subject.xml_df\n",
    "        \n",
    "        # Convert research group disease label str to number for pytorch\n",
    "        if len(self.labels_of_interest) == 3:\n",
    "            \n",
    "            mapping = {\n",
    "                'CN': 0,\n",
    "                'MCI': 1,\n",
    "                'AD': 2\n",
    "            }\n",
    "            \n",
    "        elif len(self.labels_of_interest) == 2:\n",
    "        \n",
    "            mapping = {\n",
    "                'CN': 0,\n",
    "                'MCI': 1,\n",
    "                'AD': 1\n",
    "            }\n",
    "\n",
    "        \n",
    "        # Get the value of the mapping, -1 if not found\n",
    "        research_group = mapping.get(subject_dict['idaxs']['project']['subject']['researchGroup'], -1)\n",
    "        \n",
    "        visit_identifier = subject_dict['idaxs']['project']['subject']['visit']['visitIdentifier']\n",
    "        \n",
    "        sex = subject_dict['idaxs']['project']['subject']['subjectSex']\n",
    "        \n",
    "        age = subject_dict['idaxs']['project']['subject']['study']['subjectAge']\n",
    "        \n",
    "        weight = subject_dict['idaxs']['project']['subject']['study']['weightKg']\n",
    "        \n",
    "        apoe_a1 = subject_dict['idaxs']['project']['subject']['subjectInfo'][0]['#text']\n",
    "        \n",
    "        apoe_a2 = subject_dict['idaxs']['project']['subject']['subjectInfo'][1]['#text']\n",
    "            \n",
    "        \n",
    "        # Scores\n",
    "        \n",
    "\n",
    "        # Return a dictionary with your data\n",
    "        return {\n",
    "            'brain': brain,\n",
    "            'hcampus_vox': hcampus_vox,\n",
    "            'hcampus_vox_aligned': hcampus_vox_aligned,\n",
    "            'hcampus_pointcloud': hcampus_pointcloud,\n",
    "            'hcampus_pointcloud_aligned': hcampus_pointcloud_aligned,\n",
    "            'aseg_stats': aseg_stats,\n",
    "            'research_group': research_group,\n",
    "            'visit_identifier': visit_identifier,\n",
    "            'sex': sex,\n",
    "            'age': age,\n",
    "            'weight': weight,\n",
    "            'apoe_a1': apoe_a1,\n",
    "            'apoe_a2': apoe_a2,\n",
    "        }\n",
    "        \n",
    "    def load_mri_to_tensor(self, path):\n",
    "        \n",
    "        if path is None or not os.path.isfile(path):\n",
    "            return torch.empty(0)  # Return empty tensor if the file doesn't exist\n",
    "        \n",
    "        # Example of using nibabel to load .mgz files (you can modify as needed)\n",
    "        image = nibabel.load(path)\n",
    "\n",
    "        image_data = image.get_fdata()\n",
    "        \n",
    "        # Convert to PyTorch tensor\n",
    "        tensor_data = torch.tensor(image_data, dtype=torch.float32)\n",
    "        \n",
    "        return tensor_data\n",
    "\n",
    "def collate_fn(keys_of_interest):\n",
    "\n",
    "    def collate_fn_inner(batch):\n",
    "        \n",
    "        batch_data = {}\n",
    "\n",
    "        for key in keys_of_interest:\n",
    "\n",
    "            if all(key in item for item in batch):\n",
    "\n",
    "                if isinstance(batch[0][key], torch.Tensor):\n",
    "                    \n",
    "                    batch_data[key] = torch.stack([item[key] for item in batch if key in item])\n",
    "                    \n",
    "                else:\n",
    "\n",
    "                    batch_data[key] = torch.tensor([item[key] for item in batch if key in item], dtype=torch.long)\n",
    "                    \n",
    "            else:\n",
    "                \n",
    "                print(f\"Key error\")\n",
    "        \n",
    "        return batch_data\n",
    "\n",
    "    return collate_fn_inner"
   ]
  },
  {
   "cell_type": "code",
   "execution_count": 3,
   "metadata": {},
   "outputs": [],
   "source": [
    "def split_dataset(dataset, test_size=0.2):\n",
    "    \n",
    "    dataset_size = len(dataset)\n",
    "    \n",
    "    test_size = int(test_size * dataset_size)\n",
    "    \n",
    "    train_size = dataset_size - test_size\n",
    "    \n",
    "    train_dataset, test_dataset = random_split(dataset, [train_size, test_size])\n",
    "    \n",
    "    return train_dataset, test_dataset"
   ]
  },
  {
   "cell_type": "markdown",
   "metadata": {},
   "source": [
    "### Dataset creation"
   ]
  },
  {
   "cell_type": "code",
   "execution_count": 4,
   "metadata": {},
   "outputs": [],
   "source": [
    "data_path = \"/uolstore/home/student_lnxhome01/sc22olj/Compsci/year3/individual-project-COMP3931/individual-project-sc22olj/scratch disk/full-datasets/adni1-complete-3T-processed\"\n",
    "\n",
    "labels_of_interest = ['CN', 'AD']\n",
    "\n",
    "dataset = SubjectDataset(data_path, labels_of_interest)"
   ]
  },
  {
   "cell_type": "markdown",
   "metadata": {},
   "source": [
    "### Data checks"
   ]
  },
  {
   "cell_type": "code",
   "execution_count": 5,
   "metadata": {},
   "outputs": [
    {
     "name": "stdout",
     "output_type": "stream",
     "text": [
      "Dataset size: 249\n",
      "\n",
      "Unique labels: [0 1]\n",
      "\n"
     ]
    }
   ],
   "source": [
    "print(f\"Dataset size: {len(dataset)}\\n\")\n",
    "\n",
    "labels = []\n",
    "\n",
    "for subject in range(len(dataset.subject_list)):\n",
    "    \n",
    "    labels.append(dataset.__getitem__(subject)['research_group'])\n",
    "    \n",
    "print(f\"Unique labels: {np.unique(labels)}\\n\")"
   ]
  },
  {
   "cell_type": "markdown",
   "metadata": {},
   "source": [
    "### Loader config"
   ]
  },
  {
   "cell_type": "code",
   "execution_count": 6,
   "metadata": {},
   "outputs": [],
   "source": [
    "# Dictionary key representing the data of interest\n",
    "data_string = 'hcampus_pointcloud'\n",
    "\n",
    "# Dictionary key representing the disease labels\n",
    "labels_string = 'research_group'\n",
    "\n",
    "train_data, test_data = split_dataset(dataset, test_size = 0.2)\n",
    "\n",
    "train_dataloader = DataLoader(train_data, batch_size = 16, shuffle=True, collate_fn=collate_fn([data_string, labels_string]))\n",
    "\n",
    "test_dataloader = DataLoader(test_data, batch_size = 16, shuffle=False, collate_fn=collate_fn([data_string, labels_string]))\n",
    "\n"
   ]
  },
  {
   "cell_type": "markdown",
   "metadata": {},
   "source": [
    "### Cuda setup"
   ]
  },
  {
   "cell_type": "code",
   "execution_count": 7,
   "metadata": {},
   "outputs": [
    {
     "name": "stdout",
     "output_type": "stream",
     "text": [
      "Using cuda device\n"
     ]
    }
   ],
   "source": [
    "device = torch.accelerator.current_accelerator().type if torch.accelerator.is_available() else \"cpu\"\n",
    "\n",
    "print(f\"Using {device} device\")"
   ]
  },
  {
   "cell_type": "code",
   "execution_count": null,
   "metadata": {},
   "outputs": [
    {
     "name": "stdout",
     "output_type": "stream",
     "text": [
      "Starting epoch 1\n",
      "\n"
     ]
    },
    {
     "name": "stderr",
     "output_type": "stream",
     "text": [
      "100%|██████████| 13/13 [00:10<00:00,  1.29it/s]\n"
     ]
    },
    {
     "name": "stdout",
     "output_type": "stream",
     "text": [
      "\n",
      " Epoch 1 complete\n",
      "\n",
      "Training loss: 12.642136903909536\n",
      "\n",
      "Validation loss: 0.024789598523354044\n",
      "\n",
      "Accuracy: 73.46938775510205\n",
      "\n",
      "------------------------\n",
      "\n",
      "\n",
      "\n",
      "Starting epoch 2\n",
      "\n"
     ]
    },
    {
     "name": "stderr",
     "output_type": "stream",
     "text": [
      "100%|██████████| 13/13 [00:10<00:00,  1.25it/s]\n"
     ]
    },
    {
     "name": "stdout",
     "output_type": "stream",
     "text": [
      "\n",
      " Epoch 2 complete\n",
      "\n",
      "Training loss: 11.986897468566895\n",
      "\n",
      "Validation loss: 0.08734780914929448\n",
      "\n",
      "Accuracy: 73.46938775510205\n",
      "\n",
      "------------------------\n",
      "\n",
      "\n",
      "\n",
      "Starting epoch 3\n",
      "\n"
     ]
    },
    {
     "name": "stderr",
     "output_type": "stream",
     "text": [
      "100%|██████████| 13/13 [00:09<00:00,  1.35it/s]\n"
     ]
    },
    {
     "name": "stdout",
     "output_type": "stream",
     "text": [
      "\n",
      " Epoch 3 complete\n",
      "\n",
      "Training loss: 11.45545533987192\n",
      "\n",
      "Validation loss: 0.025989707635373484\n",
      "\n",
      "Accuracy: 73.46938775510205\n",
      "\n",
      "------------------------\n",
      "\n",
      "\n",
      "\n",
      "Starting epoch 4\n",
      "\n"
     ]
    },
    {
     "name": "stderr",
     "output_type": "stream",
     "text": [
      "100%|██████████| 13/13 [00:09<00:00,  1.34it/s]\n"
     ]
    },
    {
     "name": "stdout",
     "output_type": "stream",
     "text": [
      "\n",
      " Epoch 4 complete\n",
      "\n",
      "Training loss: 11.363816811488224\n",
      "\n",
      "Validation loss: 0.028559268737325862\n",
      "\n",
      "Accuracy: 73.46938775510205\n",
      "\n",
      "------------------------\n",
      "\n",
      "\n",
      "\n",
      "Training complete and model saved\n"
     ]
    }
   ],
   "source": [
    "torch.cuda.empty_cache()\n",
    "\n",
    "num_epochs = 4\n",
    "num_classes = 2\n",
    "\n",
    "training_losses, validation_losses = [], []\n",
    "\n",
    "model = pointnet2_cls_msg.get_model(num_classes, normal_channel=False)\n",
    "\n",
    "criterion = pointnet2_cls_msg.get_loss()\n",
    "\n",
    "optimizer = optim.Adam(model.parameters(), lr=0.0001, weight_decay=1e-4)\n",
    "\n",
    "model.to(device)\n",
    "\n",
    "for epoch in range(num_epochs):\n",
    "    \n",
    "    model.train()\n",
    "    \n",
    "    running_loss = 0.0\n",
    "    \n",
    "    print(f\"Starting epoch {epoch + 1}\\n\")\n",
    "\n",
    "    # Training loop\n",
    "    for batch_idx, dict in tqdm(enumerate(train_dataloader), total=len(train_dataloader)):\n",
    "        \n",
    "        points = dict[data_string]\n",
    "        labels = dict[labels_string]\n",
    "        \n",
    "        # Benny script augmentation\n",
    "        '''\n",
    "        points = points.numpy()\n",
    "        points = provider.random_point_dropout(points)\n",
    "        points[:, :, 0:3] = provider.random_scale_point_cloud(points[:, :, 0:3])\n",
    "        points[:, :, 0:3] = provider.shift_point_cloud(points[:, :, 0:3])\n",
    "        points = torch.Tensor(points)'''\n",
    "        \n",
    "        # Transpose as in benny script (NB why does it need a transpose)\n",
    "        points = points.transpose(2, 1)\n",
    "        \n",
    "        points, labels = points.to(device), labels.to(device)\n",
    "\n",
    "        # Forward pass\n",
    "        optimizer.zero_grad()\n",
    "        prediction, _ = model(points)\n",
    "\n",
    "        # Calculate loss, trans_feat argument as None as not used in this function\n",
    "        loss = criterion(prediction, labels, None)\n",
    "\n",
    "        # Backward pass and optimization\n",
    "        loss.backward()\n",
    "        optimizer.step()\n",
    "        \n",
    "        # Loss is the loss value multiplied by the batch size, given by the first dimension of the batch tensor\n",
    "        running_loss += loss.item() * points.size(0)\n",
    "        \n",
    "    training_loss = running_loss/len(train_dataloader)\n",
    "    \n",
    "    training_losses.append(training_loss)\n",
    "    \n",
    "    model.eval()\n",
    "    \n",
    "    # Validation loop\n",
    "    with torch.no_grad():\n",
    "        \n",
    "        running_loss = 0.0\n",
    "        correct = 0\n",
    "        total = 0\n",
    "        \n",
    "        for batch_idx, dict in enumerate(test_dataloader):\n",
    "            \n",
    "            points = dict[data_string]\n",
    "            labels = dict[labels_string]\n",
    "            \n",
    "            points = points.transpose(2, 1)\n",
    "            \n",
    "            points, labels = points.to(device), labels.to(device)\n",
    "            \n",
    "            prediction, _ = model(points)\n",
    "            \n",
    "            loss = criterion(prediction, labels, None)\n",
    "            \n",
    "            _, predicted = torch.max(prediction, 1)\n",
    "            \n",
    "            correct += (predicted == labels).sum().item()\n",
    "            total += labels.size(0)\n",
    "            \n",
    "            running_loss = loss.item() * points.size(0)\n",
    "            \n",
    "    validation_loss = running_loss/total\n",
    "    \n",
    "    validation_losses.append(validation_loss)\n",
    "    \n",
    "    accuracy = 100 * correct/total    \n",
    "    \n",
    "    print(f\"\\n Epoch {epoch + 1} complete\\n\")\n",
    "    print(f\"Training loss: {training_loss}\\n\")\n",
    "    print(f\"Validation loss: {validation_loss}\\n\")\n",
    "    print(f\"Accuracy: {accuracy}\\n\")\n",
    "    print(\"------------------------\\n\\n\\n\")\n",
    "\n",
    "torch.save(model.state_dict(), 'trained_model.pth')\n",
    "print(\"Training complete and model saved\")\n"
   ]
  },
  {
   "cell_type": "markdown",
   "metadata": {},
   "source": [
    "### Plotting"
   ]
  },
  {
   "cell_type": "code",
   "execution_count": 11,
   "metadata": {},
   "outputs": [
    {
     "data": {
      "image/png": "[encoded data removed]",
      "text/plain": [
       "<Figure size 1000x600 with 1 Axes>"
      ]
     },
     "metadata": {},
     "output_type": "display_data"
    }
   ],
   "source": [
    "# After training, plot the losses\n",
    "plt.figure(figsize=(10, 6))\n",
    "\n",
    "# Plot training loss\n",
    "plt.plot(range(1, num_epochs + 1), training_losses, label='Training Loss', color='blue', marker='o')\n",
    "\n",
    "# Plot validation loss\n",
    "plt.plot(range(1, num_epochs + 1), validation_losses, label='Validation Loss', color='red', marker='o')\n",
    "\n",
    "# Add labels and title\n",
    "plt.title('Training and Validation Loss over Epochs')\n",
    "plt.xlabel('Epoch')\n",
    "plt.ylabel('Loss')\n",
    "plt.legend()\n",
    "\n",
    "# Display the plot\n",
    "plt.show()\n"
   ]
  },
  {
   "cell_type": "code",
   "execution_count": null,
   "metadata": {},
   "outputs": [],
   "source": []
  }
 ],
 "metadata": {
  "kernelspec": {
   "display_name": ".venv",
   "language": "python",
   "name": "python3"
  },
  "language_info": {
   "codemirror_mode": {
    "name": "ipython",
    "version": 3
   },
   "file_extension": ".py",
   "mimetype": "text/x-python",
   "name": "python",
   "nbconvert_exporter": "python",
   "pygments_lexer": "ipython3",
   "version": "3.12.3"
  }
 },
 "nbformat": 4,
 "nbformat_minor": 2
}

{
 "cells": [
  {
   "cell_type": "code",
   "execution_count": 1,
   "metadata": {},
   "outputs": [],
   "source": [
    "# Torch\n",
    "import torch\n",
    "from torch import nn\n",
    "from torch.utils.data import Dataset, DataLoader, random_split\n",
    "import torch\n",
    "import torch.optim as optim\n",
    "from torcheval.metrics import *\n",
    "\n",
    "# Benny pointnet\n",
    "from pointnet2_benny import pointnet2_cls_msg\n",
    "from pointnet2_benny import provider\n",
    "\n",
    "# Other\n",
    "from tqdm import tqdm\n",
    "import nibabel\n",
    "import os\n",
    "import numpy as np\n",
    "import matplotlib.pyplot as plt\n",
    "from sklearn.metrics import confusion_matrix, ConfusionMatrixDisplay, classification_report, precision_score, recall_score, accuracy_score, roc_auc_score\n",
    "from collections import Counter\n",
    "import random\n",
    "\n",
    "# Custom modules\n",
    "from preprocessing_post_fastsurfer.subject import *\n",
    "from preprocessing_post_fastsurfer.vis import *\n",
    "from ozzy_torch_utils.split_dataset import *\n",
    "from ozzy_torch_utils.SubjectDataset import *"
   ]
  },
  {
   "cell_type": "markdown",
   "metadata": {},
   "source": [
    "### Hyperparameters"
   ]
  },
  {
   "cell_type": "code",
   "execution_count": 2,
   "metadata": {},
   "outputs": [],
   "source": [
    "data_path = \"/uolstore/home/student_lnxhome01/sc22olj/Compsci/year3/individual-project-COMP3931/individual-project-sc22olj/scratch disk/full-datasets/adni1-complete-3T-processed\"\n",
    "\n",
    "selected_labels = ['CN', 'MCI']\n",
    "\n",
    "# Dictionary key representing the data of interest\n",
    "data_string = 'hcampus_pointcloud'\n",
    "\n",
    "# Dictionary key representing the disease labels\n",
    "labels_string = 'research_group'\n",
    "\n",
    "downsample_majority=False\n",
    "\n",
    "batch_size = 20\n",
    "\n",
    "test_size = 0.2\n",
    "\n",
    "num_epochs = 15\n",
    "\n",
    "learning_rate = 0.0001\n",
    "\n",
    "threshold = 0.5"
   ]
  },
  {
   "cell_type": "markdown",
   "metadata": {},
   "source": [
    "### Dataset creation"
   ]
  },
  {
   "cell_type": "code",
   "execution_count": 3,
   "metadata": {},
   "outputs": [],
   "source": [
    "dataset = SubjectDataset(data_path, selected_labels, downsample_majority=downsample_majority)"
   ]
  },
  {
   "cell_type": "markdown",
   "metadata": {},
   "source": [
    "### Data checks"
   ]
  },
  {
   "cell_type": "code",
   "execution_count": 4,
   "metadata": {},
   "outputs": [
    {
     "name": "stdout",
     "output_type": "stream",
     "text": [
      "Dataset size: 386\n",
      "\n",
      "Unique labels: [0 1]\n",
      "\n",
      "Labels count: \n",
      "Counter({1: 226, 0: 160})\n"
     ]
    }
   ],
   "source": [
    "print(f\"Dataset size: {len(dataset)}\\n\")\n",
    "\n",
    "labels = []\n",
    "\n",
    "for subject in range(len(dataset.subject_list)):\n",
    "    \n",
    "    group = dataset.__getitem__(subject)['research_group']\n",
    "    \n",
    "    labels.append(group)\n",
    "    \n",
    "print(f\"Unique labels: {np.unique(labels)}\\n\")\n",
    "\n",
    "print(\"Labels count: \")\n",
    "print(Counter(labels))\n"
   ]
  },
  {
   "cell_type": "markdown",
   "metadata": {},
   "source": [
    "### Loader config"
   ]
  },
  {
   "cell_type": "code",
   "execution_count": 5,
   "metadata": {},
   "outputs": [],
   "source": [
    "\n",
    "train_data, test_data = split_dataset(dataset, test_size=test_size)\n",
    "\n",
    "train_dataloader = DataLoader(train_data, batch_size=batch_size, shuffle=True, collate_fn=collate_fn([data_string, labels_string]))\n",
    "\n",
    "test_dataloader = DataLoader(test_data, batch_size=batch_size, shuffle=False, collate_fn=collate_fn([data_string, labels_string]))\n",
    "\n"
   ]
  },
  {
   "cell_type": "markdown",
   "metadata": {},
   "source": [
    "### Cuda setup"
   ]
  },
  {
   "cell_type": "code",
   "execution_count": 6,
   "metadata": {},
   "outputs": [
    {
     "name": "stdout",
     "output_type": "stream",
     "text": [
      "Using cuda device\n"
     ]
    }
   ],
   "source": [
    "device = torch.accelerator.current_accelerator().type if torch.accelerator.is_available() else \"cpu\"\n",
    "\n",
    "print(f\"Using {device} device\")"
   ]
  },
  {
   "cell_type": "code",
   "execution_count": 7,
   "metadata": {},
   "outputs": [
    {
     "name": "stdout",
     "output_type": "stream",
     "text": [
      "Starting epoch 1\n",
      "\n"
     ]
    },
    {
     "name": "stderr",
     "output_type": "stream",
     "text": [
      "100%|██████████| 16/16 [00:33<00:00,  2.06s/it]\n"
     ]
    },
    {
     "name": "stdout",
     "output_type": "stream",
     "text": [
      "tensor([[ 0., 33.],\n",
      "        [ 0., 44.]])\n",
      "\n",
      " Epoch 1 complete\n",
      "\n",
      "Training loss: 13.297098230570555\n",
      "\n",
      "Validation loss: 13.21744953095913\n",
      "\n",
      "Accuracy: 0.5714285969734192\n",
      "\n",
      "Precision: 0.5714285969734192\n",
      "\n",
      "Recall: 1.0\n",
      "\n",
      "------------------------\n",
      "\n",
      "\n",
      "\n",
      "Starting epoch 2\n",
      "\n"
     ]
    },
    {
     "name": "stderr",
     "output_type": "stream",
     "text": [
      "100%|██████████| 16/16 [00:44<00:00,  2.76s/it]\n"
     ]
    },
    {
     "name": "stdout",
     "output_type": "stream",
     "text": [
      "tensor([[ 0., 33.],\n",
      "        [ 0., 44.]])\n",
      "\n",
      " Epoch 2 complete\n",
      "\n",
      "Training loss: 13.863188087940216\n",
      "\n",
      "Validation loss: 13.355312570929527\n",
      "\n",
      "Accuracy: 0.5714285969734192\n",
      "\n",
      "Precision: 0.5714285969734192\n",
      "\n",
      "Recall: 1.0\n",
      "\n",
      "------------------------\n",
      "\n",
      "\n",
      "\n",
      "Starting epoch 3\n",
      "\n"
     ]
    },
    {
     "name": "stderr",
     "output_type": "stream",
     "text": [
      " 44%|████▍     | 7/16 [00:07<00:09,  1.04s/it]\n"
     ]
    },
    {
     "ename": "KeyboardInterrupt",
     "evalue": "",
     "output_type": "error",
     "traceback": [
      "\u001b[0;31m---------------------------------------------------------------------------\u001b[0m",
      "\u001b[0;31mKeyboardInterrupt\u001b[0m                         Traceback (most recent call last)",
      "Cell \u001b[0;32mIn[7], line 54\u001b[0m\n\u001b[1;32m     51\u001b[0m points, labels \u001b[38;5;241m=\u001b[39m points\u001b[38;5;241m.\u001b[39mto(device), labels\u001b[38;5;241m.\u001b[39mto(device)\n\u001b[1;32m     53\u001b[0m \u001b[38;5;66;03m# Forward pass\u001b[39;00m\n\u001b[0;32m---> 54\u001b[0m output, _ \u001b[38;5;241m=\u001b[39m \u001b[43mmodel\u001b[49m\u001b[43m(\u001b[49m\u001b[43mpoints\u001b[49m\u001b[43m)\u001b[49m\n\u001b[1;32m     56\u001b[0m \u001b[38;5;66;03m# Calculate loss, trans_feat argument as None as not used in this function\u001b[39;00m\n\u001b[1;32m     57\u001b[0m loss \u001b[38;5;241m=\u001b[39m criterion(output, labels)\n",
      "File \u001b[0;32m/uolstore/home/student_lnxhome01/sc22olj/Compsci/year3/individual-project-COMP3931/individual-project-sc22olj/.venv/lib/python3.12/site-packages/torch/nn/modules/module.py:1739\u001b[0m, in \u001b[0;36mModule._wrapped_call_impl\u001b[0;34m(self, *args, **kwargs)\u001b[0m\n\u001b[1;32m   1737\u001b[0m     \u001b[38;5;28;01mreturn\u001b[39;00m \u001b[38;5;28mself\u001b[39m\u001b[38;5;241m.\u001b[39m_compiled_call_impl(\u001b[38;5;241m*\u001b[39margs, \u001b[38;5;241m*\u001b[39m\u001b[38;5;241m*\u001b[39mkwargs)  \u001b[38;5;66;03m# type: ignore[misc]\u001b[39;00m\n\u001b[1;32m   1738\u001b[0m \u001b[38;5;28;01melse\u001b[39;00m:\n\u001b[0;32m-> 1739\u001b[0m     \u001b[38;5;28;01mreturn\u001b[39;00m \u001b[38;5;28;43mself\u001b[39;49m\u001b[38;5;241;43m.\u001b[39;49m\u001b[43m_call_impl\u001b[49m\u001b[43m(\u001b[49m\u001b[38;5;241;43m*\u001b[39;49m\u001b[43margs\u001b[49m\u001b[43m,\u001b[49m\u001b[43m \u001b[49m\u001b[38;5;241;43m*\u001b[39;49m\u001b[38;5;241;43m*\u001b[39;49m\u001b[43mkwargs\u001b[49m\u001b[43m)\u001b[49m\n",
      "File \u001b[0;32m/uolstore/home/student_lnxhome01/sc22olj/Compsci/year3/individual-project-COMP3931/individual-project-sc22olj/.venv/lib/python3.12/site-packages/torch/nn/modules/module.py:1750\u001b[0m, in \u001b[0;36mModule._call_impl\u001b[0;34m(self, *args, **kwargs)\u001b[0m\n\u001b[1;32m   1745\u001b[0m \u001b[38;5;66;03m# If we don't have any hooks, we want to skip the rest of the logic in\u001b[39;00m\n\u001b[1;32m   1746\u001b[0m \u001b[38;5;66;03m# this function, and just call forward.\u001b[39;00m\n\u001b[1;32m   1747\u001b[0m \u001b[38;5;28;01mif\u001b[39;00m \u001b[38;5;129;01mnot\u001b[39;00m (\u001b[38;5;28mself\u001b[39m\u001b[38;5;241m.\u001b[39m_backward_hooks \u001b[38;5;129;01mor\u001b[39;00m \u001b[38;5;28mself\u001b[39m\u001b[38;5;241m.\u001b[39m_backward_pre_hooks \u001b[38;5;129;01mor\u001b[39;00m \u001b[38;5;28mself\u001b[39m\u001b[38;5;241m.\u001b[39m_forward_hooks \u001b[38;5;129;01mor\u001b[39;00m \u001b[38;5;28mself\u001b[39m\u001b[38;5;241m.\u001b[39m_forward_pre_hooks\n\u001b[1;32m   1748\u001b[0m         \u001b[38;5;129;01mor\u001b[39;00m _global_backward_pre_hooks \u001b[38;5;129;01mor\u001b[39;00m _global_backward_hooks\n\u001b[1;32m   1749\u001b[0m         \u001b[38;5;129;01mor\u001b[39;00m _global_forward_hooks \u001b[38;5;129;01mor\u001b[39;00m _global_forward_pre_hooks):\n\u001b[0;32m-> 1750\u001b[0m     \u001b[38;5;28;01mreturn\u001b[39;00m \u001b[43mforward_call\u001b[49m\u001b[43m(\u001b[49m\u001b[38;5;241;43m*\u001b[39;49m\u001b[43margs\u001b[49m\u001b[43m,\u001b[49m\u001b[43m \u001b[49m\u001b[38;5;241;43m*\u001b[39;49m\u001b[38;5;241;43m*\u001b[39;49m\u001b[43mkwargs\u001b[49m\u001b[43m)\u001b[49m\n\u001b[1;32m   1752\u001b[0m result \u001b[38;5;241m=\u001b[39m \u001b[38;5;28;01mNone\u001b[39;00m\n\u001b[1;32m   1753\u001b[0m called_always_called_hooks \u001b[38;5;241m=\u001b[39m \u001b[38;5;28mset\u001b[39m()\n",
      "File \u001b[0;32m/uolstore/home/student_lnxhome01/sc22olj/Compsci/year3/individual-project-COMP3931/individual-project-sc22olj/pointnet2_benny/pointnet2_cls_msg.py:29\u001b[0m, in \u001b[0;36mget_model.forward\u001b[0;34m(self, xyz)\u001b[0m\n\u001b[1;32m     27\u001b[0m \u001b[38;5;28;01melse\u001b[39;00m:\n\u001b[1;32m     28\u001b[0m     norm \u001b[38;5;241m=\u001b[39m \u001b[38;5;28;01mNone\u001b[39;00m\n\u001b[0;32m---> 29\u001b[0m l1_xyz, l1_points \u001b[38;5;241m=\u001b[39m \u001b[38;5;28;43mself\u001b[39;49m\u001b[38;5;241;43m.\u001b[39;49m\u001b[43msa1\u001b[49m\u001b[43m(\u001b[49m\u001b[43mxyz\u001b[49m\u001b[43m,\u001b[49m\u001b[43m \u001b[49m\u001b[43mnorm\u001b[49m\u001b[43m)\u001b[49m\n\u001b[1;32m     30\u001b[0m l2_xyz, l2_points \u001b[38;5;241m=\u001b[39m \u001b[38;5;28mself\u001b[39m\u001b[38;5;241m.\u001b[39msa2(l1_xyz, l1_points)\n\u001b[1;32m     31\u001b[0m l3_xyz, l3_points \u001b[38;5;241m=\u001b[39m \u001b[38;5;28mself\u001b[39m\u001b[38;5;241m.\u001b[39msa3(l2_xyz, l2_points)\n",
      "File \u001b[0;32m/uolstore/home/student_lnxhome01/sc22olj/Compsci/year3/individual-project-COMP3931/individual-project-sc22olj/.venv/lib/python3.12/site-packages/torch/nn/modules/module.py:1739\u001b[0m, in \u001b[0;36mModule._wrapped_call_impl\u001b[0;34m(self, *args, **kwargs)\u001b[0m\n\u001b[1;32m   1737\u001b[0m     \u001b[38;5;28;01mreturn\u001b[39;00m \u001b[38;5;28mself\u001b[39m\u001b[38;5;241m.\u001b[39m_compiled_call_impl(\u001b[38;5;241m*\u001b[39margs, \u001b[38;5;241m*\u001b[39m\u001b[38;5;241m*\u001b[39mkwargs)  \u001b[38;5;66;03m# type: ignore[misc]\u001b[39;00m\n\u001b[1;32m   1738\u001b[0m \u001b[38;5;28;01melse\u001b[39;00m:\n\u001b[0;32m-> 1739\u001b[0m     \u001b[38;5;28;01mreturn\u001b[39;00m \u001b[38;5;28;43mself\u001b[39;49m\u001b[38;5;241;43m.\u001b[39;49m\u001b[43m_call_impl\u001b[49m\u001b[43m(\u001b[49m\u001b[38;5;241;43m*\u001b[39;49m\u001b[43margs\u001b[49m\u001b[43m,\u001b[49m\u001b[43m \u001b[49m\u001b[38;5;241;43m*\u001b[39;49m\u001b[38;5;241;43m*\u001b[39;49m\u001b[43mkwargs\u001b[49m\u001b[43m)\u001b[49m\n",
      "File \u001b[0;32m/uolstore/home/student_lnxhome01/sc22olj/Compsci/year3/individual-project-COMP3931/individual-project-sc22olj/.venv/lib/python3.12/site-packages/torch/nn/modules/module.py:1750\u001b[0m, in \u001b[0;36mModule._call_impl\u001b[0;34m(self, *args, **kwargs)\u001b[0m\n\u001b[1;32m   1745\u001b[0m \u001b[38;5;66;03m# If we don't have any hooks, we want to skip the rest of the logic in\u001b[39;00m\n\u001b[1;32m   1746\u001b[0m \u001b[38;5;66;03m# this function, and just call forward.\u001b[39;00m\n\u001b[1;32m   1747\u001b[0m \u001b[38;5;28;01mif\u001b[39;00m \u001b[38;5;129;01mnot\u001b[39;00m (\u001b[38;5;28mself\u001b[39m\u001b[38;5;241m.\u001b[39m_backward_hooks \u001b[38;5;129;01mor\u001b[39;00m \u001b[38;5;28mself\u001b[39m\u001b[38;5;241m.\u001b[39m_backward_pre_hooks \u001b[38;5;129;01mor\u001b[39;00m \u001b[38;5;28mself\u001b[39m\u001b[38;5;241m.\u001b[39m_forward_hooks \u001b[38;5;129;01mor\u001b[39;00m \u001b[38;5;28mself\u001b[39m\u001b[38;5;241m.\u001b[39m_forward_pre_hooks\n\u001b[1;32m   1748\u001b[0m         \u001b[38;5;129;01mor\u001b[39;00m _global_backward_pre_hooks \u001b[38;5;129;01mor\u001b[39;00m _global_backward_hooks\n\u001b[1;32m   1749\u001b[0m         \u001b[38;5;129;01mor\u001b[39;00m _global_forward_hooks \u001b[38;5;129;01mor\u001b[39;00m _global_forward_pre_hooks):\n\u001b[0;32m-> 1750\u001b[0m     \u001b[38;5;28;01mreturn\u001b[39;00m \u001b[43mforward_call\u001b[49m\u001b[43m(\u001b[49m\u001b[38;5;241;43m*\u001b[39;49m\u001b[43margs\u001b[49m\u001b[43m,\u001b[49m\u001b[43m \u001b[49m\u001b[38;5;241;43m*\u001b[39;49m\u001b[38;5;241;43m*\u001b[39;49m\u001b[43mkwargs\u001b[49m\u001b[43m)\u001b[49m\n\u001b[1;32m   1752\u001b[0m result \u001b[38;5;241m=\u001b[39m \u001b[38;5;28;01mNone\u001b[39;00m\n\u001b[1;32m   1753\u001b[0m called_always_called_hooks \u001b[38;5;241m=\u001b[39m \u001b[38;5;28mset\u001b[39m()\n",
      "File \u001b[0;32m/uolstore/home/student_lnxhome01/sc22olj/Compsci/year3/individual-project-COMP3931/individual-project-sc22olj/pointnet2_benny/pointnet2_utils.py:240\u001b[0m, in \u001b[0;36mPointNetSetAbstractionMsg.forward\u001b[0;34m(self, xyz, points)\u001b[0m\n\u001b[1;32m    238\u001b[0m B, N, C \u001b[38;5;241m=\u001b[39m xyz\u001b[38;5;241m.\u001b[39mshape\n\u001b[1;32m    239\u001b[0m S \u001b[38;5;241m=\u001b[39m \u001b[38;5;28mself\u001b[39m\u001b[38;5;241m.\u001b[39mnpoint\n\u001b[0;32m--> 240\u001b[0m new_xyz \u001b[38;5;241m=\u001b[39m index_points(xyz, \u001b[43mfarthest_point_sample\u001b[49m\u001b[43m(\u001b[49m\u001b[43mxyz\u001b[49m\u001b[43m,\u001b[49m\u001b[43m \u001b[49m\u001b[43mS\u001b[49m\u001b[43m)\u001b[49m)\n\u001b[1;32m    241\u001b[0m new_points_list \u001b[38;5;241m=\u001b[39m []\n\u001b[1;32m    242\u001b[0m \u001b[38;5;28;01mfor\u001b[39;00m i, radius \u001b[38;5;129;01min\u001b[39;00m \u001b[38;5;28menumerate\u001b[39m(\u001b[38;5;28mself\u001b[39m\u001b[38;5;241m.\u001b[39mradius_list):\n",
      "File \u001b[0;32m/uolstore/home/student_lnxhome01/sc22olj/Compsci/year3/individual-project-COMP3931/individual-project-sc22olj/pointnet2_benny/pointnet2_utils.py:83\u001b[0m, in \u001b[0;36mfarthest_point_sample\u001b[0;34m(xyz, npoint)\u001b[0m\n\u001b[1;32m     81\u001b[0m     mask \u001b[38;5;241m=\u001b[39m dist \u001b[38;5;241m<\u001b[39m distance\n\u001b[1;32m     82\u001b[0m     distance[mask] \u001b[38;5;241m=\u001b[39m dist[mask]\n\u001b[0;32m---> 83\u001b[0m     farthest \u001b[38;5;241m=\u001b[39m \u001b[43mtorch\u001b[49m\u001b[38;5;241;43m.\u001b[39;49m\u001b[43mmax\u001b[49m\u001b[43m(\u001b[49m\u001b[43mdistance\u001b[49m\u001b[43m,\u001b[49m\u001b[43m \u001b[49m\u001b[38;5;241;43m-\u001b[39;49m\u001b[38;5;241;43m1\u001b[39;49m\u001b[43m)\u001b[49m[\u001b[38;5;241m1\u001b[39m]\n\u001b[1;32m     84\u001b[0m \u001b[38;5;28;01mreturn\u001b[39;00m centroids\n",
      "\u001b[0;31mKeyboardInterrupt\u001b[0m: "
     ]
    }
   ],
   "source": [
    "from torcheval.metrics import *\n",
    "\n",
    "num_classes = dataset.num_classes\n",
    "\n",
    "training_losses, validation_losses = [], []\n",
    "\n",
    "conf_matices = []\n",
    "\n",
    "accuracies = []\n",
    "\n",
    "precisions = []\n",
    "\n",
    "recalls = []\n",
    "\n",
    "model = pointnet2_cls_msg.get_model(num_classes, normal_channel=False)\n",
    "\n",
    "criterion = pointnet2_cls_msg.get_loss()\n",
    "\n",
    "# criterion = nn.CrossEntropyLoss()\n",
    "\n",
    "optimizer = optim.Adam(model.parameters(), lr=learning_rate, weight_decay=1e-4)\n",
    "\n",
    "model.to(device)\n",
    "\n",
    "for epoch in range(num_epochs):\n",
    "    \n",
    "    print(f\"Starting epoch {epoch + 1}\\n\")\n",
    "    \n",
    "    # Training loop\n",
    "    model.train()\n",
    "    \n",
    "    running_loss = 0.0\n",
    "\n",
    "    for batch_idx, dict in tqdm(enumerate(train_dataloader), total=len(train_dataloader)):\n",
    "        \n",
    "        # Access dict returned by dataset __getitem__\n",
    "        points = dict[data_string]\n",
    "        labels = dict[labels_string]\n",
    "        \n",
    "        # Benny script augmentation\n",
    "        '''\n",
    "        points = points.numpy()\n",
    "        points = provider.random_point_dropout(points)\n",
    "        points[:, :, 0:3] = provider.random_scale_point_cloud(points[:, :, 0:3])\n",
    "        points[:, :, 0:3] = provider.shift_point_cloud(points[:, :, 0:3])\n",
    "        points = torch.Tensor(points)'''\n",
    "        \n",
    "        # Transpose as in benny script (NB why does it need a transpose)\n",
    "        points = points.transpose(2, 1)\n",
    "        \n",
    "        points, labels = points.to(device), labels.to(device)\n",
    "\n",
    "        # Forward pass\n",
    "        output, _ = model(points)\n",
    "\n",
    "        # Calculate loss, trans_feat argument as None as not used in this function\n",
    "        loss = criterion(output, labels, None)\n",
    "\n",
    "        # Backpropagation\n",
    "        loss.backward()\n",
    "        optimizer.step()\n",
    "        optimizer.zero_grad()\n",
    "        \n",
    "        # Multiply loss by batch size to account for differences in batch size (e.g last batch)\n",
    "        running_loss += loss.item() * points.size(0)\n",
    "        \n",
    "    training_losses.append(running_loss/len(train_dataloader))\n",
    "    \n",
    "    # Validation loop\n",
    "    model.eval()\n",
    "    \n",
    "    running_loss = 0.0\n",
    "        \n",
    "    conf_matrix = BinaryConfusionMatrix()\n",
    "    \n",
    "    accuracy = BinaryAccuracy()\n",
    "\n",
    "    precision = BinaryPrecision()\n",
    "    \n",
    "    recall = BinaryRecall()\n",
    "    \n",
    "    \n",
    "    with torch.no_grad():\n",
    "        \n",
    "        for batch_idx, dict in enumerate(test_dataloader):\n",
    "            \n",
    "            points = dict[data_string]\n",
    "            labels = dict[labels_string]\n",
    "            \n",
    "            points = points.transpose(2, 1)\n",
    "            \n",
    "            points, labels = points.to(device), labels.to(device)\n",
    "            \n",
    "            output, _ = model(points)\n",
    "            \n",
    "            running_loss += criterion(output, labels, None).item() * points.size(0)\n",
    "            \n",
    "            # Apply exponent as the output of the model is log softmax\n",
    "            pred_probability = torch.exp(output)\n",
    "            \n",
    "            # Threshold is variable to give preference to FN or FP\n",
    "            pred_labels = (pred_probability[:, 1] >= threshold).int()\n",
    "            \n",
    "            # Old label conversion\n",
    "            # pred_labels = torch.argmax(pred_probability, dim=-1)\n",
    "\n",
    "            # Update metrics\n",
    "            conf_matrix.update(pred_labels, labels)\n",
    "            \n",
    "            accuracy.update(pred_labels, labels)\n",
    "            \n",
    "            precision.update(pred_labels, labels)\n",
    "            \n",
    "            recall.update(pred_labels, labels)\n",
    "            \n",
    "    print(conf_matrix.compute())\n",
    "    \n",
    "    accuracies.append(accuracy.compute())\n",
    "    \n",
    "    precisions.append(precision.compute())\n",
    "    \n",
    "    recalls.append(recall.compute())\n",
    "                    \n",
    "    #ConfusionMatrixDisplay(confusion_matrix=conf_matrix, display_labels=selected_labels).plot()\n",
    "    \n",
    "    validation_losses.append(running_loss/len(test_dataloader))\n",
    "    \n",
    "    print(f\"\\n Epoch {epoch + 1} complete\\n\")\n",
    "    print(f\"Training loss: {training_losses[-1]}\\n\")\n",
    "    print(f\"Validation loss: {validation_losses[-1]}\\n\")\n",
    "    print(f\"Accuracy: {accuracies[-1]}\\n\")\n",
    "    print(f\"Precision: {precisions[-1]}\\n\")\n",
    "    print(f\"Recall: {recalls[-1]}\\n\")\n",
    "    print(\"------------------------\\n\\n\\n\")\n",
    "\n",
    "torch.save(model.state_dict(), 'trained_model.pth')\n",
    "print(\"Training complete and model saved\")"
   ]
  },
  {
   "cell_type": "markdown",
   "metadata": {},
   "source": [
    "Notes\n",
    "- Strange issue where first run (from restart) of the model gives convincing results\n",
    "- After this, all epochs (even on restart) predict entirely one class and this class swaps over\n",
    "- Downsampling majority class hasn't fixed this\n",
    "- Could this be to do with argmax. How should I convert outputs into classes\n",
    "- Could it be overfitting? Do i need more data\n",
    "\n",
    "- After 7 epochs, got 65% accuracy with non downsampled majority, learning rate of 0.0001"
   ]
  },
  {
   "cell_type": "markdown",
   "metadata": {},
   "source": [
    "### Plotting"
   ]
  },
  {
   "cell_type": "code",
   "execution_count": 29,
   "metadata": {},
   "outputs": [
    {
     "data": {
      "image/png": "[encoded data removed]",
      "text/plain": [
       "<Figure size 1000x600 with 1 Axes>"
      ]
     },
     "metadata": {},
     "output_type": "display_data"
    }
   ],
   "source": [
    "# After training, plot the losses\n",
    "plt.figure(figsize=(10, 6))\n",
    "\n",
    "# Plot training loss\n",
    "plt.plot(range(1, num_epochs + 1), training_losses, label='Training Loss', color='blue', marker='o')\n",
    "\n",
    "# Plot validation loss\n",
    "plt.plot(range(1, num_epochs + 1), validation_losses, label='Validation Loss', color='red', marker='o')\n",
    "\n",
    "# Add labels and title\n",
    "plt.title('Training and Validation Loss over Epochs')\n",
    "plt.xlabel('Epoch')\n",
    "plt.ylabel('Loss')\n",
    "plt.legend()\n",
    "\n",
    "plt.figtext(0.5, -0.2, \"hello\", ha='center', va='top', wrap=True, fontsize=10)\n",
    "\n",
    "\n",
    "# Display the plot\n",
    "plt.show()\n"
   ]
  },
  {
   "cell_type": "code",
   "execution_count": null,
   "metadata": {},
   "outputs": [],
   "source": []
  }
 ],
 "metadata": {
  "kernelspec": {
   "display_name": ".venv",
   "language": "python",
   "name": "python3"
  },
  "language_info": {
   "codemirror_mode": {
    "name": "ipython",
    "version": 3
   },
   "file_extension": ".py",
   "mimetype": "text/x-python",
   "name": "python",
   "nbconvert_exporter": "python",
   "pygments_lexer": "ipython3",
   "version": "3.12.3"
  }
 },
 "nbformat": 4,
 "nbformat_minor": 2
}

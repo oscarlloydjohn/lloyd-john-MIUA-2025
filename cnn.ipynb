{
 "cells": [
  {
   "cell_type": "code",
   "execution_count": 1,
   "metadata": {},
   "outputs": [],
   "source": [
    "import torch\n",
    "from torch import nn\n",
    "from torch.utils.data import Dataset, DataLoader, random_split\n",
    "import torch\n",
    "import torch.optim as optim\n",
    "\n",
    "# Benny pointnet\n",
    "from pointnet2_benny import pointnet2_cls_msg\n",
    "from pointnet2_benny import provider\n",
    "\n",
    "# Other\n",
    "from tqdm import tqdm\n",
    "import nibabel\n",
    "import os\n",
    "import numpy as np\n",
    "\n",
    "# Custom modules\n",
    "from preprocessing_post_fastsurfer.subject import *\n",
    "from preprocessing_post_fastsurfer.vis import *"
   ]
  },
  {
   "cell_type": "code",
   "execution_count": 2,
   "metadata": {},
   "outputs": [],
   "source": [
    "\n",
    "class SubjectDataset(Dataset):\n",
    "    def __init__(self, data_path):\n",
    "        \n",
    "        self.subjects_list = find_subjects(data_path)\n",
    "\n",
    "    def __len__(self):\n",
    "        \n",
    "        return len(self.subjects_list)\n",
    "\n",
    "    def __getitem__(self, index):\n",
    "        \n",
    "        subject = self.subjects_list[index]\n",
    "        \n",
    "        \n",
    "        \"\"\"IMAGES\"\"\"\n",
    "        \n",
    "        # Aligned cropped brain\n",
    "        brain = self.load_mri_to_tensor(subject.brain_aligned_cropped)\n",
    "        \n",
    "        # NB these are all cropped\n",
    "        hcampus_vox = self.load_mri_to_tensor(os.path.join(subject.path, 'Left-Hippocampus_Right-Hippocampus_cropped.nii'))\n",
    "        \n",
    "        hcampus_vox_aligned = self.load_mri_to_tensor(os.path.join(subject.path, 'Left-Hippocampus_Right-Hippocampus_aligned_cropped.nii'))\n",
    "    \n",
    "        hcampus_pointcloud = torch.tensor(np.load(os.path.join(subject.path, 'Left-Hippocampus_Right-Hippocampus_cropped_mesh_downsampled.npy')), dtype=torch.float32)\n",
    "                                          \n",
    "        hcampus_pointcloud_aligned = torch.tensor(np.load(os.path.join(subject.path, 'Left-Hippocampus_Right-Hippocampus_aligned_cropped_mesh_downsampled.npy')), dtype=torch.float32)\n",
    "        \n",
    "        \n",
    "        \"\"\"REGION VOLUME STATS\"\"\"\n",
    "        \n",
    "        aseg_stats = subject.aseg_stats\n",
    "        \n",
    "        \n",
    "        \"\"\"SUBJECT INFO - NB NOT COMPLETE WITH SCORES, NEED TO PARSE XML\"\"\"\n",
    "    \n",
    "        # Info from subject XML\n",
    "        subject_dict = subject.xml_df\n",
    "        \n",
    "        # Convert research group disease label str to number for pytorch\n",
    "        mapping = {\n",
    "            'CN': 0,\n",
    "            'MCI': 1,\n",
    "            'AD': 2\n",
    "        }\n",
    "        \n",
    "        # Get the value of the mapping, -1 if not found\n",
    "        research_group = mapping.get(subject_dict['idaxs']['project']['subject']['researchGroup'], -1)\n",
    "        \n",
    "        visit_identifier = subject_dict['idaxs']['project']['subject']['visit']['visitIdentifier']\n",
    "        \n",
    "        sex = subject_dict['idaxs']['project']['subject']['subjectSex']\n",
    "        \n",
    "        age = subject_dict['idaxs']['project']['subject']['study']['subjectAge']\n",
    "        \n",
    "        weight = subject_dict['idaxs']['project']['subject']['study']['weightKg']\n",
    "        \n",
    "        apoe_a1 = subject_dict['idaxs']['project']['subject']['subjectInfo'][0]['#text']\n",
    "        \n",
    "        apoe_a2 = subject_dict['idaxs']['project']['subject']['subjectInfo'][1]['#text']\n",
    "            \n",
    "        \n",
    "        # Scores\n",
    "        \n",
    "\n",
    "        # Return a dictionary with your data\n",
    "        return {\n",
    "            #'brain': brain,\n",
    "            #'hcampus_vox': hcampus_vox,\n",
    "            #'hcampus_vox_aligned': hcampus_vox_aligned,\n",
    "            'hcampus_pointcloud': hcampus_pointcloud,\n",
    "            #'hcampus_pointcloud_aligned': hcampus_pointcloud_aligned,\n",
    "            #'aseg_stats': aseg_stats,\n",
    "            'research_group': research_group,\n",
    "            #'visit_identifier': visit_identifier,\n",
    "            #'sex': sex,\n",
    "            #'age': age,\n",
    "            #'weight': weight,\n",
    "            #'apoe_a1': apoe_a1,\n",
    "            #'apoe_a2': apoe_a2,\n",
    "        }\n",
    "        \n",
    "    def load_mri_to_tensor(self, path):\n",
    "        \n",
    "        if path is None or not os.path.isfile(path):\n",
    "            return torch.empty(0)  # Return empty tensor if the file doesn't exist\n",
    "        \n",
    "        # Example of using nibabel to load .mgz files (you can modify as needed)\n",
    "        image = nibabel.load(path)\n",
    "\n",
    "        image_data = image.get_fdata()\n",
    "        \n",
    "        # Convert to PyTorch tensor\n",
    "        tensor_data = torch.tensor(image_data, dtype=torch.float32)\n",
    "        \n",
    "        return tensor_data\n",
    "\n",
    "    "
   ]
  },
  {
   "cell_type": "code",
   "execution_count": 3,
   "metadata": {},
   "outputs": [],
   "source": [
    "data_path = \"/uolstore/home/student_lnxhome01/sc22olj/Compsci/year3/individual-project-COMP3931/individual-project-sc22olj/scratch disk/full-datasets/adni1-complete-3T-processed\""
   ]
  },
  {
   "cell_type": "code",
   "execution_count": 4,
   "metadata": {},
   "outputs": [],
   "source": [
    "# Create a pytorch dataset using the subject list\n",
    "dataset = SubjectDataset(data_path)"
   ]
  },
  {
   "cell_type": "code",
   "execution_count": 5,
   "metadata": {},
   "outputs": [
    {
     "data": {
      "text/plain": [
       "\"\\nfor subject in dataset.subjects_list:\\n    \\n    research_group = subject.xml_df['idaxs']['project']['subject']['researchGroup']\\n    \\n    print(research_group)\\n    \\n    display_mesh(np.load(os.path.join(subject.path, 'Left-Hippocampus_Right-Hippocampus_cropped_mesh.npy')), downsample_factor=1)\""
      ]
     },
     "execution_count": 5,
     "metadata": {},
     "output_type": "execute_result"
    }
   ],
   "source": [
    "'''\n",
    "for subject in dataset.subjects_list:\n",
    "    \n",
    "    research_group = subject.xml_df['idaxs']['project']['subject']['researchGroup']\n",
    "    \n",
    "    print(research_group)\n",
    "    \n",
    "    display_mesh(np.load(os.path.join(subject.path, 'Left-Hippocampus_Right-Hippocampus_cropped_mesh.npy')), downsample_factor=1)'''"
   ]
  },
  {
   "cell_type": "code",
   "execution_count": 6,
   "metadata": {},
   "outputs": [
    {
     "name": "stdout",
     "output_type": "stream",
     "text": [
      "475\n"
     ]
    }
   ],
   "source": [
    "print(len(dataset.subjects_list))"
   ]
  },
  {
   "cell_type": "code",
   "execution_count": 7,
   "metadata": {},
   "outputs": [],
   "source": [
    "def split_dataset(dataset, test_size=0.2):\n",
    "    \n",
    "    dataset_size = len(dataset)\n",
    "    \n",
    "    test_size = int(test_size * dataset_size)\n",
    "    \n",
    "    train_size = dataset_size - test_size\n",
    "    \n",
    "    train_dataset, test_dataset = random_split(dataset, [train_size, test_size])\n",
    "    \n",
    "    return train_dataset, test_dataset"
   ]
  },
  {
   "cell_type": "code",
   "execution_count": 8,
   "metadata": {},
   "outputs": [],
   "source": [
    "train_data, test_data = split_dataset(dataset)\n",
    "\n",
    "train_dataloader = DataLoader(train_data, batch_size = 16, shuffle=True)\n",
    "\n",
    "test_dataloader = DataLoader(test_data, batch_size = 16, shuffle=False)\n",
    "\n"
   ]
  },
  {
   "cell_type": "code",
   "execution_count": 9,
   "metadata": {},
   "outputs": [
    {
     "name": "stdout",
     "output_type": "stream",
     "text": [
      "Using cuda device\n"
     ]
    }
   ],
   "source": [
    "device = torch.accelerator.current_accelerator().type if torch.accelerator.is_available() else \"cpu\"\n",
    "\n",
    "print(f\"Using {device} device\")"
   ]
  },
  {
   "cell_type": "code",
   "execution_count": 10,
   "metadata": {},
   "outputs": [],
   "source": [
    "class NeuralNetwork(nn.Module):\n",
    "    def __init__(self):\n",
    "        super().__init__()\n",
    "        self.flatten = nn.Flatten()\n",
    "        self.linear_relu_stack = nn.Sequential(\n",
    "            nn.Linear(28*28, 512),\n",
    "            nn.ReLU(),\n",
    "            nn.Linear(512, 512),\n",
    "            nn.ReLU(),\n",
    "            nn.Linear(512, 10),\n",
    "        )\n",
    "\n",
    "    def forward(self, x):\n",
    "        x = self.flatten(x)\n",
    "        logits = self.linear_relu_stack(x)\n",
    "        return logits"
   ]
  },
  {
   "cell_type": "code",
   "execution_count": 11,
   "metadata": {},
   "outputs": [
    {
     "name": "stderr",
     "output_type": "stream",
     "text": [
      "100%|██████████| 24/24 [00:40<00:00,  1.68s/it]\n"
     ]
    },
    {
     "name": "stdout",
     "output_type": "stream",
     "text": [
      "Epoch 1/5, Loss: 28.9137, Accuracy: 35.79%\n"
     ]
    },
    {
     "name": "stderr",
     "output_type": "stream",
     "text": [
      "100%|██████████| 24/24 [00:18<00:00,  1.30it/s]\n"
     ]
    },
    {
     "name": "stdout",
     "output_type": "stream",
     "text": [
      "Epoch 2/5, Loss: 25.9028, Accuracy: 44.21%\n"
     ]
    },
    {
     "name": "stderr",
     "output_type": "stream",
     "text": [
      "100%|██████████| 24/24 [00:18<00:00,  1.31it/s]\n"
     ]
    },
    {
     "name": "stdout",
     "output_type": "stream",
     "text": [
      "Epoch 3/5, Loss: 25.8059, Accuracy: 46.84%\n"
     ]
    },
    {
     "name": "stderr",
     "output_type": "stream",
     "text": [
      "100%|██████████| 24/24 [00:18<00:00,  1.31it/s]\n"
     ]
    },
    {
     "name": "stdout",
     "output_type": "stream",
     "text": [
      "Epoch 4/5, Loss: 25.8583, Accuracy: 42.37%\n"
     ]
    },
    {
     "name": "stderr",
     "output_type": "stream",
     "text": [
      "100%|██████████| 24/24 [00:18<00:00,  1.31it/s]"
     ]
    },
    {
     "name": "stdout",
     "output_type": "stream",
     "text": [
      "Epoch 5/5, Loss: 24.9977, Accuracy: 48.16%\n",
      "Training complete and model saved!\n"
     ]
    },
    {
     "name": "stderr",
     "output_type": "stream",
     "text": [
      "\n"
     ]
    }
   ],
   "source": [
    "torch.cuda.empty_cache()\n",
    "\n",
    "# Training loop configuration\n",
    "num_epochs = 5\n",
    "num_classes = 3  # Update this to match the number of classes in your dataset\n",
    "\n",
    "# Define the model\n",
    "model = pointnet2_cls_msg.get_model(num_classes, normal_channel=False)\n",
    "\n",
    "# Initialize the loss function and optimizer\n",
    "criterion = pointnet2_cls_msg.get_loss()\n",
    "\n",
    "optimizer = optim.Adam(model.parameters(), lr=0.001, weight_decay=1e-4)\n",
    "\n",
    "# Set up the device for training (GPU or CPU)\n",
    "device = torch.device('cuda' if torch.cuda.is_available() else 'cpu')\n",
    "model.to(device)\n",
    "\n",
    "# Training loop\n",
    "for epoch in range(num_epochs):\n",
    "    model.train()\n",
    "    total_loss = 0\n",
    "    correct = 0\n",
    "    total_points = 0\n",
    "\n",
    "    for batch_idx, dict in tqdm(enumerate(train_dataloader), total=len(train_dataloader)):\n",
    "        points = dict['hcampus_pointcloud']  # Points data from your dataset\n",
    "        labels = dict['research_group']  # Labels (ground truth)\n",
    "        \n",
    "        # Benny script augmentation\n",
    "        '''\n",
    "        points = points.numpy()\n",
    "        points = provider.random_point_dropout(points)\n",
    "        points[:, :, 0:3] = provider.random_scale_point_cloud(points[:, :, 0:3])\n",
    "        points[:, :, 0:3] = provider.shift_point_cloud(points[:, :, 0:3])\n",
    "        points = torch.Tensor(points)'''\n",
    "        \n",
    "        # Transpose as in benny script (NB why does it need a transpose)\n",
    "        points = points.transpose(2, 1)\n",
    "        \n",
    "    # Move data to the correct device\n",
    "        points, labels = points.to(device), labels.to(device)\n",
    "\n",
    "        # Forward pass\n",
    "        optimizer.zero_grad()\n",
    "        pred, _ = model(points)  # Assuming the model returns (predictions, features)\n",
    "\n",
    "        # Calculate loss, trans_feat argument as None as not used in this function\n",
    "        loss = criterion(pred, labels, None)\n",
    "\n",
    "        # Backward pass and optimization\n",
    "        loss.backward()\n",
    "        optimizer.step()\n",
    "\n",
    "        # Calculate accuracy\n",
    "        _, predicted = torch.max(pred, 1)\n",
    "        correct += (predicted == labels).sum().item()\n",
    "        total_points += labels.size(0)\n",
    "        total_loss += loss.item()\n",
    "\n",
    "    # Calculate and log accuracy for the epoch\n",
    "    epoch_acc = 100 * correct / total_points\n",
    "    print(f'Epoch {epoch + 1}/{num_epochs}, Loss: {total_loss:.4f}, Accuracy: {epoch_acc:.2f}%')\n",
    "\n",
    "# Save the trained model\n",
    "torch.save(model.state_dict(), 'trained_model.pth')\n",
    "print(\"Training complete and model saved!\")\n"
   ]
  },
  {
   "cell_type": "code",
   "execution_count": 12,
   "metadata": {},
   "outputs": [
    {
     "data": {
      "text/plain": [
       "'import torch.optim as optim\\nfrom pointnet2_benny import pointnet2_cls_msg\\n\\n# Training loop\\nnum_epochs = 5\\nnum_class = 2\\n\\nmodel = pointnet2_cls_msg\\n\\nclassifier = model.get_model(3)\\n    \\nfor dict in train_dataloader:\\n    \\n    print(dict[\\'hcampus_pointcloud\\'].shape)\\n    \\n    print(dict[\\'research_group\\'].shape)\\n    \\n    break\\n\\n# Initialize model and loss function\\nnum_classes = 40  # Update to match your dataset\\nclassifier = pointnet2_cls_msg.get_model(num_classes)  # Update the method to match your model\\ncriterion = pointnet2_cls_msg.get_loss()  # Make sure your model has a loss function defined\\n\\n# Set up optimizer\\noptimizer = optim.Adam(classifier.parameters(), lr=0.001, weight_decay=1e-4)\\n\\n# Move model to GPU if available\\ndevice = torch.device(\\'cuda\\' if torch.cuda.is_available() else \\'cpu\\')\\nclassifier.to(device)\\n\\n# Training loop\\nnum_epochs = 5  # Update as needed\\nfor epoch in range(num_epochs):\\n    classifier.train()\\n    total_loss = 0\\n    correct = 0\\n    total_points = 0\\n    for dict in train_dataloader:\\n        \\n        points = dict[\\'hcampus_pointcloud\\']\\n        \\n        print(points.shape)\\n        \\n        labels = dict[\\'research_group\\']        \\n        \\n        points, labels = points.to(device), labels.to(device)\\n\\n        # Forward pass\\n        optimizer.zero_grad()\\n        pred, _ = classifier(points)\\n        loss = criterion(pred, labels)\\n\\n        # Backward pass and optimization\\n        loss.backward()\\n        optimizer.step()\\n\\n        # Calculate accuracy\\n        _, predicted = torch.max(pred, 1)\\n        correct += (predicted == labels).sum().item()\\n        total_points += labels.size(0)\\n        total_loss += loss.item()\\n\\n    epoch_acc = 100 * correct / total_points\\n    print(f\\'Epoch {epoch + 1}/{num_epochs}, Loss: {total_loss:.4f}, Accuracy: {epoch_acc:.2f}%\\')\\n\\n# Save the trained model\\ntorch.save(classifier.state_dict(), \\'trained_model.pth\\')\\nprint(\"Training complete and model saved!\")\\n'"
      ]
     },
     "execution_count": 12,
     "metadata": {},
     "output_type": "execute_result"
    }
   ],
   "source": [
    "'''import torch.optim as optim\n",
    "from pointnet2_benny import pointnet2_cls_msg\n",
    "\n",
    "# Training loop\n",
    "num_epochs = 5\n",
    "num_class = 2\n",
    "\n",
    "model = pointnet2_cls_msg\n",
    "\n",
    "classifier = model.get_model(3)\n",
    "    \n",
    "for dict in train_dataloader:\n",
    "    \n",
    "    print(dict['hcampus_pointcloud'].shape)\n",
    "    \n",
    "    print(dict['research_group'].shape)\n",
    "    \n",
    "    break\n",
    "\n",
    "# Initialize model and loss function\n",
    "num_classes = 40  # Update to match your dataset\n",
    "classifier = pointnet2_cls_msg.get_model(num_classes)  # Update the method to match your model\n",
    "criterion = pointnet2_cls_msg.get_loss()  # Make sure your model has a loss function defined\n",
    "\n",
    "# Set up optimizer\n",
    "optimizer = optim.Adam(classifier.parameters(), lr=0.001, weight_decay=1e-4)\n",
    "\n",
    "# Move model to GPU if available\n",
    "device = torch.device('cuda' if torch.cuda.is_available() else 'cpu')\n",
    "classifier.to(device)\n",
    "\n",
    "# Training loop\n",
    "num_epochs = 5  # Update as needed\n",
    "for epoch in range(num_epochs):\n",
    "    classifier.train()\n",
    "    total_loss = 0\n",
    "    correct = 0\n",
    "    total_points = 0\n",
    "    for dict in train_dataloader:\n",
    "        \n",
    "        points = dict['hcampus_pointcloud']\n",
    "        \n",
    "        print(points.shape)\n",
    "        \n",
    "        labels = dict['research_group']        \n",
    "        \n",
    "        points, labels = points.to(device), labels.to(device)\n",
    "\n",
    "        # Forward pass\n",
    "        optimizer.zero_grad()\n",
    "        pred, _ = classifier(points)\n",
    "        loss = criterion(pred, labels)\n",
    "\n",
    "        # Backward pass and optimization\n",
    "        loss.backward()\n",
    "        optimizer.step()\n",
    "\n",
    "        # Calculate accuracy\n",
    "        _, predicted = torch.max(pred, 1)\n",
    "        correct += (predicted == labels).sum().item()\n",
    "        total_points += labels.size(0)\n",
    "        total_loss += loss.item()\n",
    "\n",
    "    epoch_acc = 100 * correct / total_points\n",
    "    print(f'Epoch {epoch + 1}/{num_epochs}, Loss: {total_loss:.4f}, Accuracy: {epoch_acc:.2f}%')\n",
    "\n",
    "# Save the trained model\n",
    "torch.save(classifier.state_dict(), 'trained_model.pth')\n",
    "print(\"Training complete and model saved!\")\n",
    "'''"
   ]
  },
  {
   "cell_type": "code",
   "execution_count": null,
   "metadata": {},
   "outputs": [],
   "source": []
  }
 ],
 "metadata": {
  "kernelspec": {
   "display_name": ".venv",
   "language": "python",
   "name": "python3"
  },
  "language_info": {
   "codemirror_mode": {
    "name": "ipython",
    "version": 3
   },
   "file_extension": ".py",
   "mimetype": "text/x-python",
   "name": "python",
   "nbconvert_exporter": "python",
   "pygments_lexer": "ipython3",
   "version": "3.12.3"
  }
 },
 "nbformat": 4,
 "nbformat_minor": 2
}

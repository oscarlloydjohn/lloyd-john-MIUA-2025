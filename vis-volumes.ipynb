{
 "cells": [
  {
   "cell_type": "code",
   "execution_count": null,
   "metadata": {},
   "outputs": [],
   "source": [
    "# Modules for debugging\n",
    "\n",
    "import numpy as np\n",
    "import pandas as pd\n",
    "import matplotlib.pyplot as plt\n",
    "import pyvista as pv\n",
    "from random import sample\n",
    "\n",
    "# Custom modules\n",
    "from preprocessing_post_fastsurfer.alignment import *\n",
    "from preprocessing_post_fastsurfer.cropping import *\n",
    "from preprocessing_post_fastsurfer.extraction import *\n",
    "from preprocessing_post_fastsurfer.file_handling import *\n",
    "from preprocessing_post_fastsurfer.mesh_creation import *\n",
    "from preprocessing_post_fastsurfer.subject import *\n",
    "from preprocessing_post_fastsurfer.vis import *\n",
    "\n",
    "# Custom modules\n",
    "from ozzy_torch_utils.split_dataset import *\n",
    "from ozzy_torch_utils.subject_dataset import *\n",
    "\n",
    "np.set_printoptions(precision=2, suppress=True)"
   ]
  },
  {
   "cell_type": "code",
   "execution_count": null,
   "metadata": {},
   "outputs": [],
   "source": [
    "# Initialise a list of subject objects from the given directory\n",
    "data_path = \"/uolstore/home/users/sc22olj/Compsci/year3/individual-project-COMP3931/individual-project-sc22olj/scratch-disk/full-datasets/hcampus-1.5T-cohort\"\n",
    "\n",
    "subject_list = find_subjects_parallel(data_path)\n",
    "\n",
    "print(len(subject_list))\n"
   ]
  },
  {
   "cell_type": "code",
   "execution_count": null,
   "metadata": {},
   "outputs": [],
   "source": [
    "def plot_volumes(subject, volumes_list):\n",
    "\n",
    "    brain = subject.brain_aligned\n",
    "\n",
    "    aparc = subject.aparc_aligned\n",
    "\n",
    "    # NB check types here!\n",
    "    image_array = nibabel.load(brain).dataobj\n",
    "\n",
    "    aparc_array = nibabel.load(aparc).dataobj\n",
    "\n",
    "    pl = pv.Plotter()\n",
    "\n",
    "    pl.add_volume(np.asarray(image_array), cmap=\"bone\", opacity=\"sigmoid_6\", show_scalar_bar=False)\n",
    "\n",
    "    for volume in volumes_list:\n",
    "\n",
    "        # Create a mask from regions in list\n",
    "        filtered_array = np.where((np.isin(aparc_array, [volume])), 1, 0)\n",
    "\n",
    "        # Extract region using mask\n",
    "        extracted_region = np.asarray(image_array * filtered_array)\n",
    "\n",
    "        pl.add_volume(extracted_region, opacity=\"foreground\", show_scalar_bar=False, shade=True)\n",
    "\n",
    "    return pl"
   ]
  },
  {
   "cell_type": "code",
   "execution_count": null,
   "metadata": {},
   "outputs": [],
   "source": [
    "subject = sample(subject_list, 1)[0]\n",
    "\n",
    "pl = plot_volumes(subject, [12, 50, 72, 15])"
   ]
  }
 ],
 "metadata": {
  "kernelspec": {
   "display_name": ".venv",
   "language": "python",
   "name": "python3"
  },
  "language_info": {
   "codemirror_mode": {
    "name": "ipython",
    "version": 3
   },
   "file_extension": ".py",
   "mimetype": "text/x-python",
   "name": "python",
   "nbconvert_exporter": "python",
   "pygments_lexer": "ipython3",
   "version": "3.12.3"
  }
 },
 "nbformat": 4,
 "nbformat_minor": 2
}

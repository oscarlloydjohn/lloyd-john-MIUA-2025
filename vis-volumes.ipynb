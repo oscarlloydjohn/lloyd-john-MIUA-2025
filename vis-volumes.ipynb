{
 "cells": [
  {
   "cell_type": "code",
   "execution_count": 4,
   "metadata": {},
   "outputs": [],
   "source": [
    "# Modules for debugging\n",
    "\n",
    "import numpy as np\n",
    "import pandas as pd\n",
    "import matplotlib.pyplot as plt\n",
    "import pyvista as pv\n",
    "from random import sample\n",
    "\n",
    "# Custom modules\n",
    "from preprocessing_post_fastsurfer.alignment import *\n",
    "from preprocessing_post_fastsurfer.cropping import *\n",
    "from preprocessing_post_fastsurfer.extraction import *\n",
    "from preprocessing_post_fastsurfer.file_handling import *\n",
    "from preprocessing_post_fastsurfer.mesh_creation import *\n",
    "from preprocessing_post_fastsurfer.subject import *\n",
    "from preprocessing_post_fastsurfer.vis import *\n",
    "\n",
    "# Custom modules\n",
    "from ozzy_torch_utils.split_dataset import *\n",
    "from ozzy_torch_utils.subject_dataset import *\n",
    "\n",
    "np.set_printoptions(precision=2, suppress=True)"
   ]
  },
  {
   "cell_type": "code",
   "execution_count": 5,
   "metadata": {},
   "outputs": [
    {
     "name": "stdout",
     "output_type": "stream",
     "text": [
      "Csv files: ['/uolstore/home/users/sc22olj/Compsci/year3/individual-project-COMP3931/individual-project-sc22olj/scratch-disk/full-datasets/hcampus-1.5T-cohort/idaSearch_3_19_2025.csv']\n",
      "543\n"
     ]
    }
   ],
   "source": [
    "# Initialise a list of subject objects from the given directory\n",
    "data_path = \"/uolstore/home/users/sc22olj/Compsci/year3/individual-project-COMP3931/individual-project-sc22olj/scratch-disk/full-datasets/hcampus-1.5T-cohort\"\n",
    "\n",
    "subject_list = find_subjects_parallel(data_path)\n",
    "\n",
    "print(len(subject_list))\n"
   ]
  },
  {
   "cell_type": "code",
   "execution_count": 17,
   "metadata": {},
   "outputs": [
    {
     "data": {
      "application/vnd.jupyter.widget-view+json": {
       "model_id": "4c864a9a9a2a493d8504c7b0929ece74",
       "version_major": 2,
       "version_minor": 0
      },
      "text/plain": [
       "Widget(value='<iframe src=\"http://localhost:41923/index.html?ui=P_0x7f6a799e3e30_11&reconnect=auto\" class=\"pyv…"
      ]
     },
     "metadata": {},
     "output_type": "display_data"
    }
   ],
   "source": [
    "# Volumes of interest\n",
    "values_list = [12, 50, 72, 15]\n",
    "\n",
    "subject = sample(subject_list, 1)[0]\n",
    "\n",
    "brain = subject.brain_aligned\n",
    "\n",
    "aparc = subject.aparc_aligned\n",
    "\n",
    "# NB check types here!\n",
    "image_array = nibabel.load(brain).dataobj\n",
    "\n",
    "aparc_array = nibabel.load(aparc).dataobj\n",
    "\n",
    "# Create a mask from regions in list\n",
    "filtered_array = np.where(np.isin(aparc_array, values_list), 1, 0)\n",
    "\n",
    "# Extract region using mask\n",
    "extracted_region = np.asarray(image_array * filtered_array)\n",
    "\n",
    "pl = pv.Plotter()\n",
    "pl.add_volume(np.asarray(image_array), cmap=\"bone\", opacity=\"sigmoid_6\", show_scalar_bar=False)\n",
    "pl.add_volume(extracted_region, cmap=\"bone\", opacity=\"sigmoid_6\", show_scalar_bar=False)\n",
    "#pl.camera_position = [(-228.0, -418.0, -158.0), (94.0, 122.0, 82.0), (-0.2, -0.3, 0.9)]\n",
    "#pl.camera.zoom(1.5)\n",
    "pl.show()"
   ]
  },
  {
   "cell_type": "code",
   "execution_count": null,
   "metadata": {},
   "outputs": [],
   "source": []
  }
 ],
 "metadata": {
  "kernelspec": {
   "display_name": ".venv",
   "language": "python",
   "name": "python3"
  },
  "language_info": {
   "codemirror_mode": {
    "name": "ipython",
    "version": 3
   },
   "file_extension": ".py",
   "mimetype": "text/x-python",
   "name": "python",
   "nbconvert_exporter": "python",
   "pygments_lexer": "ipython3",
   "version": "3.12.3"
  }
 },
 "nbformat": 4,
 "nbformat_minor": 2
}

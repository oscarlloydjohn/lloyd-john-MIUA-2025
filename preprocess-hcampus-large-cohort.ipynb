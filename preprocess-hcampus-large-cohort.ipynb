{
 "cells": [
  {
   "cell_type": "code",
   "execution_count": 1,
   "metadata": {},
   "outputs": [],
   "source": [
    "# Modules for debugging\n",
    "'''\n",
    "import nibabel\n",
    "from PIL import Image\n",
    "import os\n",
    "import fnmatch\n",
    "import numpy as np\n",
    "import ants\n",
    "import concurrent.futures\n",
    "import pandas as pd\n",
    "import glob\n",
    "import xml.etree.ElementTree as ET\n",
    "import xmltodict\n",
    "import shutil\n",
    "import pprint\n",
    "import matplotlib.pyplot as plt\n",
    "from mpl_toolkits.mplot3d import Axes3D'''\n",
    "\n",
    "import numpy as np\n",
    "import tqdm\n",
    "import gc\n",
    "\n",
    "# Custom modules\n",
    "from preprocessing_post_fastsurfer.alignment import *\n",
    "from preprocessing_post_fastsurfer.cropping import *\n",
    "from preprocessing_post_fastsurfer.extraction import *\n",
    "from preprocessing_post_fastsurfer.file_handling import *\n",
    "from preprocessing_post_fastsurfer.mesh_creation import *\n",
    "from preprocessing_post_fastsurfer.subject import *\n",
    "from preprocessing_post_fastsurfer.vis import *\n",
    "\n",
    "np.set_printoptions(precision=2, suppress=True)"
   ]
  },
  {
   "cell_type": "markdown",
   "metadata": {},
   "source": [
    "## Reference brain\n",
    "Extract the brain from the MRI reference MRI for use in affine alginment"
   ]
  },
  {
   "cell_type": "code",
   "execution_count": null,
   "metadata": {},
   "outputs": [],
   "source": [
    "# NB seems that fastsrufer brain is better\n",
    "reference_brain_array_mni = extract_brain(\"/uolstore/home/student_lnxhome01/sc22olj/Compsci/year3/individual-project-COMP3931/individual-project-sc22olj/mni_icbm152_lin_nifti/icbm_avg_152_t1_tal_lin.nii\", \"/uolstore/home/student_lnxhome01/sc22olj/Compsci/year3/individual-project-COMP3931/individual-project-sc22olj/mni_icbm152_lin_nifti/icbm_avg_152_t1_tal_lin_mask.nii\")\n",
    "\n",
    "display_array(reference_brain_array_mni)\n",
    "\n",
    "reference_brain_array_fastsurfer = extract_brain(\"/uolstore/home/student_lnxhome01/sc22olj/Compsci/year3/individual-project-COMP3931/individual-project-sc22olj/mni_icbm152_lin_nifti/fastsurfer-processed/mri/orig_nu.mgz\", \"/uolstore/home/student_lnxhome01/sc22olj/Compsci/year3/individual-project-COMP3931/individual-project-sc22olj/mni_icbm152_lin_nifti/fastsurfer-processed/mri/mask.mgz\")\n",
    "\n",
    "display_array(reference_brain_array_fastsurfer)\n"
   ]
  },
  {
   "cell_type": "markdown",
   "metadata": {},
   "source": [
    "## Main code"
   ]
  },
  {
   "cell_type": "code",
   "execution_count": null,
   "metadata": {},
   "outputs": [],
   "source": [
    "# Initialise a list of subject objects from the given directory\n",
    "data_path = \"/uolstore/home/student_lnxhome01/sc22olj/Compsci/year3/individual-project-COMP3931/individual-project-sc22olj/scratch-disk/full-datasets/hcampus-large-cohort\"\n",
    "\n",
    "subject_list = find_subjects(data_path)\n",
    "\n",
    "print(len(subject_list))\n",
    "\n",
    "# Chunk the subject list\n",
    "def chunk_list(list, chunk_size):\n",
    "    \n",
    "    return [list[i:i + chunk_size] for i in range(0, len(list), chunk_size)]\n",
    "\n",
    "chunks = chunk_list(subject_list, len(subject_list) // 20)\n"
   ]
  },
  {
   "cell_type": "code",
   "execution_count": null,
   "metadata": {},
   "outputs": [],
   "source": [
    "'''# Extract left and right hippocampus from non-aligned brains (in the same file)\n",
    "for chunk in chunks:\n",
    "    \n",
    "    print(len(chunk))\n",
    "    \n",
    "    extract_region_parallel(chunk, [17, 53], 'orig_nu', 'aparc', is_aligned=False)\n",
    "    \n",
    "    gc.collect()'''\n",
    "    "
   ]
  },
  {
   "cell_type": "code",
   "execution_count": null,
   "metadata": {},
   "outputs": [],
   "source": [
    "# Crop hippocampi\n",
    "max_bbox = get_max_bbox(subject_list, 'Left-Hippocampus_Right-Hippocampus.nii')\n",
    "\n",
    "for chunk in chunks:\n",
    "    \n",
    "    print(len(chunk))\n",
    "    \n",
    "    crop_subjects_parallel(subject_list, 'Left-Hippocampus_Right-Hippocampus.nii', max_bbox, is_full_brain=False, display=False, display_3d=False)"
   ]
  },
  {
   "cell_type": "code",
   "execution_count": null,
   "metadata": {},
   "outputs": [],
   "source": [
    "# Convert cropped hippocampi point clouds using walking cubes method\n",
    "for chunk in chunks:\n",
    "    \n",
    "    print(len(chunk))\n",
    "\n",
    "    volume_to_mesh_parallel(chunk, 'Left-Hippocampus_Right-Hippocampus_cropped.nii', downsample_factor=50, display=False)"
   ]
  },
  {
   "cell_type": "code",
   "execution_count": 10,
   "metadata": {},
   "outputs": [],
   "source": [
    "# Delete all non-cropped hippocampi\n",
    "for subject in subject_list:\n",
    "    \n",
    "    delete_file_matching(subject.path, 'Left-Hippocampus_Right-Hippocampus.nii')"
   ]
  },
  {
   "cell_type": "code",
   "execution_count": null,
   "metadata": {},
   "outputs": [],
   "source": [
    "# Downsample all hippocampi meshes to have the same vector size for use in pytorch\n",
    "\n",
    "for chunk in chunks:\n",
    "    \n",
    "    print(len(chunk))\n",
    "    \n",
    "    random_sample_cloud_parallel(chunk, 'Left-Hippocampus_Right-Hippocampus_cropped_verts.npy')"
   ]
  },
  {
   "cell_type": "code",
   "execution_count": null,
   "metadata": {},
   "outputs": [],
   "source": [
    "'''for subject in subject_list:\n",
    "    \n",
    "    research_group = subject.subject_metadata['Group'].iloc[0]\n",
    "    \n",
    "    print(research_group)\n",
    "    \n",
    "    display_image(nibabel.load(subject.orig_nu))\n",
    "    \n",
    "    display_mesh(np.load(os.path.join(subject.path, 'Left-Hippocampus_Right-Hippocampus_cropped_mesh.npy')), downsample_factor=1)\n",
    "    \n",
    "    break'''"
   ]
  },
  {
   "cell_type": "code",
   "execution_count": null,
   "metadata": {},
   "outputs": [],
   "source": []
  },
  {
   "cell_type": "code",
   "execution_count": null,
   "metadata": {},
   "outputs": [],
   "source": []
  }
 ],
 "metadata": {
  "kernelspec": {
   "display_name": ".venv",
   "language": "python",
   "name": "python3"
  },
  "language_info": {
   "codemirror_mode": {
    "name": "ipython",
    "version": 3
   },
   "file_extension": ".py",
   "mimetype": "text/x-python",
   "name": "python",
   "nbconvert_exporter": "python",
   "pygments_lexer": "ipython3",
   "version": "3.12.3"
  }
 },
 "nbformat": 4,
 "nbformat_minor": 2
}

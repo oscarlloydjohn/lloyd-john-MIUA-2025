{
 "cells": [
  {
   "cell_type": "code",
   "execution_count": null,
   "metadata": {},
   "outputs": [],
   "source": [
    "# Modules for debugging\n",
    "'''\n",
    "import nibabel\n",
    "from PIL import Image\n",
    "import os\n",
    "import fnmatch\n",
    "import numpy as np\n",
    "import ants\n",
    "import concurrent.futures\n",
    "import pandas as pd\n",
    "import glob\n",
    "import xml.etree.ElementTree as ET\n",
    "import xmltodict\n",
    "import shutil\n",
    "import pprint\n",
    "import matplotlib.pyplot as plt\n",
    "from mpl_toolkits.mplot3d import Axes3D'''\n",
    "\n",
    "# Custom modules\n",
    "from alignment import *\n",
    "from cropping import *\n",
    "from extraction import *\n",
    "from file_handling import *\n",
    "from mesh_creation import *\n",
    "from subject import *\n",
    "from vis import *\n",
    "\n",
    "np.set_printoptions(precision=2, suppress=True)"
   ]
  },
  {
   "cell_type": "markdown",
   "metadata": {},
   "source": [
    "## Reference brain\n",
    "Extract the brain from the MRI reference MRI for use in affine alginment"
   ]
  },
  {
   "cell_type": "code",
   "execution_count": null,
   "metadata": {},
   "outputs": [],
   "source": [
    "# NB seems that fastsrufer brain is better\n",
    "reference_brain_array_mni = extract_brain(\"/uolstore/home/student_lnxhome01/sc22olj/Compsci/year3/individual-project-COMP3931/individual-project-sc22olj/mni_icbm152_lin_nifti/icbm_avg_152_t1_tal_lin.nii\", \"/uolstore/home/student_lnxhome01/sc22olj/Compsci/year3/individual-project-COMP3931/individual-project-sc22olj/mni_icbm152_lin_nifti/icbm_avg_152_t1_tal_lin_mask.nii\")\n",
    "\n",
    "display_array(reference_brain_array_mni)\n",
    "\n",
    "reference_brain_array_fastsurfer = extract_brain(\"/uolstore/home/student_lnxhome01/sc22olj/Compsci/year3/individual-project-COMP3931/individual-project-sc22olj/mni_icbm152_lin_nifti/fastsurfer-processed/mri/orig_nu.mgz\", \"/uolstore/home/student_lnxhome01/sc22olj/Compsci/year3/individual-project-COMP3931/individual-project-sc22olj/mni_icbm152_lin_nifti/fastsurfer-processed/mri/mask.mgz\")\n",
    "\n",
    "display_array(reference_brain_array_fastsurfer)\n"
   ]
  },
  {
   "cell_type": "markdown",
   "metadata": {},
   "source": [
    "## Main code"
   ]
  },
  {
   "cell_type": "code",
   "execution_count": 3,
   "metadata": {},
   "outputs": [],
   "source": [
    "# Initialise a list of subject objects from the given directory\n",
    "data_path = \"/uolstore/home/student_lnxhome01/sc22olj/Compsci/year3/individual-project-COMP3931/individual-project-sc22olj/scratch disk/full-datasets/adni1-complete-1yr-3t\"\n",
    "\n",
    "subject_list = find_subjects(data_path)\n"
   ]
  },
  {
   "cell_type": "code",
   "execution_count": null,
   "metadata": {},
   "outputs": [],
   "source": [
    "'''print(list_files_fname(data_path, 'aligned_brain.nii'))\n",
    "    \n",
    "delete_file_matching(data_path, 'aligned_brain.nii')'''"
   ]
  },
  {
   "cell_type": "code",
   "execution_count": null,
   "metadata": {},
   "outputs": [],
   "source": [
    "\n",
    "    \n",
    "'''pprint.pprint(list_files_fname(data_path, 'affine_alignment.pkl'))\n",
    "    \n",
    "delete_file_matching(data_path, 'affine_alignment.pkl')'''"
   ]
  },
  {
   "cell_type": "code",
   "execution_count": null,
   "metadata": {},
   "outputs": [],
   "source": [
    "'''print(list_files_fname(data_path, 'aligned_brain_cropped.nii'))\n",
    "    \n",
    "delete_file_matching(data_path, 'aligned_brain_cropped.nii')'''"
   ]
  },
  {
   "cell_type": "code",
   "execution_count": null,
   "metadata": {},
   "outputs": [],
   "source": [
    "# Perform affine alignment on all subjects in the list, using the reference brain\n",
    "alignment_parallel(subject_list, reference_brain_array_fastsurfer)"
   ]
  },
  {
   "cell_type": "code",
   "execution_count": null,
   "metadata": {},
   "outputs": [],
   "source": [
    "#Crop all aligned brains to remove empty space\n",
    "crop_subjects_parallel(subject_list, 'brain_aligned.nii', is_full_brain=False, display_3d=False)"
   ]
  },
  {
   "cell_type": "code",
   "execution_count": null,
   "metadata": {},
   "outputs": [],
   "source": [
    "# Align the parcellation file using the same affine transformation used on the brain\n",
    "# NB affine alinged aparcs may be inaccurate\n",
    "aux_alignment_parallel(subject_list, 'aparc')"
   ]
  },
  {
   "cell_type": "code",
   "execution_count": null,
   "metadata": {},
   "outputs": [],
   "source": [
    "# Extract left and right hippocampus from non-aligned brains (in the same file)\n",
    "extract_region_parallel(subject_list, [17, 53], 'brain', 'aparc', is_aligned=False)"
   ]
  },
  {
   "cell_type": "code",
   "execution_count": null,
   "metadata": {},
   "outputs": [],
   "source": [
    "# Crop hippocampi\n",
    "crop_subjects_parallel(subject_list, 'Left-Hippocampus_Right-Hippocampus.nii', is_full_brain=False, display_3d=True)"
   ]
  },
  {
   "cell_type": "code",
   "execution_count": null,
   "metadata": {},
   "outputs": [],
   "source": [
    "# Extract left and right hippocampus from aligned brains (in the same file)\n",
    "extract_region_parallel(subject_list, [17, 53], 'brain_aligned', 'aparc_aligned', is_aligned=True)"
   ]
  },
  {
   "cell_type": "code",
   "execution_count": null,
   "metadata": {},
   "outputs": [],
   "source": [
    "# Crop hippocampi\n",
    "crop_subjects_parallel(subject_list, 'Left-Hippocampus_Right-Hippocampus_aligned.nii', is_full_brain=False, display_3d=True)\n"
   ]
  },
  {
   "cell_type": "code",
   "execution_count": null,
   "metadata": {},
   "outputs": [],
   "source": [
    "for subject in subject_list:\n",
    "    \n",
    "    mesh = volume_to_mesh(subject, 'Left-Hippocampus_Right-Hippocampus.nii')\n",
    "    \n",
    "    display_mesh(mesh, 50)\n",
    "    \n",
    "    break"
   ]
  },
  {
   "cell_type": "code",
   "execution_count": 34,
   "metadata": {},
   "outputs": [
    {
     "name": "stdout",
     "output_type": "stream",
     "text": [
      "<class 'nibabel.freesurfer.mghformat.MGHHeader'> object, endian='>'\n",
      "version      : 1\n",
      "dims         : [256 256 256   1]\n",
      "type         : 0\n",
      "dof          : 0\n",
      "goodRASFlag  : 1\n",
      "delta        : [1. 1. 1.]\n",
      "Mdc          : [[-1. -0. -0.]\n",
      " [-0. -0. -1.]\n",
      " [ 0.  1.  0.]]\n",
      "Pxyz_c       : [  1.95  51.15 -13.83]\n",
      "tr           : 0.0\n",
      "flip_angle   : 0.0\n",
      "te           : 0.0\n",
      "ti           : 0.0\n",
      "fov          : 256.0\n",
      "uint8\n",
      "1\n",
      "float64\n",
      "1.0\n",
      "uint32\n",
      "1\n"
     ]
    }
   ],
   "source": [
    "# Data type testing\n",
    "for subject in subject_list:\n",
    "    \n",
    "    image = nibabel.load(os.path.join(subject.path, subject.mask))\n",
    "    \n",
    "    print(image.header)\n",
    "    \n",
    "    print(image.dataobj.dtype)\n",
    "    \n",
    "    print(np.max(image.dataobj))\n",
    "    \n",
    "    print(image.get_fdata().dtype)\n",
    "    \n",
    "    print(np.max(image.get_fdata()))\n",
    "    \n",
    "    new_image = nibabel.Nifti1Image(np.asarray(image.dataobj).astype('uint32'), np.eye(4))\n",
    "    \n",
    "    print(new_image.dataobj.dtype)\n",
    "    \n",
    "    print(np.max(new_image.dataobj))\n",
    "    \n",
    "    break"
   ]
  },
  {
   "cell_type": "code",
   "execution_count": null,
   "metadata": {},
   "outputs": [],
   "source": [
    "volume_to_mesh_parallel(subject_list, 'Left-Hippocampus_Right-Hippocampus.nii', 50)"
   ]
  },
  {
   "cell_type": "code",
   "execution_count": null,
   "metadata": {},
   "outputs": [],
   "source": [
    "'''\n",
    "\n",
    "for subject in subject_list:\n",
    "    \n",
    "    research_group = subject.xml_df['idaxs']['project']['subject']['researchGroup']\n",
    "    \n",
    "    print(subject.xml_df['idaxs']['project']['subject'])\n",
    "    \n",
    "    #print(research_group)\n",
    "    \n",
    "    display_image(nibabel.load(subject.brain_aligned_cropped))\n",
    "    \n",
    "    break '''\n"
   ]
  },
  {
   "cell_type": "code",
   "execution_count": null,
   "metadata": {},
   "outputs": [],
   "source": []
  }
 ],
 "metadata": {
  "kernelspec": {
   "display_name": ".venv",
   "language": "python",
   "name": "python3"
  },
  "language_info": {
   "codemirror_mode": {
    "name": "ipython",
    "version": 3
   },
   "file_extension": ".py",
   "mimetype": "text/x-python",
   "name": "python",
   "nbconvert_exporter": "python",
   "pygments_lexer": "ipython3",
   "version": "3.12.3"
  }
 },
 "nbformat": 4,
 "nbformat_minor": 2
}

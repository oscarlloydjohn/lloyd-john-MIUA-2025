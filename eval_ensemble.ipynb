{
 "cells": [
  {
   "cell_type": "code",
   "execution_count": null,
   "metadata": {},
   "outputs": [],
   "source": [
    "from pointnet2_benny import pointnet2_cls_ssg\n",
    "from sklearn.metrics import *\n",
    "\n",
    "from final_models.combined_models import *"
   ]
  },
  {
   "cell_type": "code",
   "execution_count": 24,
   "metadata": {},
   "outputs": [],
   "source": [
    "data_path = \"/uolstore/home/student_lnxhome01/sc22olj/Compsci/year3/individual-project-COMP3931/individual-project-sc22olj/scratch-disk/full-datasets/hcampus-1.5T-cohort-holdout\""
   ]
  },
  {
   "cell_type": "code",
   "execution_count": 25,
   "metadata": {},
   "outputs": [
    {
     "name": "stdout",
     "output_type": "stream",
     "text": [
      "Csv files: ['/uolstore/home/student_lnxhome01/sc22olj/Compsci/year3/individual-project-COMP3931/individual-project-sc22olj/scratch-disk/full-datasets/hcampus-1.5T-cohort-holdout/idaSearch_3_19_2025.csv']\n"
     ]
    }
   ],
   "source": [
    "subject_list = find_subjects_parallel(data_path)\n",
    "    "
   ]
  },
  {
   "cell_type": "code",
   "execution_count": 26,
   "metadata": {},
   "outputs": [],
   "source": [
    "for subject in subject_list:\n",
    "\n",
    "    subject.data = {}\n",
    "\n",
    "    # Group\n",
    "    mapping = {\n",
    "        'CN': 0,\n",
    "        'MCI': 1,\n",
    "    }\n",
    "\n",
    "    # Get the value of the mapping, -1 if not found\n",
    "    subject.data['research_group'] = mapping.get(subject.subject_metadata['Research Group'].iloc[0], -1)\n",
    "\n",
    "    # Cloud\n",
    "    subject.data['lhcampus_pointcloud_aligned'] = np.load(os.path.join(subject.path, 'Left-Hippocampus_aligned_cropped_mesh_downsampledcloud.npy'))\n",
    "\n",
    "    # Volumes\n",
    "    volume_col = subject.aseg_stats['Volume_mm3']\n",
    "    volume_col_normalised = volume_col / volume_col.sum() * 1000\n",
    "    struct_name_col = subject.aseg_stats['StructName']\n",
    "    \n",
    "    subject.data['volumes'] = np.array(volume_col_normalised)\n",
    "    \n",
    "    subject.data['struct_names'] = np.array(struct_name_col)\n",
    "\n",
    "    # Scores\n",
    "    mmse = subject.subject_metadata['MMSE Total Score'].iloc[0]\n",
    "    gdscale = subject.subject_metadata['GDSCALE Total Score'].iloc[0]\n",
    "    faq = subject.subject_metadata['FAQ Total Score'].iloc[0]\n",
    "    npiq = subject.subject_metadata['NPI-Q Total Score'].iloc[0]\n",
    "\n",
    "    subject.data['scores'] = [mmse, gdscale, faq, npiq]\n",
    "\n",
    "    subject.data['score_names'] = ['MMSE Total Score', 'GDSCALE Total Score', 'FAQ Total Score', 'NPI-Q Total Score']"
   ]
  },
  {
   "cell_type": "markdown",
   "metadata": {},
   "source": [
    "Evaluate pointnet\n",
    "\n",
    "- Best roc for pkl on cuda: 0.702 seed 40\n",
    "- Best roc for pth on cuda: 0.702 seed 90\n",
    "- Best roc for pkl on cpu:"
   ]
  },
  {
   "cell_type": "code",
   "execution_count": 27,
   "metadata": {},
   "outputs": [
    {
     "name": "stdout",
     "output_type": "stream",
     "text": [
      "0.6086956521739131\n",
      "0.5978260869565217\n",
      "0.6304347826086956\n",
      "0.6557971014492754\n",
      "0.673913043478261\n",
      "0.6376811594202898\n",
      "0.6521739130434783\n",
      "0.6304347826086957\n",
      "0.6521739130434783\n",
      "0.6884057971014491\n",
      "0.6557971014492754\n",
      "0.6594202898550724\n",
      "0.6630434782608696\n",
      "0.6702898550724639\n",
      "0.6702898550724639\n",
      "0.6304347826086957\n",
      "0.6449275362318841\n",
      "0.6340579710144928\n",
      "0.6485507246376812\n",
      "0.6666666666666666\n",
      "0.6413043478260869\n",
      "0.6847826086956521\n",
      "0.6956521739130435\n",
      "0.6557971014492754\n",
      "0.6920289855072463\n",
      "0.6376811594202898\n",
      "0.6557971014492754\n",
      "0.6521739130434783\n",
      "0.6702898550724639\n",
      "0.6376811594202898\n",
      "0.6557971014492754\n",
      "0.6811594202898551\n",
      "0.6268115942028987\n",
      "0.644927536231884\n",
      "0.6557971014492754\n",
      "0.6413043478260869\n",
      "0.6521739130434783\n",
      "0.6666666666666666\n",
      "0.6485507246376812\n",
      "0.6594202898550725\n",
      "0.6557971014492754\n",
      "0.6630434782608696\n",
      "0.6340579710144928\n",
      "0.6920289855072463\n",
      "0.6594202898550725\n",
      "0.6557971014492754\n",
      "0.6340579710144928\n",
      "0.6231884057971016\n",
      "0.6811594202898551\n",
      "0.6811594202898551\n",
      "0.6594202898550725\n",
      "0.6485507246376812\n",
      "0.6884057971014492\n",
      "0.6123188405797101\n",
      "0.6485507246376812\n",
      "0.644927536231884\n",
      "0.644927536231884\n",
      "0.6413043478260869\n",
      "0.6775362318840579\n",
      "0.6630434782608696\n",
      "0.6557971014492754\n",
      "0.6847826086956521\n",
      "0.6702898550724637\n",
      "0.6702898550724639\n",
      "0.6268115942028986\n",
      "0.6557971014492754\n",
      "0.6630434782608695\n",
      "0.6557971014492754\n",
      "0.6884057971014492\n",
      "0.6884057971014493\n",
      "0.6123188405797102\n",
      "0.6702898550724637\n",
      "0.6521739130434783\n",
      "0.6884057971014492\n",
      "0.6847826086956521\n",
      "0.6594202898550725\n",
      "0.6521739130434783\n",
      "0.6702898550724637\n",
      "0.6557971014492754\n",
      "0.6340579710144928\n",
      "0.6739130434782609\n",
      "0.677536231884058\n",
      "0.6557971014492753\n",
      "0.6920289855072463\n",
      "0.6413043478260869\n",
      "0.644927536231884\n",
      "0.6304347826086958\n",
      "0.6847826086956522\n",
      "0.6956521739130435\n",
      "0.6304347826086957\n",
      "0.6739130434782609\n",
      "0.6521739130434783\n",
      "0.6413043478260869\n",
      "0.7028985507246377\n",
      "0.6521739130434783\n",
      "0.6920289855072465\n",
      "0.6594202898550725\n",
      "0.6956521739130435\n",
      "0.6521739130434783\n",
      "0.6630434782608696\n",
      "93\n",
      "0.7028985507246377\n"
     ]
    }
   ],
   "source": [
    "best_roc_auc = -np.inf\n",
    "\n",
    "for seed in range(100):\n",
    "\n",
    "    true = []\n",
    "    pred_probs = []\n",
    "    pred_classes = []\n",
    "\n",
    "    for subject in subject_list:\n",
    "\n",
    "        pred_research_group, pred_class, output = get_pointnet_prediction(subject.data['lhcampus_pointcloud_aligned'], 'cpu', seed=seed, mode = 'pkl')\n",
    "\n",
    "        true.append(subject.data['research_group'])\n",
    "        \n",
    "        pred_probs.append(output)\n",
    "\n",
    "        pred_classes.append(pred_class)\n",
    "\n",
    "    current_roc_auc = roc_auc_score(true, pred_probs) \n",
    "\n",
    "    print(current_roc_auc)\n",
    "\n",
    "    if current_roc_auc > best_roc_auc:\n",
    "\n",
    "        best_roc_auc = current_roc_auc\n",
    "\n",
    "        best_seed = seed\n",
    "\n",
    "print(best_seed)\n",
    "print(best_roc_auc)\n"
   ]
  },
  {
   "cell_type": "code",
   "execution_count": 28,
   "metadata": {},
   "outputs": [],
   "source": [
    "true = []\n",
    "pred_probs = []\n",
    "pred_classes = []\n",
    "\n",
    "for subject in subject_list:\n",
    "\n",
    "    pred_research_group, pred_class, output = get_pointnet_prediction(subject.data['lhcampus_pointcloud_aligned'], 'cuda', seed=best_seed, mode = 'pth')\n",
    "\n",
    "    true.append(subject.data['research_group'])\n",
    "    \n",
    "    pred_probs.append(output)\n",
    "\n",
    "    pred_classes.append(pred_class)"
   ]
  },
  {
   "cell_type": "code",
   "execution_count": 29,
   "metadata": {},
   "outputs": [
    {
     "name": "stdout",
     "output_type": "stream",
     "text": [
      "0.7028985507246377\n",
      "0.7755102040816326\n"
     ]
    },
    {
     "data": {
      "image/png": "[encoded data removed]",
      "text/plain": [
       "<Figure size 640x480 with 1 Axes>"
      ]
     },
     "metadata": {},
     "output_type": "display_data"
    }
   ],
   "source": [
    "roc_auc = roc_auc_score(true, pred_probs)\n",
    "print(roc_auc)\n",
    "\n",
    "f1 = f1_score(true, pred_classes)\n",
    "print(f1)\n",
    "\n",
    "fpr, tpr, thresholds = roc_curve(true, pred_probs)\n",
    "\n",
    "plt.plot(fpr, tpr)\n",
    "\n",
    "plt.show()"
   ]
  },
  {
   "cell_type": "markdown",
   "metadata": {},
   "source": [
    "Evaluate volumes gbdt"
   ]
  },
  {
   "cell_type": "code",
   "execution_count": 30,
   "metadata": {},
   "outputs": [],
   "source": [
    "true = []\n",
    "pred_probs = []\n",
    "pred_classes = []\n",
    "\n",
    "for subject in subject_list:\n",
    "\n",
    "    pred_research_group, pred_class, output = get_volumes_prediction(subject.data['volumes'])\n",
    "\n",
    "    true.append(subject.data['research_group'])\n",
    "    \n",
    "    pred_probs.append(output)\n",
    "\n",
    "    pred_classes.append(pred_class)"
   ]
  },
  {
   "cell_type": "code",
   "execution_count": 31,
   "metadata": {},
   "outputs": [
    {
     "name": "stdout",
     "output_type": "stream",
     "text": [
      "0.8242753623188406\n",
      "0.7931034482758621\n"
     ]
    },
    {
     "data": {
      "image/png": "[encoded data removed]",
      "text/plain": [
       "<Figure size 640x480 with 1 Axes>"
      ]
     },
     "metadata": {},
     "output_type": "display_data"
    }
   ],
   "source": [
    "roc_auc = roc_auc_score(true, pred_probs)\n",
    "print(roc_auc)\n",
    "\n",
    "f1 = f1_score(true, pred_classes)\n",
    "print(f1)\n",
    "\n",
    "fpr, tpr, thresholds = roc_curve(true, pred_probs)\n",
    "\n",
    "plt.plot(fpr, tpr)\n",
    "\n",
    "plt.show()"
   ]
  },
  {
   "cell_type": "markdown",
   "metadata": {},
   "source": [
    "Evaluate scores gbdt"
   ]
  },
  {
   "cell_type": "code",
   "execution_count": 32,
   "metadata": {},
   "outputs": [],
   "source": [
    "true = []\n",
    "pred_probs = []\n",
    "pred_classes = []\n",
    "\n",
    "for subject in subject_list:\n",
    "\n",
    "    pred_research_group, pred_class, output = get_scores_prediction(subject.data['scores'])\n",
    "\n",
    "    true.append(subject.data['research_group'])\n",
    "    \n",
    "    pred_probs.append(output)\n",
    "\n",
    "    pred_classes.append(pred_class)"
   ]
  },
  {
   "cell_type": "code",
   "execution_count": 33,
   "metadata": {},
   "outputs": [
    {
     "name": "stdout",
     "output_type": "stream",
     "text": [
      "0.8007246376811594\n",
      "0.7916666666666666\n"
     ]
    },
    {
     "data": {
      "image/png": "[encoded data removed]",
      "text/plain": [
       "<Figure size 640x480 with 1 Axes>"
      ]
     },
     "metadata": {},
     "output_type": "display_data"
    }
   ],
   "source": [
    "roc_auc = roc_auc_score(true, pred_probs)\n",
    "print(roc_auc)\n",
    "\n",
    "f1 = f1_score(true, pred_classes)\n",
    "print(f1)\n",
    "\n",
    "fpr, tpr, thresholds = roc_curve(true, pred_probs)\n",
    "\n",
    "plt.plot(fpr, tpr)\n",
    "\n",
    "plt.show()"
   ]
  },
  {
   "cell_type": "markdown",
   "metadata": {},
   "source": [
    "Evaluate ensemble"
   ]
  },
  {
   "cell_type": "code",
   "execution_count": 34,
   "metadata": {},
   "outputs": [],
   "source": [
    "true = []\n",
    "pred_probs = []\n",
    "pred_classes = []\n",
    "\n",
    "for subject in subject_list:\n",
    "\n",
    "    pred_research_group, pred_class, output = get_ensemble_prediction_avg(subject.data)\n",
    "\n",
    "    true.append(subject.data['research_group'])\n",
    "    \n",
    "    pred_probs.append(output)\n",
    "\n",
    "    pred_classes.append(pred_class)"
   ]
  },
  {
   "cell_type": "code",
   "execution_count": 35,
   "metadata": {},
   "outputs": [
    {
     "name": "stdout",
     "output_type": "stream",
     "text": [
      "0.7717391304347826\n",
      "0.7659574468085106\n"
     ]
    },
    {
     "data": {
      "image/png": "[encoded data removed]",
      "text/plain": [
       "<Figure size 640x480 with 1 Axes>"
      ]
     },
     "metadata": {},
     "output_type": "display_data"
    }
   ],
   "source": [
    "roc_auc = roc_auc_score(true, pred_probs)\n",
    "print(roc_auc)\n",
    "\n",
    "f1 = f1_score(true, pred_classes)\n",
    "print(f1)\n",
    "\n",
    "fpr, tpr, thresholds = roc_curve(true, pred_probs)\n",
    "\n",
    "plt.plot(fpr, tpr)\n",
    "\n",
    "plt.show()"
   ]
  },
  {
   "cell_type": "code",
   "execution_count": 36,
   "metadata": {},
   "outputs": [],
   "source": [
    "true = []\n",
    "pred_probs = []\n",
    "pred_classes = []\n",
    "\n",
    "models_used = []\n",
    "\n",
    "for subject in subject_list:\n",
    "\n",
    "    pred_research_group, pred_class, output, model = get_ensemble_prediction_maxprob(subject.data)\n",
    "\n",
    "    true.append(subject.data['research_group'])\n",
    "    \n",
    "    pred_probs.append(output)\n",
    "\n",
    "    pred_classes.append(pred_class)\n",
    "\n",
    "    models_used.append(model)"
   ]
  },
  {
   "cell_type": "code",
   "execution_count": 37,
   "metadata": {},
   "outputs": [
    {
     "name": "stdout",
     "output_type": "stream",
     "text": [
      "(array([0, 1, 2]), array([19,  1, 15]))\n",
      "0.7771739130434783\n",
      "0.782608695652174\n"
     ]
    },
    {
     "data": {
      "image/png": "[encoded data removed]",
      "text/plain": [
       "<Figure size 640x480 with 1 Axes>"
      ]
     },
     "metadata": {},
     "output_type": "display_data"
    }
   ],
   "source": [
    "print(np.unique(models_used, return_counts=True))\n",
    "\n",
    "roc_auc = roc_auc_score(true, pred_probs)\n",
    "print(roc_auc)\n",
    "\n",
    "f1 = f1_score(true, pred_classes)\n",
    "print(f1)\n",
    "\n",
    "fpr, tpr, thresholds = roc_curve(true, pred_probs)\n",
    "\n",
    "plt.plot(fpr, tpr)\n",
    "\n",
    "plt.show()"
   ]
  },
  {
   "cell_type": "code",
   "execution_count": null,
   "metadata": {},
   "outputs": [],
   "source": []
  }
 ],
 "metadata": {
  "kernelspec": {
   "display_name": ".venv",
   "language": "python",
   "name": "python3"
  },
  "language_info": {
   "codemirror_mode": {
    "name": "ipython",
    "version": 3
   },
   "file_extension": ".py",
   "mimetype": "text/x-python",
   "name": "python",
   "nbconvert_exporter": "python",
   "pygments_lexer": "ipython3",
   "version": "3.12.7"
  }
 },
 "nbformat": 4,
 "nbformat_minor": 2
}

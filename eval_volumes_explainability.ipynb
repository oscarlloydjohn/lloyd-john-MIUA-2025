{
 "cells": [
  {
   "cell_type": "code",
   "execution_count": null,
   "id": "ae25dd73",
   "metadata": {},
   "outputs": [],
   "source": [
    "from sklearn.metrics import *\n",
    "from tqdm import tqdm\n",
    "import numpy as np\n",
    "import pyvista as pv\n",
    "import open3d as o3d\n",
    "import shap\n",
    "from sklearn.cluster import KMeans\n",
    "\n",
    "from final_models_explainability.get_predictions import *\n",
    "\n",
    "plt.rcParams['font.family'] = 'cmr10'\n",
    "plt.rcParams['axes.formatter.use_mathtext'] = True\n",
    "plt.rcParams['font.size'] = 12"
   ]
  },
  {
   "cell_type": "code",
   "execution_count": null,
   "id": "ba71c169",
   "metadata": {},
   "outputs": [],
   "source": [
    "results_raw = np.load('volumes_eval.npz', allow_pickle=True)\n",
    "results = {key: results_raw[key] for key in results_raw.files}\n",
    "\n",
    "correct_indices = []\n",
    "\n",
    "for i in range(len(results['true'])):\n",
    "\n",
    "    if results['true'][i] == results['pred_classes'][i]:\n",
    "\n",
    "        correct_indices.append(i)\n",
    "\n",
    "filtered_results = {\n",
    "                    'true': [results['true'][i] for i in correct_indices],\n",
    "                    'pred_probs': [results['pred_probs'][i] for i in correct_indices],\n",
    "                    'data': [results['data'][i] for i in correct_indices]\n",
    "                }"
   ]
  },
  {
   "cell_type": "code",
   "execution_count": null,
   "id": "d3fc3ebe",
   "metadata": {},
   "outputs": [],
   "source": [
    "with open('final_models_explainability/volumes_gbdt.pkl', \"rb\") as f:\n",
    "    model = pickle.load(f)\n",
    "\n",
    "# Arbitrary subject for struct names\n",
    "subject = Subject(\"mri_samples/chris_t1\", None)\n",
    "\n",
    "explainer = shap.Explainer(model, feature_names=np.array(subject.aseg_stats['StructName']))\n",
    "\n",
    "shap_values = explainer(np.array(filtered_results['data']))\n",
    "\n",
    "shap.plots.beeswarm(shap_values, max_display=7, group_remaining_features=False, show=False, color_bar_label=\"Brain region volume ratio\", plot_size=(6, 4), s=20)\n",
    "\n",
    "ax = plt.gca()\n",
    "for item in ([ax.title, ax.xaxis.label, ax.yaxis.label] +\n",
    "             ax.get_xticklabels() + ax.get_yticklabels()):\n",
    "    item.set_fontsize(16)\n",
    "\n",
    "\n",
    "fig = plt.gcf()\n",
    "for cax in fig.axes:\n",
    "    if cax.get_ylabel() == \"Brain region volume ratio\":\n",
    "        cax.set_ylabel(\"Brain region volume ratio\", fontsize=16)\n",
    "        cax.tick_params(labelsize=16)\n",
    "\n",
    "\n",
    "plt.savefig(\"figures/volumes_shap.png\", dpi=300, bbox_inches='tight')\n",
    "\n",
    "plt.show()\n",
    "\n"
   ]
  },
  {
   "cell_type": "code",
   "execution_count": null,
   "id": "bccf138a",
   "metadata": {},
   "outputs": [],
   "source": []
  }
 ],
 "metadata": {
  "kernelspec": {
   "display_name": ".venv",
   "language": "python",
   "name": "python3"
  },
  "language_info": {
   "codemirror_mode": {
    "name": "ipython",
    "version": 3
   },
   "file_extension": ".py",
   "mimetype": "text/x-python",
   "name": "python",
   "nbconvert_exporter": "python",
   "pygments_lexer": "ipython3",
   "version": "3.12.7"
  }
 },
 "nbformat": 4,
 "nbformat_minor": 5
}

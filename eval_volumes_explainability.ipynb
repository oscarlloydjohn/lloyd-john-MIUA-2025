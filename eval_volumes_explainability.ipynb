{
 "cells": [
  {
   "cell_type": "code",
   "execution_count": 10,
   "id": "ae25dd73",
   "metadata": {},
   "outputs": [],
   "source": [
    "from sklearn.metrics import *\n",
    "from tqdm import tqdm\n",
    "import numpy as np\n",
    "import pyvista as pv\n",
    "import open3d as o3d\n",
    "import shap\n",
    "from sklearn.cluster import KMeans\n",
    "\n",
    "from final_models_explainability.get_predictions import *"
   ]
  },
  {
   "cell_type": "code",
   "execution_count": 27,
   "id": "ba71c169",
   "metadata": {},
   "outputs": [],
   "source": [
    "results_raw = np.load('volumes_eval.npz', allow_pickle=True)\n",
    "results = {key: results_raw[key] for key in results_raw.files}\n",
    "\n",
    "correct_indices = []\n",
    "\n",
    "for i in range(len(results['true'])):\n",
    "\n",
    "    if results['true'][i] == 1 and results['pred_classes'][i] == 1:\n",
    "\n",
    "        correct_indices.append(i)\n",
    "\n",
    "results['shap_values_list'] = results['shap_values_list'].tolist()\n",
    "\n",
    "filtered_results = {\n",
    "                    'true': [results['true'][i] for i in correct_indices],\n",
    "                    'pred_probs': [results['pred_probs'][i] for i in correct_indices],\n",
    "                    'data': [results['data'][i] for i in correct_indices],\n",
    "                    'shap_values_list': [results['shap_values_list'][i] for i in correct_indices],\n",
    "                }"
   ]
  },
  {
   "cell_type": "code",
   "execution_count": null,
   "id": "d3fc3ebe",
   "metadata": {},
   "outputs": [
    {
     "ename": "TypeError",
     "evalue": "The passed model is not callable and cannot be analyzed directly with the given masker! Model: HistGradientBoostingClassifier(class_weight='balanced', l2_regularization=0,\n                               learning_rate=0.5, max_features=0.5,\n                               max_leaf_nodes=30)",
     "output_type": "error",
     "traceback": [
      "\u001b[31m---------------------------------------------------------------------------\u001b[39m",
      "\u001b[31mTypeError\u001b[39m                                 Traceback (most recent call last)",
      "\u001b[36mCell\u001b[39m\u001b[36m \u001b[39m\u001b[32mIn[48]\u001b[39m\u001b[32m, line 6\u001b[39m\n\u001b[32m      3\u001b[39m \u001b[38;5;66;03m# Arbitrary subject for struct names\u001b[39;00m\n\u001b[32m      4\u001b[39m subject = Subject(\u001b[33m\"\u001b[39m\u001b[33mmri_samples/chris_t1\u001b[39m\u001b[33m\"\u001b[39m, \u001b[38;5;28;01mNone\u001b[39;00m)\n\u001b[32m----> \u001b[39m\u001b[32m6\u001b[39m explainer = \u001b[43mshap\u001b[49m\u001b[43m.\u001b[49m\u001b[43mExplainer\u001b[49m\u001b[43m(\u001b[49m\u001b[43mmodel\u001b[49m\u001b[43m,\u001b[49m\u001b[43m \u001b[49m\u001b[43mnp\u001b[49m\u001b[43m.\u001b[49m\u001b[43marray\u001b[49m\u001b[43m(\u001b[49m\u001b[43msubject\u001b[49m\u001b[43m.\u001b[49m\u001b[43maseg_stats\u001b[49m\u001b[43m[\u001b[49m\u001b[33;43m'\u001b[39;49m\u001b[33;43mStructName\u001b[39;49m\u001b[33;43m'\u001b[39;49m\u001b[43m]\u001b[49m\u001b[43m)\u001b[49m\u001b[43m)\u001b[49m\n\u001b[32m      8\u001b[39m shap_values = explainer(filtered_results[\u001b[33m'\u001b[39m\u001b[33mdata\u001b[39m\u001b[33m'\u001b[39m])\n\u001b[32m     10\u001b[39m \u001b[38;5;28mprint\u001b[39m(\u001b[38;5;28mlen\u001b[39m(shap_values))\n",
      "\u001b[36mFile \u001b[39m\u001b[32m~/Compsci/year3/individual-project-COMP3931/individual-project-sc22olj/.venv/lib/python3.12/site-packages/shap/explainers/_explainer.py:206\u001b[39m, in \u001b[36mExplainer.__init__\u001b[39m\u001b[34m(self, model, masker, link, algorithm, output_names, feature_names, linearize_link, seed, **kwargs)\u001b[39m\n\u001b[32m    202\u001b[39m             algorithm = \u001b[33m\"\u001b[39m\u001b[33mpermutation\u001b[39m\u001b[33m\"\u001b[39m\n\u001b[32m    204\u001b[39m     \u001b[38;5;66;03m# if we get here then we don't know how to handle what was given to us\u001b[39;00m\n\u001b[32m    205\u001b[39m     \u001b[38;5;28;01melse\u001b[39;00m:\n\u001b[32m--> \u001b[39m\u001b[32m206\u001b[39m         \u001b[38;5;28;01mraise\u001b[39;00m \u001b[38;5;167;01mTypeError\u001b[39;00m(\n\u001b[32m    207\u001b[39m             \u001b[33m\"\u001b[39m\u001b[33mThe passed model is not callable and cannot be analyzed directly with the given masker! Model: \u001b[39m\u001b[33m\"\u001b[39m\n\u001b[32m    208\u001b[39m             + \u001b[38;5;28mstr\u001b[39m(model)\n\u001b[32m    209\u001b[39m         )\n\u001b[32m    211\u001b[39m \u001b[38;5;66;03m# build the right subclass\u001b[39;00m\n\u001b[32m    212\u001b[39m \u001b[38;5;28;01mif\u001b[39;00m algorithm == \u001b[33m\"\u001b[39m\u001b[33mexact\u001b[39m\u001b[33m\"\u001b[39m:\n",
      "\u001b[31mTypeError\u001b[39m: The passed model is not callable and cannot be analyzed directly with the given masker! Model: HistGradientBoostingClassifier(class_weight='balanced', l2_regularization=0,\n                               learning_rate=0.5, max_features=0.5,\n                               max_leaf_nodes=30)"
     ]
    }
   ],
   "source": [
    "with open('final_models_explainability/volumes_gbdt.pkl', \"rb\") as f:\n",
    "    model = pickle.load(f)\n",
    "\n",
    "# Arbitrary subject for struct names\n",
    "subject = Subject(\"mri_samples/chris_t1\", None)\n",
    "\n",
    "explainer = shap.Explainer(model, np.array(subject.aseg_stats['StructName']))\n",
    "\n",
    "shap_values = explainer(filtered_results['data'])\n",
    "\n",
    "print(len(shap_values))\n",
    "\n",
    "shap.plots.bar(shap_values[0], max_display=10)\n",
    "\n",
    "shap.summary_plot(shap_values, filtered_results['data'])"
   ]
  },
  {
   "cell_type": "code",
   "execution_count": null,
   "id": "bccf138a",
   "metadata": {},
   "outputs": [],
   "source": []
  }
 ],
 "metadata": {
  "kernelspec": {
   "display_name": ".venv",
   "language": "python",
   "name": "python3"
  },
  "language_info": {
   "codemirror_mode": {
    "name": "ipython",
    "version": 3
   },
   "file_extension": ".py",
   "mimetype": "text/x-python",
   "name": "python",
   "nbconvert_exporter": "python",
   "pygments_lexer": "ipython3",
   "version": "3.12.7"
  }
 },
 "nbformat": 4,
 "nbformat_minor": 5
}
